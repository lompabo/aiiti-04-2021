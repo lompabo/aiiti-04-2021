{
 "cells": [
  {
   "cell_type": "code",
   "execution_count": 1,
   "metadata": {},
   "outputs": [
    {
     "name": "stdout",
     "output_type": "stream",
     "text": [
      "Archive:  data/hpc.csv.zip\n",
      "  inflating: data/hpc.csv            \n",
      "Archive:  data/vegashrinker.csv.zip\n",
      "  inflating: data/vegashrinker.csv   \n"
     ]
    }
   ],
   "source": [
    "!unzip -o data/hpc.csv.zip -d data\n",
    "!unzip -o data/vegashrinker.csv.zip -d data"
   ]
  },
  {
   "cell_type": "code",
   "execution_count": 3,
   "metadata": {
    "slideshow": {
     "slide_type": "skip"
    }
   },
   "outputs": [],
   "source": [
    "# ============================================================\n",
    "# Notebook setup\n",
    "# ============================================================\n",
    "\n",
    "# Control figure size\n",
    "interactive_figures = False\n",
    "if interactive_figures:\n",
    "    # Normal behavior\n",
    "    %matplotlib widget\n",
    "    figsize=(9, 3)\n",
    "else:\n",
    "    # PDF export behavior\n",
    "    figsize=(14, 3)\n",
    "\n",
    "from util import nn\n",
    "import numpy as np\n",
    "from matplotlib import pyplot as plt\n",
    "import pandas as pd\n",
    "\n",
    "# Load HPC data\n",
    "data_folder = 'data'\n",
    "hpc = pd.read_csv(data_folder+ '/hpc.csv', parse_dates=['timestamp'])\n",
    "\n",
    "# Identify input columns\n",
    "hpc_in = hpc.columns[1:-1]\n",
    "\n",
    "# Standardization\n",
    "tr_end, val_end = 3000, 4500\n",
    "hpcs = hpc.copy()\n",
    "tmp = hpcs.iloc[:tr_end]\n",
    "hpcs[hpc_in] = (hpcs[hpc_in] - tmp[hpc_in].mean()) / tmp[hpc_in].std()\n",
    "\n",
    "# Training, validation, and test set\n",
    "trdata = hpcs.iloc[:tr_end]\n",
    "valdata = hpcs.iloc[tr_end:val_end]\n",
    "tsdata = hpcs.iloc[val_end:]\n",
    "\n",
    "# Anomaly labels\n",
    "hpc_labels = pd.Series(index=hpc.index, data=(hpc['anomaly'] != 0), dtype=int)\n",
    "\n",
    "# Cost model\n",
    "c_alarm, c_missed, tolerance = 1, 5, 12\n",
    "cmodel =  nn.HPCMetrics(c_alarm, c_missed, tolerance)"
   ]
  },
  {
   "cell_type": "markdown",
   "metadata": {
    "slideshow": {
     "slide_type": "slide"
    }
   },
   "source": [
    "# Density Estimation with Neural Models"
   ]
  },
  {
   "cell_type": "markdown",
   "metadata": {
    "slideshow": {
     "slide_type": "subslide"
    }
   },
   "source": [
    "## Density Estimation vs Autoencoders\n",
    "\n",
    "**Anomaly detection can be formulated as density estimation**\n",
    "\n",
    "* This is probably _the cleanest formulation_ for the problem\n",
    "* ...And usually leads to good results\n",
    "\n",
    "**KDE as an estimation technique**\n",
    "\n",
    "* ...Works reasonably well for low-dimensional data\n",
    "* ...Becomes _slower and more data hungry_ for higher-dimensional data\n",
    "\n",
    "**Autoencoders overcome some of these limitations**\n",
    "\n",
    "* They are _faster and less data hungry_ for high-dimensional data\n",
    "* They can provide _additional insight_ in the anomalies\n",
    "* ...But they are usually _worse_ than D.E. in terms of _pure detection power_\n",
    "\n",
    "**Let's try to understand why this may be the case...**"
   ]
  },
  {
   "cell_type": "markdown",
   "metadata": {
    "slideshow": {
     "slide_type": "subslide"
    }
   },
   "source": [
    "## Density Estimation vs Autoencoders\n",
    "\n",
    "**Anomaly Detection based on D.E. checks whether:**\n",
    "\n",
    "$$\n",
    "- \\log f({\\bf x}, \\lambda) \\geq \\theta\n",
    "$$\n",
    "\n",
    "* Where $\\bf x$ is the input vector, $f$ the density estimator, and $\\lambda$ its parameter vector\n",
    "* $\\theta$ is the anomaly detection threshold\n",
    "\n",
    "**Anomaly Detection based on autoencoders usually relies on:**\n",
    "\n",
    "$$\n",
    "\\|g({\\bf x}, \\lambda) - {\\bf x}\\|_2^2 \\geq \\theta^\\prime\n",
    "$$\n",
    "\n",
    "* Where $g$ is the autoencoder, with parameter vector $\\lambda$\n",
    "* $\\theta^\\prime$ is again a suitably-chosen detection threshold"
   ]
  },
  {
   "cell_type": "markdown",
   "metadata": {
    "slideshow": {
     "slide_type": "subslide"
    }
   },
   "source": [
    "## Density Estimation vs Autoencoders\n",
    "\n",
    "**The detection condition for autoencoders admits a probabilistic interpretation**\n",
    "\n",
    "Like we did for linear regression, we can rewrite:\n",
    "\n",
    "$$\n",
    "\\|g({\\bf x}, \\lambda) - {\\bf x}\\|_2^2 \\longrightarrow\n",
    "\\sum_{j=1}^m (g_j({\\bf x}, \\lambda) - x_j)^2 \\longrightarrow\n",
    "\\log \\prod_{j=1}^m \\exp\\left((g_j({\\bf x}, \\lambda) - x_j)^2\\right)\n",
    "$$\n",
    "\n",
    "From which, with an _affine transformation_, for some fixed $\\sigma$ we get:\n",
    "\n",
    "$$\n",
    "\\log \\frac{1}{\\sigma\\sqrt{2\\pi}} + \\frac{1}{\\sigma^2} \\log \\prod_{j=1}^m \\exp \\left((g_j({\\bf x}, \\lambda) - x_j)^2\\right) \\quad \\longrightarrow\\\\\n",
    "\\longrightarrow\\quad \\log \\prod_{j=1}^m \\frac{1}{\\sigma\\sqrt{2\\pi}} \\exp \\left(\\left(\\frac{g_j({\\bf x}, \\lambda) - x_j}{\\sigma}\\right)^2\\right) \n",
    "$$\n",
    "\n",
    "* The transformation preserves all the function optima"
   ]
  },
  {
   "cell_type": "markdown",
   "metadata": {
    "slideshow": {
     "slide_type": "subslide"
    }
   },
   "source": [
    "## Density Estimation vs Autoencoders\n",
    "\n",
    "**Therefore, optimizing the MSE is equivalent to optimizing**\n",
    "\n",
    "$$\n",
    "-\\log \\prod_{j=1}^m \\varphi (x_j \\mid g_j({\\bf x}, \\lambda), \\sigma)\n",
    "$$\n",
    "\n",
    "* I.e. the log likelihood (estimated probability of the data)...\n",
    "* ...Assuming that the prediction for each $x_i$ is _independent and normally distributed_\n",
    "* ...with _mean_ equal to the predictions $g_j({\\bf x}, \\lambda)$ and fixed _standard deviation_ $\\sigma$\n",
    "\n",
    "**This is similar to what we observed for Linear Regression**\n",
    "\n",
    "* In LR, we assume normality, independence and fixed variance _on the samples_\n",
    "* With autoencoders, we do it _also on the features_"
   ]
  },
  {
   "cell_type": "markdown",
   "metadata": {
    "slideshow": {
     "slide_type": "subslide"
    }
   },
   "source": [
    "## Density Estimation vs Autoencoders\n",
    "\n",
    "**The bottomline**\n",
    "\n",
    "* Even with autoencoders, at training time we _solve a density estimation problem_\n",
    "* ...But we do it _with some limiting assumptions_\n",
    "\n",
    "> **This is why D.E.-based anomaly detection _tends to work better_**\n",
    "\n",
    "**So we have**\n",
    "\n",
    "* Either a density estimator with issues on high-dimensional data (KDE)\n",
    "* ...Or a not-quite D.E. with good support for high-dimensional data  (autoencoders)\n",
    "\n",
    "\n",
    "> **Can we get the best of both worlds?**"
   ]
  },
  {
   "cell_type": "markdown",
   "metadata": {
    "slideshow": {
     "slide_type": "subslide"
    }
   },
   "source": [
    "## Flow Models\n",
    "\n",
    "**Ideally, we wish _a neural approach for density estimation_**\n",
    "\n",
    "There are only a handful of approaches, often referred to as _flow models_:\n",
    "\n",
    "* [Normalizing Flows](https://arxiv.org/abs/1505.05770)\n",
    "* [Real Non-Volume Preserving transformations (Real NVP)](https://arxiv.org/abs/1605.08803)\n",
    "* [Generative Flow with 1x1 convolutions (Glow)](https://arxiv.org/abs/1807.03039)\n",
    "\n",
    "**These are all (fairly) advanced and recent approaches**\n",
    "\n",
    "* Main idea: transforming _a simple (and known) probability distribution_...\n",
    "* ..._Into a complex (and unknown) distribution_ that matches that of the available data\n",
    "\n",
    "As many ML models, they are trained for maximum likelihood\n",
    "\n",
    "* I.e. to maximize the estimated probability of the available data"
   ]
  },
  {
   "cell_type": "markdown",
   "metadata": {
    "slideshow": {
     "slide_type": "subslide"
    }
   },
   "source": [
    "## Flow Models\n",
    "\n",
    "**All flow models rely on the _change of variable formula_**\n",
    "\n",
    "* Let $x$ be a random variable representing the source of our data\n",
    "* Let $p_x(x)$ be its (unknown) density function\n",
    "* Let $z$ be a random _latent variable_ with known distribution $p_z$\n",
    "* Let $f$ be a _bijective_ (i.e. invertible) transformation\n",
    "\n",
    "Then, the change of variable formula states that:\n",
    "\n",
    "$$\n",
    "p_x(x) = p_z(f(x)) \\left| \\det \\left(\\frac{\\partial f(x)}{\\partial x^T} \\right)\\right|\n",
    "$$\n",
    "\n",
    "* Where $\\det$ is the determinant and $\\partial f / \\partial x^T$ is the Jacobian of $f$\n",
    "\n",
    "**The formula links the two distributions via _the flow model $f$_**"
   ]
  },
  {
   "cell_type": "markdown",
   "metadata": {
    "slideshow": {
     "slide_type": "subslide"
    }
   },
   "source": [
    "## Flow  Models\n",
    "\n",
    "**Let's consider how we can use the formula**\n",
    "\n",
    "$$\n",
    "p_x(x) = p_z(f(x)) \\left| \\det \\left(\\frac{\\partial f(x)}{\\partial x^T} \\right)\\right|\n",
    "$$\n",
    "\n",
    "* Given _an example $x$_ (e.g. from our dataset)\n",
    "* We _compute the mapping $f(x)$_, i.e. the corresponding value for the latent variable $z$\n",
    "* ...Plus the _determinant of the Jacobian_ $\\partial f / \\partial x^T$ in $x$\n",
    "* Then we can use the formula to compute the _probability of the example_\n",
    "\n",
    "**The challenge is defining the transformation $f$ (i.e. the mapping)**\n",
    "\n",
    "* It must be _invertible_ (for the formula to hold)\n",
    "* It must be _non-linear_ (to handle any distribution)\n",
    "* It should allow for an _easy computation of the determinant_"
   ]
  },
  {
   "cell_type": "markdown",
   "metadata": {
    "slideshow": {
     "slide_type": "subslide"
    }
   },
   "source": [
    "## Real NVP\n",
    "\n",
    "**We will use [Real Non-Volume Preserving transformations](https://arxiv.org/abs/1605.08803) as an example**\n",
    "\n",
    "Real NVPs are _a type of neural network_\n",
    "\n",
    "* _Input:_ a vector $x$ representing an example\n",
    "* _Output:_ a vector $z$ of values for the latent variable\n",
    "* _Key property:_ $z$ should have a chosen probability distribution\n",
    "* ...Typically: standard Normal distribution for each $z_i$:\n",
    "\n",
    "$$\n",
    "z \\sim \\mathcal{N}({\\bf 0}, I)\n",
    "$$\n",
    "\n",
    "In other words\n",
    "\n",
    "* $z$ follows a multivariate distribution\n",
    "* ...But the covariance matrix is diagonal, i.e. each component is independent"
   ]
  },
  {
   "cell_type": "markdown",
   "metadata": {
    "slideshow": {
     "slide_type": "subslide"
    }
   },
   "source": [
    "## Real NVP\n",
    "\n",
    "**A Real NVP architecture consists of a stack of _affine coupling layers_**\n",
    "\n",
    "Each layer treats its input $x$ as split into two components, i.e. $x = (x^1, x^2)$\n",
    "\n",
    "* One component is _passed forward_ as it is\n",
    "* The second is processed via an _affine transformation_\n",
    "\n",
    "$$\\begin{align}\n",
    "y^1 &= x^1 \\\\\n",
    "y^2 &= e^{s(x^1)} \\odot x^2 + t(x^1)\n",
    "\\end{align}$$\n",
    "\n",
    "**The affine transformation is parameterized with two functions:**\n",
    "\n",
    "* $x^2$ is _scaled_ using $e^{s(x^1)}$, $x^2$ is _translated_ using $t(x^1)$\n",
    "* $\\odot$ is the element-wise product (Hadamard product)\n",
    "\n",
    "Since we have functions rather than fixed vectors, _the transformation is non-linear_"
   ]
  },
  {
   "cell_type": "markdown",
   "metadata": {
    "slideshow": {
     "slide_type": "subslide"
    }
   },
   "source": [
    "## Real NVP - Affine Coupling Layers\n",
    "\n",
    "**Visually, each layer has the following _compute graph:_**\n",
    "\n",
    "<center><img src=\"assets/RealNVP-fwd.png\" width=\"250px\"/></center>\n",
    "\n",
    "* We are using part of the input (i.e. $x^1$)...\n",
    "* ...To transform the remaining part (i.e. $x^2$)\n",
    "\n",
    "**Both $s$ and $t$ are usually implemented as Multilayer Perceptrons**\n",
    "\n",
    "* I.e. pretend there are a few fully connected layers when you see $s$ and $t$"
   ]
  },
  {
   "cell_type": "markdown",
   "metadata": {
    "slideshow": {
     "slide_type": "subslide"
    }
   },
   "source": [
    "## Real NVP - Affine Coupling Layers\n",
    "\n",
    "**Each affine coupling layer is _easy to invert_**\n",
    "\n",
    "<center><img src=\"assets/RealNVP-bwd.png\" width=\"250px\"/></center>\n",
    "\n",
    "Since part of the input (i.e. $x^1$) has been passed forward unchanged, we have that:\n",
    "\n",
    "$$\\begin{align}\n",
    "x^1 &= y^1 \\\\\n",
    "x^2 &= (y^2 - t(y^1)) \\oslash e^{s(y^1)}\n",
    "\\end{align}$$\n",
    "\n",
    "* $\\oslash$ is the element-wise division"
   ]
  },
  {
   "cell_type": "markdown",
   "metadata": {
    "slideshow": {
     "slide_type": "subslide"
    }
   },
   "source": [
    "## Real NVP - Affine Coupling Layers\n",
    "\n",
    "**The _determinant_ of each layer is easy to compute**\n",
    "\n",
    "The Jacobian of the transformation is:\n",
    "\n",
    "$$\n",
    "\\frac{\\partial y}{\\partial x^T} = \\left(\\begin{array}{cc}\n",
    "I & 0 \\\\\n",
    "\\frac{\\partial t(x^1)}{\\partial x^T} & \\text{diag}(e^{s(x^1)})\n",
    "\\end{array}\\right)\n",
    "$$\n",
    "\n",
    "The most (only, actually) important thing is that _the matrix is triangular:_\n",
    "\n",
    "* ...Hence, its determinant is the product of the terms on the main diagonal:\n",
    "\n",
    "$$\n",
    "\\det\\left(\\frac{\\partial y}{\\partial x^T}\\right) = \\prod_{j \\in I_{x_1}} e^{s(x^1_i)} = \\exp \\left( \\sum_{j \\in I_{x_1}} s(x^1_i) \\right)\n",
    "$$"
   ]
  },
  {
   "cell_type": "markdown",
   "metadata": {
    "slideshow": {
     "slide_type": "subslide"
    }
   },
   "source": [
    "## Real NVP - Considerations\n",
    "\n",
    "**Overall, we have a transformation that:**\n",
    "\n",
    "* ...Is _non-linear_, and can be made arbitrarily _deep_\n",
    "* ...Is _Invertible_ (so as to allow application of the change of variable formula)\n",
    "* ...Is well suited for _determinant computation_\n",
    "\n",
    "**Depth and non-linearity are very important:**\n",
    "\n",
    "* The whole approach works _only if_ we can construct a mapping between $x$ and $z$...\n",
    "* ...I.e. if we can transform one probability distribution into the other\n",
    "\n",
    "A poor mapping will lead to poor estimates\n",
    "\n"
   ]
  },
  {
   "cell_type": "markdown",
   "metadata": {
    "slideshow": {
     "slide_type": "subslide"
    }
   },
   "source": [
    "## Real NVP - Considerations\n",
    "\n",
    "**At training time we maximize the log likelihood...**\n",
    "\n",
    "...Hence we care about _log probabilities_:\n",
    "\n",
    "$$\n",
    "\\log p_x(x) = \\log p_z(f(x)) +\\log\\, \\left| \\det \\left(\\frac{\\partial f(x)}{\\partial x^T} \\right)\\right|\n",
    "$$\n",
    "\n",
    "* If we choose a Normal distribution for $z$, the log _cancels all exponentials in the formula_\n",
    "* I.e. the one in the Normal PDF and the one in the determinant computation\n",
    "\n",
    "**In general, we want to make sure that all variables are transformed**\n",
    "\n",
    "* We need to be careful to define the $x^1, x^2$ components on different layers...\n",
    "* ...So that no variable is passed forward unchanged along the whole network\n",
    "\n",
    "A simple approach: _alternate the roles_ (i.e. swap the role of $x^1, x^2$ at every layer)"
   ]
  },
  {
   "cell_type": "markdown",
   "metadata": {
    "slideshow": {
     "slide_type": "subslide"
    }
   },
   "source": [
    "## Real NVP as Generative Models\n",
    "\n",
    "**Since Real NVPs are invertible, they can be used as _generative models_**\n",
    "\n",
    "Formally, they can _sample_ from the distribution they have learned\n",
    "\n",
    "* We just need to sample from $p_z$, i.e. on the latent space\n",
    "  - ...And this is easy since the distribution is simple an known\n",
    "* Then we go through the whole architecture _backwards_\n",
    "  - ...Using the inverted version of the affine coupling layers\n",
    "\n",
    "**In fact, generating data is often their _primary purpose_**\n",
    "\n",
    "They can (or could) be used for:\n",
    "\n",
    "* Super resolution\n",
    "* Procedural content generation\n",
    "* Data augmentation (relevant in an industrial context)\n",
    "\n",
    "Recent versions allow for [data generation with controlled attributes](https://openai.com/blog/glow/)"
   ]
  },
  {
   "cell_type": "markdown",
   "metadata": {
    "slideshow": {
     "slide_type": "slide"
    }
   },
   "source": [
    "# Implementing Real NVPs"
   ]
  },
  {
   "cell_type": "markdown",
   "metadata": {
    "slideshow": {
     "slide_type": "subslide"
    }
   },
   "source": [
    "## Implementing Real NVPs\n",
    "\n",
    "**We will now see how to implement Real NVPs**\n",
    "\n",
    "The basis from our code comes from the [official keras documentation](https://keras.io/examples/generative/real_nvp/)\n",
    "\n",
    "* It will rely partially on low-level APIs of keras\n",
    "\n",
    "We start by importing several packages:\n",
    "\n",
    "```python\n",
    "import tensorflow as tf\n",
    "import tensorflow_probability as tfp\n",
    "from tensorflow.keras.layers import Dense\n",
    "from tensorflow.keras.callbacks import EarlyStopping\n",
    "from tensorflow.keras.regularizers import l2\n",
    "from sklearn.datasets import make_moons\n",
    "```\n",
    "\n",
    "* `tensorflow_probability` is a tensorflow extension for probabilistic computations\n",
    "* ...And allows for easy manipulation of probability distributions"
   ]
  },
  {
   "cell_type": "markdown",
   "metadata": {
    "slideshow": {
     "slide_type": "subslide"
    }
   },
   "source": [
    "## Affine Coupling Layer\n",
    "\n",
    "**Then we define a function to build each _affine coupling layer_:**\n",
    "\n",
    "```python\n",
    "def coupling(input_shape, nunits=64, nhidden=2, reg=0.01):\n",
    "    assert(nhidden >= 0)    \n",
    "    x = keras.layers.Input(shape=input_shape)\n",
    "    # Build the layers for the t transformation (translation)\n",
    "    t = x\n",
    "    for i in range(nhidden):\n",
    "        t = Dense(nunits, activation=\"relu\", kernel_regularizer=l2(reg))(t)\n",
    "    t = Dense(input_shape, activation=\"linear\", kernel_regularizer=l2(reg))(t)\n",
    "    # Build the layers for the s transformation (scale)\n",
    "    s = x\n",
    "    for i in range(nhidden):\n",
    "        s = Dense(nunits, activation=\"relu\", kernel_regularizer=l2(reg))(s)\n",
    "    s = Dense(input_shape, activation=\"tanh\", kernel_regularizer=l2(reg))(s)\n",
    "    # Return the layers, wrapped in a keras Model object\n",
    "    return keras.Model(inputs=x, outputs=[s, t])\n",
    "```"
   ]
  },
  {
   "cell_type": "markdown",
   "metadata": {
    "slideshow": {
     "slide_type": "subslide"
    }
   },
   "source": [
    "## Affine Coupling Layer\n",
    "\n",
    "**This part of the code builds _the translation (i.e. $t$) function:_**\n",
    "\n",
    "```python\n",
    "def coupling(input_shape, nunits=64, nhidden=2, reg=0.01):\n",
    "    ...   \n",
    "    x = keras.layers.Input(shape=input_shape)\n",
    "    t = x\n",
    "    for i in range(nhidden):\n",
    "        t = Dense(nunits, activation=\"relu\", kernel_regularizer=l2(reg))(t)\n",
    "    t = Dense(input_shape, activation=\"linear\", kernel_regularizer=l2(reg))(t)\n",
    "    ...\n",
    "```\n",
    "\n",
    "* It's _just a Multi-Layer Perceptron_ built using the functional API\n",
    "* The output represents an offset, hence the \"linear\" activation function in the last layer"
   ]
  },
  {
   "cell_type": "markdown",
   "metadata": {
    "slideshow": {
     "slide_type": "subslide"
    }
   },
   "source": [
    "## Affine Coupling Layer\n",
    "\n",
    "**This part of the code builds _the translation (i.e. $t$) function:_**\n",
    "\n",
    "```python\n",
    "def coupling(input_shape, nunits=64, nhidden=2, reg=0.01):\n",
    "    ...   \n",
    "    x = keras.layers.Input(shape=input_shape)\n",
    "    t = x\n",
    "    for i in range(nhidden):\n",
    "        t = Dense(nunits, activation=\"relu\", kernel_regularizer=l2(reg))(t)\n",
    "    t = Dense(input_shape, activation=\"linear\", kernel_regularizer=l2(reg))(t)\n",
    "    ...\n",
    "```\n",
    "\n",
    "* The output and input have the same shape, but $x^1$ and $x^2$ may have _different size_\n",
    "* This will be resolved by _masking_ some of the output of the affine layer\n",
    "* ...The masked portions _will have no effect_, with effectively the same result\n",
    "* The main drawback is higher memory consumption (and computational cost)"
   ]
  },
  {
   "cell_type": "markdown",
   "metadata": {
    "slideshow": {
     "slide_type": "subslide"
    }
   },
   "source": [
    "## Affine Coupling Layer\n",
    "\n",
    "**This part of the code builds _the scaling (i.e. $s$) function:_**\n",
    "\n",
    "```python\n",
    "def coupling(input_shape, nunits=64, nhidden=2, reg=0.01):\n",
    "    ...   \n",
    "    x = keras.layers.Input(shape=input_shape)\n",
    "    ...\n",
    "    s = x\n",
    "    for i in range(nhidden):\n",
    "        s = Dense(nunits, activation=\"relu\", kernel_regularizer=l2(reg))(s)\n",
    "    s = Dense(input_shape, activation=\"tanh\", kernel_regularizer=l2(reg))(s)\n",
    "    ...\n",
    "```\n",
    "\n",
    "* Another MLP, with a bipolar sigmoid (\"tanh\") activation function in the output layer\n",
    "* Using \"tanh\" limits the amount of scaling per affine coupling layer\n",
    "* ...Which in turn makes training more numerically stable\n",
    "* For the same reason, we use L2 regularizers on the MPL weights"
   ]
  },
  {
   "cell_type": "markdown",
   "metadata": {
    "slideshow": {
     "slide_type": "subslide"
    }
   },
   "source": [
    "## RNVP Model\n",
    "\n",
    "**Then, we define a Real NVP architecture by subclassing keras.model**\n",
    "\n",
    "```python\n",
    "class RealNVP(keras.Model):\n",
    "    def __init__(self, input_shape, num_coupling, units_coupling=32, depth_coupling=0,\n",
    "            reg_coupling=0.01): ...\n",
    "    @property\n",
    "    def metrics(self): ...\n",
    "    def call(self, x, training=True): ...\n",
    "    def log_loss(self, x): ...\n",
    "    def score_samples(self, x): ...\n",
    "    def train_step(self, data): ...\n",
    "    def test_step(self, data): ...\n",
    "```"
   ]
  },
  {
   "cell_type": "markdown",
   "metadata": {},
   "source": [
    "* We will now discuss _the most important methods_\n",
    "* Sometimes with a few  simplifications (for sake of clarity)"
   ]
  },
  {
   "cell_type": "markdown",
   "metadata": {
    "slideshow": {
     "slide_type": "subslide"
    }
   },
   "source": [
    "## RNVP Model\n",
    "\n",
    "**The `__init__` method (constructor) initializes the internal fields**\n",
    "\n",
    "```python\n",
    "    def __init__(self, input_shape, num_coupling, units_coupling=32, depth_coupling=0,\n",
    "            reg_coupling=0.01):\n",
    "        super(RealNVP, self).__init__()\n",
    "        self.distribution = tfp.distributions.MultivariateNormalDiag(\n",
    "            loc=np.zeros(input_shape, dtype=np.float32),\n",
    "            scale_diag=np.ones(input_shape, dtype=np.float32)\n",
    "        )\n",
    "        half_n = int(np.ceil(input_shape/2))\n",
    "        m1 = ([0, 1] * half_n)[:input_shape]\n",
    "        m2 = ([1, 0] * half_n)[:input_shape]\n",
    "        self.masks = np.array([m1, m2] * (num_coupling // 2), dtype=np.float32)\n",
    "        self.loss_tracker = keras.metrics.Mean(name=\"loss\")\n",
    "        self.layers_list = [coupling(input_shape, units_coupling, depth_coupling, reg_coupling)\n",
    "                            for i in range(num_coupling)]\n",
    "```"
   ]
  },
  {
   "cell_type": "markdown",
   "metadata": {
    "slideshow": {
     "slide_type": "subslide"
    }
   },
   "source": [
    "## RNVP Model\n",
    "\n",
    "**The `__init__` method (constructor) initializes the internal fields**\n",
    "\n",
    "```python\n",
    "    def __init__(self, input_shape, num_coupling, units_coupling=32, depth_coupling=0,\n",
    "            reg_coupling=0.01):\n",
    "        ...\n",
    "        self.distribution = tfp.distributions.MultivariateNormalDiag(\n",
    "            loc=np.zeros(input_shape, dtype=np.float32),\n",
    "            scale_diag=np.ones(input_shape, dtype=np.float32)\n",
    "        )\n",
    "        ...\n",
    "```\n",
    "\n",
    "Here we build a `tfp` object to handle the known distribution\n",
    "\n",
    "* As it is customary, we chosen a Multivariate Normal distribution\n",
    "* ...With independent components, zero mean, and unary standard deviation"
   ]
  },
  {
   "cell_type": "markdown",
   "metadata": {
    "slideshow": {
     "slide_type": "subslide"
    }
   },
   "source": [
    "## RNVP Model\n",
    "\n",
    "**The `__init__` method (constructor) initializes the internal fields**\n",
    "\n",
    "```python\n",
    "    def __init__(self, input_shape, num_coupling, units_coupling=32, depth_coupling=0,\n",
    "            reg_coupling=0.01):\n",
    "        ...\n",
    "        half_n = int(np.ceil(input_shape/2))\n",
    "        m1 = ([0, 1] * half_n)[:input_shape]\n",
    "        m2 = ([1, 0] * half_n)[:input_shape]\n",
    "        self.masks = np.array([m1, m2] * (num_coupling // 2), dtype=np.float32)\n",
    "        ...\n",
    "```\n",
    "\n",
    "Here we build the masks to discriminate the $x_1$ and $x_2$ components at each layer\n",
    "\n",
    "* As in the original RNVP paper, we use an _alternating checkboard pattern_\n",
    "  - I.e. we take even indexes at one layer, and odd indexes at the next layer\n",
    "* ...So that all variables are transformed, if we have at least 2 affine coupling layers"
   ]
  },
  {
   "cell_type": "markdown",
   "metadata": {
    "slideshow": {
     "slide_type": "subslide"
    }
   },
   "source": [
    "## RNVP Model\n",
    "\n",
    "**The `__init__` method (constructor) initializes the internal fields**\n",
    "\n",
    "```python\n",
    "    def __init__(self, input_shape, num_coupling, units_coupling=32, depth_coupling=0,\n",
    "            reg_coupling=0.01):\n",
    "        ...\n",
    "        self.layers_list = [coupling(input_shape, units_coupling, depth_coupling, reg_coupling)\n",
    "                            for i in range(num_coupling)]\n",
    "```\n",
    "\n",
    "Finally, here we build the model layers\n",
    "\n",
    "* Each one consists in an affine coupling\n",
    "* ...And contains in turn two Multi Layer Perceptrons\n",
    "* Recall that we need at least 2 affine couplings to transform all variables"
   ]
  },
  {
   "cell_type": "markdown",
   "metadata": {
    "slideshow": {
     "slide_type": "subslide"
    }
   },
   "source": [
    "## RNVP Model\n",
    "\n",
    "**The `call` method handles the transformation, in both directions**\n",
    "\n",
    "```python\n",
    "def call(self, x, training=True):\n",
    "    log_det_inv, direction = 0, 1\n",
    "    if training: direction = -1\n",
    "    for i in range(self.num_coupling)[::direction]:\n",
    "        x_masked = x * self.masks[i]\n",
    "        reversed_mask = 1 - self.masks[i]\n",
    "        s, t = self.layers_list[i](x_masked)\n",
    "        s, t = s*reversed_mask, t*reversed_mask\n",
    "        gate = (direction - 1) / 2\n",
    "        x = reversed_mask * (x * tf.exp(direction * s) + direction * t * tf.exp(gate * s)) \\\n",
    "            + x_masked\n",
    "        log_det_inv += gate * tf.reduce_sum(s, axis=1)\n",
    "    return x, log_det_inv\n",
    "```\n",
    "\n"
   ]
  },
  {
   "cell_type": "markdown",
   "metadata": {
    "slideshow": {
     "slide_type": "subslide"
    }
   },
   "source": [
    "## RNVP Model\n",
    "\n",
    "**The `call` method handles the transformation, in both directions**\n",
    "\n",
    "```python\n",
    "def call(self, x, training=True):\n",
    "    log_det_inv, direction = 0, 1\n",
    "    if training: direction = -1\n",
    "    for i in range(self.num_coupling)[::direction]:\n",
    "    ...\n",
    "```\n",
    "\n",
    "The `direction` variable controls the direction of the transformation\n",
    "\n",
    "* By default, this implementation transforms $z$ into $x$\n",
    "  - I.e. it works _backwards_, compared to our theoretical discussion\n",
    "* This is the case since RNVP are often mainly used as _generative models_\n",
    "* At training time, we always want to transform $x$ into $z$\n",
    "* ...And this is why `direction = -1` when `training` is `True`"
   ]
  },
  {
   "cell_type": "markdown",
   "metadata": {
    "slideshow": {
     "slide_type": "subslide"
    }
   },
   "source": [
    "## RNVP Model\n",
    "\n",
    "**The `call` method handles the transformation, in both directions**\n",
    "\n",
    "```python\n",
    "def call(self, x, training=True):\n",
    "    for i in range(self.num_coupling)[::direction]:\n",
    "        x_masked = x * self.masks[i]\n",
    "        reversed_mask = 1 - self.masks[i]\n",
    "        s, t = self.layers_list[i](x_masked)\n",
    "        s, t = s*reversed_mask, t*reversed_mask\n",
    "        ...\n",
    "```\n",
    "\n",
    "* Here we mask $x$, i.e. filter the $x_1$ subset of variables\n",
    "* ...We compute the value of the $s$ and $t$ function\n",
    "* Then we filter such values using a the reversed (i.e. negated) mask\n",
    "* I.e. prepare $s$ and $t$ for their application to the $x_2$ subset"
   ]
  },
  {
   "cell_type": "markdown",
   "metadata": {
    "slideshow": {
     "slide_type": "subslide"
    }
   },
   "source": [
    "## RNVP Model\n",
    "\n",
    "**The `call` method handles the transformation, in both directions**\n",
    "\n",
    "```python\n",
    "def call(self, x, training=True):\n",
    "        ...\n",
    "        gate = (direction - 1) / 2\n",
    "        x = reversed_mask * (x * tf.exp(direction * s) + direction * t * tf.exp(gate * s)) \\\n",
    "            + x_masked\n",
    "        ...\n",
    "```\n",
    "\n",
    "Here we compute the main transformation (backwards, as mentioned):\n",
    "\n",
    "* If `training = True`, we have `direction = -1` and we compute:\n",
    "$$\\begin{align}\n",
    "x^1 &= y^1 \\\\\n",
    "x^2 &= (y^2 - t(y^1)) \\oslash e^{s(y^1)}\n",
    "\\end{align}$$"
   ]
  },
  {
   "cell_type": "markdown",
   "metadata": {
    "slideshow": {
     "slide_type": "subslide"
    }
   },
   "source": [
    "## RNVP Model\n",
    "\n",
    "**The `call` method handles the transformation, in both directions**\n",
    "\n",
    "```python\n",
    "def call(self, x, training=True):\n",
    "        ...\n",
    "        gate = (direction - 1) / 2\n",
    "        x = reversed_mask * (x * tf.exp(direction * s) + direction * t * tf.exp(gate * s)) \\\n",
    "            + x_masked\n",
    "        ...\n",
    "```\n",
    "\n",
    "Here we compute the main transformation (backwards, as mentioned):\n",
    "\n",
    "* If `training = False`, we have `direction = 1` and we compute:\n",
    "$$\\begin{align}\n",
    "y^1 &= x^1 \\\\\n",
    "y^2 &= e^{s(x^1)} \\odot x^2 + t(x^1)\n",
    "\\end{align}$$"
   ]
  },
  {
   "cell_type": "markdown",
   "metadata": {
    "slideshow": {
     "slide_type": "subslide"
    }
   },
   "source": [
    "## RNVP Model\n",
    "\n",
    "**The `call` method handles the transformation, in both directions**\n",
    "\n",
    "```python\n",
    "def call(self, x, training=True):\n",
    "    ...\n",
    "    for i in range(self.num_coupling)[::direction]:\n",
    "        ...\n",
    "        log_det_inv += gate * tf.reduce_sum(s, axis=1)\n",
    "    return x, log_det_inv\n",
    "```\n",
    "\n",
    "At each layer, we also compute the $\\log \\det$ of the Jacobian\n",
    "\n",
    "* ...Which is simply the sum of the $s$ function values\n",
    "* Determinants of different layers should be multiplied (due to the chain rule)...\n",
    "* ...Which means that their $\\log$ is simply summed\n",
    "\n",
    "At then end of the process, the determinant has been computed"
   ]
  },
  {
   "cell_type": "markdown",
   "metadata": {
    "slideshow": {
     "slide_type": "subslide"
    }
   },
   "source": [
    "## RNVP Model\n",
    "\n",
    "**The `score_samples` method performs _density estimation_**\n",
    "\n",
    "```python\n",
    "def score_samples(self, x):\n",
    "    y, logdet = self(x)\n",
    "    log_probs = self.distribution.log_prob(y) + logdet\n",
    "    return log_probs\n",
    "```\n",
    "\n",
    "The process relies on the change of variable formula:\n",
    "\n",
    "* First, it triggers the `call` method with `training=True`\n",
    "  - I.e. transforms data points $x$ into their latent representation $z$\n",
    "* Then, it computes the (log) density of $z$\n",
    "  - Using `tensorfllow_probability` comes in handy at this point\n",
    "* ...And then sums the log determinant\n"
   ]
  },
  {
   "cell_type": "markdown",
   "metadata": {
    "slideshow": {
     "slide_type": "subslide"
    }
   },
   "source": [
    "## RNVP Model\n",
    "\n",
    "**The `log_loss` method computes the _loss function_**\n",
    "\n",
    "```python\n",
    "def log_loss(self, x):\n",
    "    log_densities = self.score_samples(x)\n",
    "    return -tf.reduce_mean(log_densities)\n",
    "```\n",
    "\n",
    "This is done by:\n",
    "\n",
    "* Obtaining the estimated densities via `score_samples`\n",
    "* ...Summing up (in log scale, i.e. a product in the original scale)\n",
    "* ...And finally swapping the sign of the resut\n",
    "  - ...Since we want to _maximize_ the likelihood"
   ]
  },
  {
   "cell_type": "markdown",
   "metadata": {
    "slideshow": {
     "slide_type": "subslide"
    }
   },
   "source": [
    "## RNVP Model\n",
    "\n",
    "**The `train_step` method is called by the keras `fit` method**\n",
    "\n",
    "```python\n",
    "def train_step(self, data):\n",
    "    with tf.GradientTape() as tape:\n",
    "        loss = self.log_loss(data)\n",
    "    g = tape.gradient(loss, self.trainable_variables)\n",
    "    self.optimizer.apply_gradients(zip(g, self.trainable_variables))\n",
    "    self.loss_tracker.update_state(loss)\n",
    "    return {\"loss\": self.loss_tracker.result()}\n",
    "```\n",
    "\n",
    "The `GradientTape` is _how tensorflow handles differentiation_\n",
    "\n",
    "* All tensor operations made in the scope of a `GradientTape` are tracked\n",
    "* ...So that a gradient can then be extracted\n",
    "* Then we apply the gradient to the model weights (using the optimizer)\n",
    "* ...And finally we track the loss"
   ]
  },
  {
   "cell_type": "markdown",
   "metadata": {
    "slideshow": {
     "slide_type": "slide"
    }
   },
   "source": [
    "# Using Real NVPs"
   ]
  },
  {
   "cell_type": "markdown",
   "metadata": {
    "slideshow": {
     "slide_type": "subslide"
    }
   },
   "source": [
    "## Using Real NVP\n",
    "\n",
    "**We are ready to test our model**\n",
    "\n",
    "We will use a classical benchmark for density estimation (shaped like two half moons)"
   ]
  },
  {
   "cell_type": "code",
   "execution_count": 4,
   "metadata": {
    "scrolled": true
   },
   "outputs": [
    {
     "data": {
      "image/png": "[encoded data removed]",
      "text/plain": [
       "<Figure size 1008x216 with 1 Axes>"
      ]
     },
     "metadata": {
      "needs_background": "light"
     },
     "output_type": "display_data"
    }
   ],
   "source": [
    "from sklearn.datasets import make_moons\n",
    "data = make_moons(3000, noise=0.05)[0].astype(np.float32)\n",
    "nn.plot_distribution_2D(samples=data, figsize=figsize)"
   ]
  },
  {
   "cell_type": "markdown",
   "metadata": {},
   "source": [
    "* We use `float32` numbers for easier interplay with tensorflow"
   ]
  },
  {
   "cell_type": "markdown",
   "metadata": {
    "slideshow": {
     "slide_type": "subslide"
    }
   },
   "source": [
    "## Training\n",
    "\n",
    "**Now, we need to train a Real NVP model**\n",
    "\n",
    "* We will use the whole dataset (this is just a simple test)\n",
    "* ...But first, we need to _standardize_ it"
   ]
  },
  {
   "cell_type": "code",
   "execution_count": 5,
   "metadata": {
    "scrolled": true
   },
   "outputs": [],
   "source": [
    "data_s = (data - data.mean(axis=0)) / data.std(axis=0)"
   ]
  },
  {
   "cell_type": "markdown",
   "metadata": {},
   "source": [
    "**Standardization is very important when using Real NVPs**\n",
    "\n",
    "* This is true for Neural Networks in general, for the usual reasons\n",
    "* But even more in this case, since _the distribution for $z$ is standardized_\n",
    "  - Standardizing the data makes it easier to learn a mapping"
   ]
  },
  {
   "cell_type": "markdown",
   "metadata": {
    "slideshow": {
     "slide_type": "subslide"
    }
   },
   "source": [
    "## Training\n",
    "\n",
    "**Next we can perform training, as usual in keras**"
   ]
  },
  {
   "cell_type": "code",
   "execution_count": 6,
   "metadata": {
    "scrolled": true
   },
   "outputs": [
    {
     "name": "stdout",
     "output_type": "stream",
     "text": [
      "Epoch 1/200\n",
      "12/12 [==============================] - 5s 5ms/step - loss: 2.5683\n",
      "Epoch 2/200\n",
      "12/12 [==============================] - 0s 5ms/step - loss: 2.4311\n",
      "Epoch 3/200\n",
      "12/12 [==============================] - 0s 5ms/step - loss: 2.3349\n",
      "Epoch 4/200\n",
      "12/12 [==============================] - 0s 5ms/step - loss: 2.2460\n",
      "Epoch 5/200\n",
      "12/12 [==============================] - 0s 5ms/step - loss: 2.1774\n",
      "Epoch 6/200\n",
      "12/12 [==============================] - 0s 5ms/step - loss: 2.1294\n",
      "Epoch 7/200\n",
      "12/12 [==============================] - 0s 4ms/step - loss: 2.0814\n",
      "Epoch 8/200\n",
      "12/12 [==============================] - 0s 5ms/step - loss: 2.0123\n",
      "Epoch 9/200\n",
      "12/12 [==============================] - 0s 5ms/step - loss: 1.9732\n",
      "Epoch 10/200\n",
      "12/12 [==============================] - 0s 4ms/step - loss: 1.9477\n",
      "Epoch 11/200\n",
      "12/12 [==============================] - 0s 4ms/step - loss: 1.8992\n",
      "Epoch 12/200\n",
      "12/12 [==============================] - 0s 5ms/step - loss: 1.8547\n",
      "Epoch 13/200\n",
      "12/12 [==============================] - 0s 4ms/step - loss: 1.8385\n",
      "Epoch 14/200\n",
      "12/12 [==============================] - 0s 4ms/step - loss: 1.8099\n",
      "Epoch 15/200\n",
      "12/12 [==============================] - 0s 4ms/step - loss: 1.7784\n",
      "Epoch 16/200\n",
      "12/12 [==============================] - 0s 4ms/step - loss: 1.7441\n",
      "Epoch 17/200\n",
      "12/12 [==============================] - 0s 4ms/step - loss: 1.7364\n",
      "Epoch 18/200\n",
      "12/12 [==============================] - 0s 4ms/step - loss: 1.6943\n",
      "Epoch 19/200\n",
      "12/12 [==============================] - 0s 4ms/step - loss: 1.6740\n",
      "Epoch 20/200\n",
      "12/12 [==============================] - 0s 5ms/step - loss: 1.6681\n",
      "Epoch 21/200\n",
      "12/12 [==============================] - 0s 5ms/step - loss: 1.6735\n",
      "Epoch 22/200\n",
      "12/12 [==============================] - 0s 4ms/step - loss: 1.6098\n",
      "Epoch 23/200\n",
      "12/12 [==============================] - 0s 4ms/step - loss: 1.5741\n",
      "Epoch 24/200\n",
      "12/12 [==============================] - 0s 4ms/step - loss: 1.5623\n",
      "Epoch 25/200\n",
      "12/12 [==============================] - 0s 4ms/step - loss: 1.5720\n",
      "Epoch 26/200\n",
      "12/12 [==============================] - 0s 4ms/step - loss: 1.5187\n",
      "Epoch 27/200\n",
      "12/12 [==============================] - 0s 4ms/step - loss: 1.4903\n",
      "Epoch 28/200\n",
      "12/12 [==============================] - 0s 5ms/step - loss: 1.4871\n",
      "Epoch 29/200\n",
      "12/12 [==============================] - 0s 4ms/step - loss: 1.4780\n",
      "Epoch 30/200\n",
      "12/12 [==============================] - 0s 4ms/step - loss: 1.4783\n",
      "Epoch 31/200\n",
      "12/12 [==============================] - 0s 4ms/step - loss: 1.5321\n",
      "Epoch 32/200\n",
      "12/12 [==============================] - 0s 5ms/step - loss: 1.5125\n",
      "Epoch 33/200\n",
      "12/12 [==============================] - 0s 4ms/step - loss: 1.4707\n",
      "Epoch 34/200\n",
      "12/12 [==============================] - 0s 4ms/step - loss: 1.4396\n",
      "Epoch 35/200\n",
      "12/12 [==============================] - 0s 4ms/step - loss: 1.4181\n",
      "Epoch 36/200\n",
      "12/12 [==============================] - 0s 5ms/step - loss: 1.3953\n",
      "Epoch 37/200\n",
      "12/12 [==============================] - 0s 4ms/step - loss: 1.3826\n",
      "Epoch 38/200\n",
      "12/12 [==============================] - 0s 4ms/step - loss: 1.4113\n",
      "Epoch 39/200\n",
      "12/12 [==============================] - 0s 4ms/step - loss: 1.3786\n",
      "Epoch 40/200\n",
      "12/12 [==============================] - 0s 4ms/step - loss: 1.3626\n",
      "Epoch 41/200\n",
      "12/12 [==============================] - 0s 4ms/step - loss: 1.3554\n",
      "Epoch 42/200\n",
      "12/12 [==============================] - 0s 4ms/step - loss: 1.3537\n",
      "Epoch 43/200\n",
      "12/12 [==============================] - 0s 4ms/step - loss: 1.3401\n",
      "Epoch 44/200\n",
      "12/12 [==============================] - 0s 4ms/step - loss: 1.3344\n",
      "Epoch 45/200\n",
      "12/12 [==============================] - 0s 4ms/step - loss: 1.3349\n",
      "Epoch 46/200\n",
      "12/12 [==============================] - 0s 4ms/step - loss: 1.3106\n",
      "Epoch 47/200\n",
      "12/12 [==============================] - 0s 4ms/step - loss: 1.3287\n",
      "Epoch 48/200\n",
      "12/12 [==============================] - 0s 4ms/step - loss: 1.3468\n",
      "Epoch 49/200\n",
      "12/12 [==============================] - 0s 4ms/step - loss: 1.3425\n",
      "Epoch 50/200\n",
      "12/12 [==============================] - 0s 4ms/step - loss: 1.3244\n",
      "Epoch 51/200\n",
      "12/12 [==============================] - 0s 4ms/step - loss: 1.3385\n",
      "Epoch 52/200\n",
      "12/12 [==============================] - 0s 4ms/step - loss: 1.3137\n",
      "Epoch 53/200\n",
      "12/12 [==============================] - 0s 5ms/step - loss: 1.3189\n",
      "Epoch 54/200\n",
      "12/12 [==============================] - 0s 5ms/step - loss: 1.2986\n",
      "Epoch 55/200\n",
      "12/12 [==============================] - 0s 4ms/step - loss: 1.3001\n",
      "Epoch 56/200\n",
      "12/12 [==============================] - 0s 4ms/step - loss: 1.2959\n",
      "Epoch 57/200\n",
      "12/12 [==============================] - 0s 4ms/step - loss: 1.2837\n",
      "Epoch 58/200\n",
      "12/12 [==============================] - 0s 4ms/step - loss: 1.2792\n",
      "Epoch 59/200\n",
      "12/12 [==============================] - 0s 5ms/step - loss: 1.3085\n",
      "Epoch 60/200\n",
      "12/12 [==============================] - 0s 4ms/step - loss: 1.2797\n",
      "Epoch 61/200\n",
      "12/12 [==============================] - 0s 5ms/step - loss: 1.2825\n",
      "Epoch 62/200\n",
      "12/12 [==============================] - 0s 5ms/step - loss: 1.2775\n",
      "Epoch 63/200\n",
      "12/12 [==============================] - 0s 5ms/step - loss: 1.2755\n",
      "Epoch 64/200\n",
      "12/12 [==============================] - 0s 5ms/step - loss: 1.2758\n",
      "Epoch 65/200\n",
      "12/12 [==============================] - 0s 4ms/step - loss: 1.2709\n",
      "Epoch 66/200\n",
      "12/12 [==============================] - 0s 4ms/step - loss: 1.3177\n",
      "Epoch 67/200\n",
      "12/12 [==============================] - 0s 4ms/step - loss: 1.3135\n",
      "Epoch 68/200\n",
      "12/12 [==============================] - 0s 4ms/step - loss: 1.2828\n",
      "Epoch 69/200\n",
      "12/12 [==============================] - 0s 4ms/step - loss: 1.2607\n",
      "Epoch 70/200\n",
      "12/12 [==============================] - 0s 5ms/step - loss: 1.2704\n",
      "Epoch 71/200\n",
      "12/12 [==============================] - 0s 5ms/step - loss: 1.2805\n",
      "Epoch 72/200\n",
      "12/12 [==============================] - 0s 5ms/step - loss: 1.2750\n",
      "Epoch 73/200\n",
      "12/12 [==============================] - 0s 5ms/step - loss: 1.3264\n",
      "Epoch 74/200\n",
      "12/12 [==============================] - 0s 5ms/step - loss: 1.3688\n",
      "Epoch 75/200\n",
      "12/12 [==============================] - 0s 4ms/step - loss: 1.3544\n",
      "Epoch 76/200\n",
      "12/12 [==============================] - 0s 5ms/step - loss: 1.3060\n",
      "Epoch 77/200\n",
      "12/12 [==============================] - 0s 4ms/step - loss: 1.2861\n",
      "Epoch 78/200\n",
      "12/12 [==============================] - 0s 4ms/step - loss: 1.2647\n",
      "Epoch 79/200\n",
      "12/12 [==============================] - 0s 4ms/step - loss: 1.2469\n",
      "Epoch 80/200\n",
      "12/12 [==============================] - 0s 5ms/step - loss: 1.2460\n",
      "Epoch 81/200\n",
      "12/12 [==============================] - 0s 4ms/step - loss: 1.2444\n",
      "Epoch 82/200\n",
      "12/12 [==============================] - 0s 4ms/step - loss: 1.2793\n",
      "Epoch 83/200\n",
      "12/12 [==============================] - 0s 5ms/step - loss: 1.2575\n",
      "Epoch 84/200\n",
      "12/12 [==============================] - 0s 5ms/step - loss: 1.2507\n",
      "Epoch 85/200\n",
      "12/12 [==============================] - 0s 4ms/step - loss: 1.2671\n",
      "Epoch 86/200\n",
      "12/12 [==============================] - 0s 4ms/step - loss: 1.2356\n",
      "Epoch 87/200\n",
      "12/12 [==============================] - 0s 4ms/step - loss: 1.2326\n",
      "Epoch 88/200\n",
      "12/12 [==============================] - 0s 4ms/step - loss: 1.2185\n",
      "Epoch 89/200\n",
      "12/12 [==============================] - 0s 4ms/step - loss: 1.2303\n",
      "Epoch 90/200\n",
      "12/12 [==============================] - 0s 5ms/step - loss: 1.2377\n",
      "Epoch 91/200\n",
      "12/12 [==============================] - 0s 4ms/step - loss: 1.2308\n",
      "Epoch 92/200\n",
      "12/12 [==============================] - 0s 5ms/step - loss: 1.2282\n",
      "Epoch 93/200\n",
      "12/12 [==============================] - 0s 5ms/step - loss: 1.2545\n",
      "Epoch 94/200\n",
      "12/12 [==============================] - 0s 5ms/step - loss: 1.2504\n",
      "Epoch 95/200\n",
      "12/12 [==============================] - 0s 4ms/step - loss: 1.2400\n",
      "Epoch 96/200\n",
      "12/12 [==============================] - 0s 4ms/step - loss: 1.2968\n",
      "Epoch 97/200\n",
      "12/12 [==============================] - 0s 4ms/step - loss: 1.3885\n",
      "Epoch 98/200\n",
      "12/12 [==============================] - 0s 4ms/step - loss: 1.2815\n",
      "Epoch 99/200\n",
      "12/12 [==============================] - 0s 4ms/step - loss: 1.2669\n",
      "Epoch 100/200\n",
      "12/12 [==============================] - 0s 4ms/step - loss: 1.2433\n",
      "Epoch 101/200\n",
      "12/12 [==============================] - 0s 4ms/step - loss: 1.2371\n",
      "Epoch 102/200\n"
     ]
    },
    {
     "name": "stdout",
     "output_type": "stream",
     "text": [
      "12/12 [==============================] - 0s 5ms/step - loss: 1.2216\n",
      "Epoch 103/200\n",
      "12/12 [==============================] - 0s 4ms/step - loss: 1.2229\n",
      "Epoch 104/200\n",
      "12/12 [==============================] - 0s 4ms/step - loss: 1.2351\n",
      "Epoch 105/200\n",
      "12/12 [==============================] - 0s 5ms/step - loss: 1.2308\n",
      "Epoch 106/200\n",
      "12/12 [==============================] - 0s 4ms/step - loss: 1.2518\n",
      "Epoch 107/200\n",
      "12/12 [==============================] - 0s 4ms/step - loss: 1.2567\n",
      "Epoch 108/200\n",
      "12/12 [==============================] - 0s 4ms/step - loss: 1.2321\n",
      "Epoch 109/200\n",
      "12/12 [==============================] - 0s 4ms/step - loss: 1.2373\n",
      "Epoch 110/200\n",
      "12/12 [==============================] - 0s 4ms/step - loss: 1.2203\n",
      "Epoch 111/200\n",
      "12/12 [==============================] - 0s 4ms/step - loss: 1.2171\n",
      "Epoch 112/200\n",
      "12/12 [==============================] - 0s 4ms/step - loss: 1.2188\n",
      "Epoch 113/200\n",
      "12/12 [==============================] - 0s 4ms/step - loss: 1.2229\n",
      "Epoch 114/200\n",
      "12/12 [==============================] - 0s 4ms/step - loss: 1.2502\n",
      "Epoch 115/200\n",
      "12/12 [==============================] - 0s 5ms/step - loss: 1.2324\n",
      "Epoch 116/200\n",
      "12/12 [==============================] - 0s 4ms/step - loss: 1.2170\n",
      "Epoch 117/200\n",
      "12/12 [==============================] - 0s 5ms/step - loss: 1.2128\n",
      "Epoch 118/200\n",
      "12/12 [==============================] - 0s 4ms/step - loss: 1.2114\n",
      "Epoch 119/200\n",
      "12/12 [==============================] - 0s 4ms/step - loss: 1.2086\n",
      "Epoch 120/200\n",
      "12/12 [==============================] - 0s 4ms/step - loss: 1.2361\n",
      "Epoch 121/200\n",
      "12/12 [==============================] - 0s 4ms/step - loss: 1.2364\n",
      "Epoch 122/200\n",
      "12/12 [==============================] - 0s 4ms/step - loss: 1.2129\n",
      "Epoch 123/200\n",
      "12/12 [==============================] - 0s 4ms/step - loss: 1.2001\n",
      "Epoch 124/200\n",
      "12/12 [==============================] - 0s 4ms/step - loss: 1.2147\n",
      "Epoch 125/200\n",
      "12/12 [==============================] - 0s 4ms/step - loss: 1.2206\n",
      "Epoch 126/200\n",
      "12/12 [==============================] - 0s 4ms/step - loss: 1.2483\n",
      "Epoch 127/200\n",
      "12/12 [==============================] - 0s 4ms/step - loss: 1.2376\n",
      "Epoch 128/200\n",
      "12/12 [==============================] - 0s 5ms/step - loss: 1.2187\n",
      "Epoch 129/200\n",
      "12/12 [==============================] - 0s 4ms/step - loss: 1.2139\n",
      "Epoch 130/200\n",
      "12/12 [==============================] - 0s 4ms/step - loss: 1.2000\n",
      "Epoch 131/200\n",
      "12/12 [==============================] - 0s 4ms/step - loss: 1.1955\n",
      "Epoch 132/200\n",
      "12/12 [==============================] - 0s 4ms/step - loss: 1.2281\n",
      "Epoch 133/200\n",
      "12/12 [==============================] - 0s 4ms/step - loss: 1.2089\n",
      "Epoch 134/200\n",
      "12/12 [==============================] - 0s 4ms/step - loss: 1.2107\n",
      "Epoch 135/200\n",
      "12/12 [==============================] - 0s 4ms/step - loss: 1.2212\n",
      "Epoch 136/200\n",
      "12/12 [==============================] - 0s 4ms/step - loss: 1.2116\n",
      "Epoch 137/200\n",
      "12/12 [==============================] - 0s 4ms/step - loss: 1.2171\n",
      "Epoch 138/200\n",
      "12/12 [==============================] - 0s 5ms/step - loss: 1.2051\n",
      "Epoch 139/200\n",
      "12/12 [==============================] - 0s 5ms/step - loss: 1.2071\n",
      "Epoch 140/200\n",
      "12/12 [==============================] - 0s 5ms/step - loss: 1.2141\n",
      "Epoch 141/200\n",
      "12/12 [==============================] - 0s 4ms/step - loss: 1.2082\n",
      "Epoch 142/200\n",
      "12/12 [==============================] - 0s 4ms/step - loss: 1.2031\n",
      "Epoch 143/200\n",
      "12/12 [==============================] - 0s 4ms/step - loss: 1.2131\n",
      "Epoch 144/200\n",
      "12/12 [==============================] - 0s 4ms/step - loss: 1.2029\n",
      "Epoch 145/200\n",
      "12/12 [==============================] - 0s 5ms/step - loss: 1.2037\n",
      "Epoch 146/200\n",
      "12/12 [==============================] - 0s 4ms/step - loss: 1.2129\n",
      "Epoch 147/200\n",
      "12/12 [==============================] - 0s 4ms/step - loss: 1.1976\n",
      "Epoch 148/200\n",
      "12/12 [==============================] - 0s 4ms/step - loss: 1.2052\n",
      "Epoch 149/200\n",
      "12/12 [==============================] - 0s 5ms/step - loss: 1.1938\n",
      "Epoch 150/200\n",
      "12/12 [==============================] - 0s 5ms/step - loss: 1.2008\n",
      "Epoch 151/200\n",
      "12/12 [==============================] - 0s 4ms/step - loss: 1.1948\n",
      "Epoch 152/200\n",
      "12/12 [==============================] - 0s 4ms/step - loss: 1.1903\n",
      "Epoch 153/200\n",
      "12/12 [==============================] - 0s 4ms/step - loss: 1.2109\n",
      "Epoch 154/200\n",
      "12/12 [==============================] - 0s 4ms/step - loss: 1.2129\n",
      "Epoch 155/200\n",
      "12/12 [==============================] - 0s 4ms/step - loss: 1.1858\n",
      "Epoch 156/200\n",
      "12/12 [==============================] - 0s 4ms/step - loss: 1.1979\n",
      "Epoch 157/200\n",
      "12/12 [==============================] - 0s 5ms/step - loss: 1.1883\n",
      "Epoch 158/200\n",
      "12/12 [==============================] - 0s 4ms/step - loss: 1.1925\n",
      "Epoch 159/200\n",
      "12/12 [==============================] - 0s 4ms/step - loss: 1.2005\n",
      "Epoch 160/200\n",
      "12/12 [==============================] - 0s 4ms/step - loss: 1.2100\n",
      "Epoch 161/200\n",
      "12/12 [==============================] - 0s 4ms/step - loss: 1.1918\n",
      "Epoch 162/200\n",
      "12/12 [==============================] - 0s 4ms/step - loss: 1.2088\n",
      "Epoch 163/200\n",
      "12/12 [==============================] - 0s 4ms/step - loss: 1.2089\n",
      "Epoch 164/200\n",
      "12/12 [==============================] - 0s 4ms/step - loss: 1.1912\n",
      "Epoch 165/200\n",
      "12/12 [==============================] - 0s 4ms/step - loss: 1.2066\n",
      "Epoch 166/200\n",
      "12/12 [==============================] - 0s 4ms/step - loss: 1.2040\n",
      "Epoch 167/200\n",
      "12/12 [==============================] - 0s 4ms/step - loss: 1.1971\n",
      "Epoch 168/200\n",
      "12/12 [==============================] - 0s 4ms/step - loss: 1.1926\n",
      "Epoch 169/200\n",
      "12/12 [==============================] - 0s 4ms/step - loss: 1.1861\n",
      "Epoch 170/200\n",
      "12/12 [==============================] - 0s 4ms/step - loss: 1.1808\n",
      "Epoch 171/200\n",
      "12/12 [==============================] - 0s 5ms/step - loss: 1.2290\n",
      "Epoch 172/200\n",
      "12/12 [==============================] - 0s 4ms/step - loss: 1.2334\n",
      "Epoch 173/200\n",
      "12/12 [==============================] - 0s 5ms/step - loss: 1.2036\n",
      "Epoch 174/200\n",
      "12/12 [==============================] - 0s 4ms/step - loss: 1.1917\n",
      "Epoch 175/200\n",
      "12/12 [==============================] - 0s 4ms/step - loss: 1.2139\n",
      "Epoch 176/200\n",
      "12/12 [==============================] - 0s 4ms/step - loss: 1.2023\n",
      "Epoch 177/200\n",
      "12/12 [==============================] - 0s 4ms/step - loss: 1.2008\n",
      "Epoch 178/200\n",
      "12/12 [==============================] - 0s 5ms/step - loss: 1.2113\n",
      "Epoch 179/200\n",
      "12/12 [==============================] - 0s 4ms/step - loss: 1.2097\n",
      "Epoch 180/200\n",
      "12/12 [==============================] - 0s 4ms/step - loss: 1.1975\n",
      "Epoch 181/200\n",
      "12/12 [==============================] - 0s 4ms/step - loss: 1.2186\n",
      "Epoch 182/200\n",
      "12/12 [==============================] - 0s 5ms/step - loss: 1.1971\n",
      "Epoch 183/200\n",
      "12/12 [==============================] - 0s 4ms/step - loss: 1.2026\n",
      "Epoch 184/200\n",
      "12/12 [==============================] - 0s 4ms/step - loss: 1.2061\n",
      "Epoch 185/200\n",
      "12/12 [==============================] - 0s 4ms/step - loss: 1.1898\n",
      "Epoch 186/200\n",
      "12/12 [==============================] - 0s 4ms/step - loss: 1.1838\n",
      "Epoch 187/200\n",
      "12/12 [==============================] - 0s 4ms/step - loss: 1.1760\n",
      "Epoch 188/200\n",
      "12/12 [==============================] - 0s 5ms/step - loss: 1.1829\n",
      "Epoch 189/200\n",
      "12/12 [==============================] - 0s 5ms/step - loss: 1.1771\n",
      "Epoch 190/200\n",
      "12/12 [==============================] - 0s 4ms/step - loss: 1.1845\n",
      "Epoch 191/200\n",
      "12/12 [==============================] - 0s 5ms/step - loss: 1.1964\n",
      "Epoch 192/200\n",
      "12/12 [==============================] - 0s 4ms/step - loss: 1.2222\n",
      "Epoch 193/200\n",
      "12/12 [==============================] - 0s 4ms/step - loss: 1.1859\n",
      "Epoch 194/200\n",
      "12/12 [==============================] - 0s 4ms/step - loss: 1.1851\n",
      "Epoch 195/200\n",
      "12/12 [==============================] - 0s 4ms/step - loss: 1.1781\n",
      "Epoch 196/200\n",
      "12/12 [==============================] - 0s 4ms/step - loss: 1.1788\n",
      "Epoch 197/200\n",
      "12/12 [==============================] - 0s 5ms/step - loss: 1.1838\n",
      "Epoch 198/200\n",
      "12/12 [==============================] - 0s 5ms/step - loss: 1.1834\n",
      "Epoch 199/200\n",
      "12/12 [==============================] - 0s 4ms/step - loss: 1.1811\n",
      "Epoch 200/200\n",
      "12/12 [==============================] - 0s 4ms/step - loss: 1.1890\n"
     ]
    }
   ],
   "source": [
    "from tensorflow.keras.callbacks import EarlyStopping\n",
    "model = nn.RealNVP(input_shape=2, num_coupling=10, units_coupling=32, depth_coupling=2, reg_coupling=0.01)\n",
    "model.compile(optimizer='Adam')\n",
    "cb = [EarlyStopping(monitor='loss', patience=30, min_delta=0.0001, restore_best_weights=True)]\n",
    "history = model.fit(data_s, batch_size=256, epochs=200, verbose=1, callbacks=cb)"
   ]
  },
  {
   "cell_type": "markdown",
   "metadata": {
    "slideshow": {
     "slide_type": "subslide"
    }
   },
   "source": [
    "## Training\n",
    "\n",
    "**As usual with NNs, choosing the right architecture can be complicated**\n",
    "\n",
    "```python\n",
    "model = RealNVP(input_shape=2, num_coupling=16, units_coupling=32, depth_coupling=2, reg_coupling=0.01)\n",
    "```\n",
    "\n",
    "* We went for a relatively deep model (10 affine coupling)\n",
    "* Each coupling has also a good degree of non-linearity (2 hidden layers)\n",
    "* We used a small degree of L2 regularization to stabilize the training process\n",
    "\n",
    "**We also use relatively _large batch size_**\n",
    "\n",
    "```python\n",
    "history = model.fit(data_s, batch_size=256, epochs=200, verbose=2, callbacks=cb)\n",
    "```\n",
    "\n",
    "* Large batch sizes are usually a good choice with density estimation approaches\n",
    "* Batches should be ideally be representative of the distribution"
   ]
  },
  {
   "cell_type": "markdown",
   "metadata": {
    "slideshow": {
     "slide_type": "subslide"
    }
   },
   "source": [
    "## Training\n",
    "\n",
    "**Let's see the evolution of the training loss over time**"
   ]
  },
  {
   "cell_type": "code",
   "execution_count": 7,
   "metadata": {},
   "outputs": [
    {
     "data": {
      "image/png": "[encoded data removed]",
      "text/plain": [
       "<Figure size 1008x216 with 1 Axes>"
      ]
     },
     "metadata": {
      "needs_background": "light"
     },
     "output_type": "display_data"
    }
   ],
   "source": [
    "nn.plot_training_history(history, figsize=figsize)"
   ]
  },
  {
   "cell_type": "markdown",
   "metadata": {
    "slideshow": {
     "slide_type": "subslide"
    }
   },
   "source": [
    "## Latent Space Representation\n",
    "\n",
    "**We can obtain the latent space representation by calling the trained model**\n",
    "\n",
    "This will trigger the `call` method with default parameters (i.e. `training=True`)"
   ]
  },
  {
   "cell_type": "code",
   "execution_count": 8,
   "metadata": {
    "scrolled": false
   },
   "outputs": [
    {
     "data": {
      "image/png": "[encoded data removed]",
      "text/plain": [
       "<Figure size 1008x216 with 1 Axes>"
      ]
     },
     "metadata": {
      "needs_background": "light"
     },
     "output_type": "display_data"
    }
   ],
   "source": [
    "z, _ = model(data_s)\n",
    "nn.plot_distribution_2D(samples=z, figsize=figsize)"
   ]
  },
  {
   "cell_type": "markdown",
   "metadata": {
    "slideshow": {
     "slide_type": "subslide"
    }
   },
   "source": [
    "## Density Estimation\n",
    "\n",
    "**We can estimate the density of any data point**"
   ]
  },
  {
   "cell_type": "code",
   "execution_count": 9,
   "metadata": {
    "scrolled": true
   },
   "outputs": [
    {
     "data": {
      "image/png": "[encoded data removed]",
      "text/plain": [
       "<Figure size 1008x216 with 1 Axes>"
      ]
     },
     "metadata": {
      "needs_background": "light"
     },
     "output_type": "display_data"
    }
   ],
   "source": [
    "nn.plot_distribution_2D(estimator=model, xr=np.linspace(-2, 2, 100, dtype=np.float32),\n",
    "                                         yr=np.linspace(-2, 2, 100, dtype=np.float32), figsize=figsize)"
   ]
  },
  {
   "cell_type": "markdown",
   "metadata": {},
   "source": [
    "* A good approximation! With a strange low-density connection between the moons"
   ]
  },
  {
   "cell_type": "markdown",
   "metadata": {
    "slideshow": {
     "slide_type": "subslide"
    }
   },
   "source": [
    "## Data Generation\n",
    "\n",
    "**We can also generate data, by sampling from $p_z$ and then calling `predict`**\n",
    "\n",
    "This will trigger the `call` method with `training=False`"
   ]
  },
  {
   "cell_type": "code",
   "execution_count": 10,
   "metadata": {},
   "outputs": [
    {
     "data": {
      "image/png": "[encoded data removed]",
      "text/plain": [
       "<Figure size 1008x216 with 1 Axes>"
      ]
     },
     "metadata": {
      "needs_background": "light"
     },
     "output_type": "display_data"
    }
   ],
   "source": [
    "samples = model.distribution.sample(3000)\n",
    "x, _ = model.predict(samples)\n",
    "nn.plot_distribution_2D(samples=x, figsize=figsize)"
   ]
  },
  {
   "cell_type": "markdown",
   "metadata": {
    "slideshow": {
     "slide_type": "subslide"
    }
   },
   "source": [
    "## Data Generation\n",
    "\n",
    "**We can also plot the mapping for selected data points...**\n",
    "\n",
    "...Which gives and intuition of how the transformation works"
   ]
  },
  {
   "cell_type": "code",
   "execution_count": 11,
   "metadata": {},
   "outputs": [
    {
     "data": {
      "image/png": "[encoded data removed]",
      "text/plain": [
       "<Figure size 1008x216 with 1 Axes>"
      ]
     },
     "metadata": {
      "needs_background": "light"
     },
     "output_type": "display_data"
    }
   ],
   "source": [
    "nn.plot_rnvp_transformation(model, figsize=figsize)"
   ]
  },
  {
   "cell_type": "markdown",
   "metadata": {
    "slideshow": {
     "slide_type": "slide"
    }
   },
   "source": [
    "# RNVP  for Anomaly Detection"
   ]
  },
  {
   "cell_type": "markdown",
   "metadata": {
    "slideshow": {
     "slide_type": "subslide"
    }
   },
   "source": [
    "## RNVP for Anomaly Detection\n",
    "\n",
    "**RNVPs can be used for anomaly detection like any other density estimator**\n",
    "\n",
    "First, we build and compile the model (for the HPC data)"
   ]
  },
  {
   "cell_type": "code",
   "execution_count": 12,
   "metadata": {
    "scrolled": true
   },
   "outputs": [],
   "source": [
    "input_shape = len(hpc_in)\n",
    "hpc_rnvp = nn.RealNVP(input_shape=input_shape,\n",
    "                num_coupling=6, units_coupling=32, depth_coupling=1, reg_coupling=0.01)\n",
    "hpc_rnvp.compile(optimizer='Adam')"
   ]
  },
  {
   "cell_type": "markdown",
   "metadata": {},
   "source": [
    "We chose a _simpler_ architecture this time\n",
    "\n",
    "* With RNVP, dealing with higher dimensional data has actually some advantage\n",
    "* In particular, we have richer input for the $s$ and $t$ functions\n",
    "  - In the \"moons\" dataset, $s$ and $t$ had 2/2 = 1 input feature\n",
    "  - Now we have 159/2 = 79--80 features"
   ]
  },
  {
   "cell_type": "markdown",
   "metadata": {
    "slideshow": {
     "slide_type": "subslide"
    }
   },
   "source": [
    "## RNVP for Anomaly Detection\n",
    "\n",
    "**Then we perform training as usual**"
   ]
  },
  {
   "cell_type": "code",
   "execution_count": 13,
   "metadata": {
    "scrolled": true
   },
   "outputs": [
    {
     "name": "stdout",
     "output_type": "stream",
     "text": [
      "Epoch 1/100\n",
      "12/12 [==============================] - 3s 8ms/step - loss: 1410.5375\n",
      "Epoch 2/100\n",
      "12/12 [==============================] - 0s 7ms/step - loss: 870.6241\n",
      "Epoch 3/100\n",
      "12/12 [==============================] - 0s 7ms/step - loss: 403.5361\n",
      "Epoch 4/100\n",
      "12/12 [==============================] - 0s 7ms/step - loss: 492.0046\n",
      "Epoch 5/100\n",
      "12/12 [==============================] - 0s 7ms/step - loss: 276.7331\n",
      "Epoch 6/100\n",
      "12/12 [==============================] - 0s 7ms/step - loss: 244.7540\n",
      "Epoch 7/100\n",
      "12/12 [==============================] - 0s 7ms/step - loss: 255.3067\n",
      "Epoch 8/100\n",
      "12/12 [==============================] - 0s 8ms/step - loss: 282.6917\n",
      "Epoch 9/100\n",
      "12/12 [==============================] - 0s 7ms/step - loss: 279.7164\n",
      "Epoch 10/100\n",
      "12/12 [==============================] - 0s 7ms/step - loss: 185.7794\n",
      "Epoch 11/100\n",
      "12/12 [==============================] - 0s 7ms/step - loss: 111.3171\n",
      "Epoch 12/100\n",
      "12/12 [==============================] - 0s 7ms/step - loss: 87.8113\n",
      "Epoch 13/100\n",
      "12/12 [==============================] - 0s 7ms/step - loss: 85.8522\n",
      "Epoch 14/100\n",
      "12/12 [==============================] - 0s 7ms/step - loss: 52.4090\n",
      "Epoch 15/100\n",
      "12/12 [==============================] - 0s 7ms/step - loss: 41.4958\n",
      "Epoch 16/100\n",
      "12/12 [==============================] - 0s 7ms/step - loss: 30.8174\n",
      "Epoch 17/100\n",
      "12/12 [==============================] - 0s 7ms/step - loss: 16.4675\n",
      "Epoch 18/100\n",
      "12/12 [==============================] - 0s 7ms/step - loss: 1.6464\n",
      "Epoch 19/100\n",
      "12/12 [==============================] - 0s 7ms/step - loss: -4.8433\n",
      "Epoch 20/100\n",
      "12/12 [==============================] - 0s 7ms/step - loss: -19.9105\n",
      "Epoch 21/100\n",
      "12/12 [==============================] - 0s 7ms/step - loss: -28.3964\n",
      "Epoch 22/100\n",
      "12/12 [==============================] - 0s 7ms/step - loss: -36.6674\n",
      "Epoch 23/100\n",
      "12/12 [==============================] - 0s 7ms/step - loss: -38.1202\n",
      "Epoch 24/100\n",
      "12/12 [==============================] - 0s 7ms/step - loss: -47.8137\n",
      "Epoch 25/100\n",
      "12/12 [==============================] - 0s 7ms/step - loss: -52.0854\n",
      "Epoch 26/100\n",
      "12/12 [==============================] - 0s 7ms/step - loss: -52.9910\n",
      "Epoch 27/100\n",
      "12/12 [==============================] - 0s 7ms/step - loss: -60.7810\n",
      "Epoch 28/100\n",
      "12/12 [==============================] - 0s 7ms/step - loss: -67.6051\n",
      "Epoch 29/100\n",
      "12/12 [==============================] - 0s 8ms/step - loss: -73.7005\n",
      "Epoch 30/100\n",
      "12/12 [==============================] - 0s 8ms/step - loss: -78.4770\n",
      "Epoch 31/100\n",
      "12/12 [==============================] - 0s 7ms/step - loss: -79.9680\n",
      "Epoch 32/100\n",
      "12/12 [==============================] - 0s 7ms/step - loss: -85.3557\n",
      "Epoch 33/100\n",
      "12/12 [==============================] - 0s 7ms/step - loss: -60.8921\n",
      "Epoch 34/100\n",
      "12/12 [==============================] - 0s 7ms/step - loss: 4.5386\n",
      "Epoch 35/100\n",
      "12/12 [==============================] - 0s 7ms/step - loss: 265.7068\n",
      "Epoch 36/100\n",
      "12/12 [==============================] - 0s 7ms/step - loss: 236.9165\n",
      "Epoch 37/100\n",
      "12/12 [==============================] - 0s 7ms/step - loss: 24.5191\n",
      "Epoch 38/100\n",
      "12/12 [==============================] - 0s 7ms/step - loss: -6.8422\n",
      "Epoch 39/100\n",
      "12/12 [==============================] - 0s 7ms/step - loss: -31.6131\n",
      "Epoch 40/100\n",
      "12/12 [==============================] - 0s 7ms/step - loss: -45.0576\n",
      "Epoch 41/100\n",
      "12/12 [==============================] - 0s 7ms/step - loss: -48.1148\n",
      "Epoch 42/100\n",
      "12/12 [==============================] - 0s 7ms/step - loss: -63.8708\n"
     ]
    }
   ],
   "source": [
    "X = trdata[hpc_in].astype(np.float32).values\n",
    "cb = [EarlyStopping(monitor='loss', patience=10, min_delta=0.001, restore_best_weights=True)]\n",
    "history = hpc_rnvp.fit(X, batch_size=256, epochs=100, verbose=1, callbacks=cb)"
   ]
  },
  {
   "cell_type": "markdown",
   "metadata": {
    "slideshow": {
     "slide_type": "subslide"
    }
   },
   "source": [
    "## RNVP for Anomaly Detection\n",
    "\n",
    "**Here is the loss evolution over time**"
   ]
  },
  {
   "cell_type": "code",
   "execution_count": 14,
   "metadata": {},
   "outputs": [
    {
     "data": {
      "image/png": "[encoded data removed]",
      "text/plain": [
       "<Figure size 1008x216 with 1 Axes>"
      ]
     },
     "metadata": {
      "needs_background": "light"
     },
     "output_type": "display_data"
    }
   ],
   "source": [
    "nn.plot_training_history(history, figsize=figsize)"
   ]
  },
  {
   "cell_type": "markdown",
   "metadata": {
    "slideshow": {
     "slide_type": "subslide"
    }
   },
   "source": [
    "## RNVP for Anomaly Detection\n",
    "\n",
    "**Then we can generate a signal as usual**"
   ]
  },
  {
   "cell_type": "code",
   "execution_count": 15,
   "metadata": {},
   "outputs": [
    {
     "data": {
      "image/png": "[encoded data removed]",
      "text/plain": [
       "<Figure size 1008x216 with 1 Axes>"
      ]
     },
     "metadata": {
      "needs_background": "light"
     },
     "output_type": "display_data"
    }
   ],
   "source": [
    "X = hpcs[hpc_in].astype(np.float32).values\n",
    "signal_hpc = pd.Series(index=hpcs.index, data=-hpc_rnvp.score_samples(X))\n",
    "nn.plot_signal(signal_hpc, hpc_labels, figsize=figsize)"
   ]
  },
  {
   "cell_type": "markdown",
   "metadata": {},
   "source": [
    "* The signal is very similar to that of KDE"
   ]
  },
  {
   "cell_type": "markdown",
   "metadata": {
    "slideshow": {
     "slide_type": "subslide"
    }
   },
   "source": [
    "## RNVP for Anomaly Detection\n",
    "\n",
    "**Finally, we can tune the threshold**"
   ]
  },
  {
   "cell_type": "code",
   "execution_count": 16,
   "metadata": {},
   "outputs": [
    {
     "name": "stdout",
     "output_type": "stream",
     "text": [
      "Best threshold: 150000.0\n",
      "Cost on the training set: 0\n",
      "Cost on the validation set: 327\n",
      "Cost on the test set: 265\n"
     ]
    }
   ],
   "source": [
    "th_range = np.linspace(1e4, 1.5e5, 100)\n",
    "thr, val_cost = nn.opt_threshold(signal_hpc[tr_end:val_end],\n",
    "                                        valdata['anomaly'],\n",
    "                                        th_range, cmodel)\n",
    "print(f'Best threshold: {thr}')\n",
    "tr_cost = cmodel.cost(signal_hpc[:tr_end], hpcs['anomaly'][:tr_end], thr)\n",
    "print(f'Cost on the training set: {tr_cost}')\n",
    "print(f'Cost on the validation set: {val_cost}')\n",
    "ts_cost = cmodel.cost(signal_hpc[val_end:], hpcs['anomaly'][val_end:], thr)\n",
    "print(f'Cost on the test set: {ts_cost}')"
   ]
  },
  {
   "cell_type": "markdown",
   "metadata": {},
   "source": [
    "* Once again, the performance is on par with KDE\n",
    "* ...But we have better support for high-dimensional data!"
   ]
  }
 ],
 "metadata": {
  "celltoolbar": "Slideshow",
  "kernelspec": {
   "display_name": "Python 3",
   "language": "python",
   "name": "python3"
  },
  "language_info": {
   "codemirror_mode": {
    "name": "ipython",
    "version": 3
   },
   "file_extension": ".py",
   "mimetype": "text/x-python",
   "name": "python",
   "nbconvert_exporter": "python",
   "pygments_lexer": "ipython3",
   "version": "3.6.9"
  },
  "rise": {
   "center": false,
   "transition": "fade"
  },
  "widgets": {
   "application/vnd.jupyter.widget-state+json": {
    "state": {
     "007629028e8d4667a0e0b060bf792e3f": {
      "model_module": "jupyter-matplotlib",
      "model_module_version": "^0.7.4",
      "model_name": "ToolbarModel",
      "state": {
       "layout": "IPY_MODEL_3e4b58bc057446c3bcbb78be2475177a",
       "toolitems": [
        [
         "Home",
         "Reset original view",
         "home",
         "home"
        ],
        [
         "Back",
         "Back to previous view",
         "arrow-left",
         "back"
        ],
        [
         "Forward",
         "Forward to next view",
         "arrow-right",
         "forward"
        ],
        [
         "Pan",
         "Left button pans, Right button zooms\nx/y fixes axis, CTRL fixes aspect",
         "arrows",
         "pan"
        ],
        [
         "Zoom",
         "Zoom to rectangle\nx/y fixes axis, CTRL fixes aspect",
         "square-o",
         "zoom"
        ],
        [
         "Download",
         "Download plot",
         "floppy-o",
         "save_figure"
        ]
       ]
      }
     },
     "0131e08452ef4bd29fde014f22da978a": {
      "model_module": "@jupyter-widgets/base",
      "model_module_version": "1.2.0",
      "model_name": "LayoutModel",
      "state": {}
     },
     "02e3864f1207458381e08842316bbcc3": {
      "model_module": "@jupyter-widgets/base",
      "model_module_version": "1.2.0",
      "model_name": "LayoutModel",
      "state": {}
     },
     "0364e1eb0e5d40028aaf2b13ddf13cdb": {
      "model_module": "@jupyter-widgets/base",
      "model_module_version": "1.2.0",
      "model_name": "LayoutModel",
      "state": {}
     },
     "03e68ecde5734d2d919592f787a16cbd": {
      "model_module": "@jupyter-widgets/base",
      "model_module_version": "1.2.0",
      "model_name": "LayoutModel",
      "state": {}
     },
     "0537311f788e4fa480bdd84c99702133": {
      "model_module": "@jupyter-widgets/base",
      "model_module_version": "1.2.0",
      "model_name": "LayoutModel",
      "state": {}
     },
     "05b8ff32aaad4922ad7bf002c5e773e9": {
      "model_module": "jupyter-matplotlib",
      "model_module_version": "^0.7.4",
      "model_name": "ToolbarModel",
      "state": {
       "layout": "IPY_MODEL_7e85f681bd3a4ff0ae1f56289e31e5be",
       "toolitems": [
        [
         "Home",
         "Reset original view",
         "home",
         "home"
        ],
        [
         "Back",
         "Back to previous view",
         "arrow-left",
         "back"
        ],
        [
         "Forward",
         "Forward to next view",
         "arrow-right",
         "forward"
        ],
        [
         "Pan",
         "Left button pans, Right button zooms\nx/y fixes axis, CTRL fixes aspect",
         "arrows",
         "pan"
        ],
        [
         "Zoom",
         "Zoom to rectangle\nx/y fixes axis, CTRL fixes aspect",
         "square-o",
         "zoom"
        ],
        [
         "Download",
         "Download plot",
         "floppy-o",
         "save_figure"
        ]
       ]
      }
     },
     "08f3c52f4921417f8eb846ca4c0d8d41": {
      "model_module": "jupyter-matplotlib",
      "model_module_version": "^0.7.4",
      "model_name": "ToolbarModel",
      "state": {
       "_current_action": "zoom",
       "layout": "IPY_MODEL_c6e54e3c722f44708be2cf821ac45f44",
       "toolitems": [
        [
         "Home",
         "Reset original view",
         "home",
         "home"
        ],
        [
         "Back",
         "Back to previous view",
         "arrow-left",
         "back"
        ],
        [
         "Forward",
         "Forward to next view",
         "arrow-right",
         "forward"
        ],
        [
         "Pan",
         "Left button pans, Right button zooms\nx/y fixes axis, CTRL fixes aspect",
         "arrows",
         "pan"
        ],
        [
         "Zoom",
         "Zoom to rectangle\nx/y fixes axis, CTRL fixes aspect",
         "square-o",
         "zoom"
        ],
        [
         "Download",
         "Download plot",
         "floppy-o",
         "save_figure"
        ]
       ]
      }
     },
     "0ac3c831d88343d9a1d22bcd2fd44b23": {
      "model_module": "@jupyter-widgets/base",
      "model_module_version": "1.2.0",
      "model_name": "LayoutModel",
      "state": {}
     },
     "0c5c0dd0eae14d39a89a062d1bd0c6af": {
      "model_module": "jupyter-matplotlib",
      "model_module_version": "^0.7.4",
      "model_name": "ToolbarModel",
      "state": {
       "layout": "IPY_MODEL_28da4e44d5c0465e905feb614585c9b9",
       "toolitems": [
        [
         "Home",
         "Reset original view",
         "home",
         "home"
        ],
        [
         "Back",
         "Back to previous view",
         "arrow-left",
         "back"
        ],
        [
         "Forward",
         "Forward to next view",
         "arrow-right",
         "forward"
        ],
        [
         "Pan",
         "Left button pans, Right button zooms\nx/y fixes axis, CTRL fixes aspect",
         "arrows",
         "pan"
        ],
        [
         "Zoom",
         "Zoom to rectangle\nx/y fixes axis, CTRL fixes aspect",
         "square-o",
         "zoom"
        ],
        [
         "Download",
         "Download plot",
         "floppy-o",
         "save_figure"
        ]
       ]
      }
     },
     "0dc3b63c551145e294baf0e02d4472c0": {
      "model_module": "@jupyter-widgets/base",
      "model_module_version": "1.2.0",
      "model_name": "LayoutModel",
      "state": {}
     },
     "0f172d5406c3403e8484d210d3e8ce0b": {
      "model_module": "@jupyter-widgets/base",
      "model_module_version": "1.2.0",
      "model_name": "LayoutModel",
      "state": {}
     },
     "13d65e672c334b9ba9cf68270d6a2e23": {
      "model_module": "jupyter-matplotlib",
      "model_module_version": "^0.7.4",
      "model_name": "ToolbarModel",
      "state": {
       "layout": "IPY_MODEL_a18ca3dfee9541c8881672f1ab9e86e7",
       "toolitems": [
        [
         "Home",
         "Reset original view",
         "home",
         "home"
        ],
        [
         "Back",
         "Back to previous view",
         "arrow-left",
         "back"
        ],
        [
         "Forward",
         "Forward to next view",
         "arrow-right",
         "forward"
        ],
        [
         "Pan",
         "Left button pans, Right button zooms\nx/y fixes axis, CTRL fixes aspect",
         "arrows",
         "pan"
        ],
        [
         "Zoom",
         "Zoom to rectangle\nx/y fixes axis, CTRL fixes aspect",
         "square-o",
         "zoom"
        ],
        [
         "Download",
         "Download plot",
         "floppy-o",
         "save_figure"
        ]
       ]
      }
     },
     "14f6db40e74c468a85659aeabe6a8f87": {
      "model_module": "@jupyter-widgets/base",
      "model_module_version": "1.2.0",
      "model_name": "LayoutModel",
      "state": {}
     },
     "171c57015d6e4948b42ab9fe92d2007a": {
      "model_module": "jupyter-matplotlib",
      "model_module_version": "^0.7.4",
      "model_name": "ToolbarModel",
      "state": {
       "layout": "IPY_MODEL_bd685e5745bf4c398be631139d59dd45",
       "toolitems": [
        [
         "Home",
         "Reset original view",
         "home",
         "home"
        ],
        [
         "Back",
         "Back to previous view",
         "arrow-left",
         "back"
        ],
        [
         "Forward",
         "Forward to next view",
         "arrow-right",
         "forward"
        ],
        [
         "Pan",
         "Left button pans, Right button zooms\nx/y fixes axis, CTRL fixes aspect",
         "arrows",
         "pan"
        ],
        [
         "Zoom",
         "Zoom to rectangle\nx/y fixes axis, CTRL fixes aspect",
         "square-o",
         "zoom"
        ],
        [
         "Download",
         "Download plot",
         "floppy-o",
         "save_figure"
        ]
       ]
      }
     },
     "1743f0c38a8945bd9de9b66a47376721": {
      "model_module": "jupyter-matplotlib",
      "model_module_version": "^0.7.4",
      "model_name": "ToolbarModel",
      "state": {
       "layout": "IPY_MODEL_2398c6836e9b4b9b8646fb4366dd57c4",
       "toolitems": [
        [
         "Home",
         "Reset original view",
         "home",
         "home"
        ],
        [
         "Back",
         "Back to previous view",
         "arrow-left",
         "back"
        ],
        [
         "Forward",
         "Forward to next view",
         "arrow-right",
         "forward"
        ],
        [
         "Pan",
         "Left button pans, Right button zooms\nx/y fixes axis, CTRL fixes aspect",
         "arrows",
         "pan"
        ],
        [
         "Zoom",
         "Zoom to rectangle\nx/y fixes axis, CTRL fixes aspect",
         "square-o",
         "zoom"
        ],
        [
         "Download",
         "Download plot",
         "floppy-o",
         "save_figure"
        ]
       ]
      }
     },
     "19ac42d34bf1417c8b3faf592ed3aa0c": {
      "model_module": "jupyter-matplotlib",
      "model_module_version": "^0.7.4",
      "model_name": "ToolbarModel",
      "state": {
       "layout": "IPY_MODEL_a8a48193694f49cca640a9196ebb629a",
       "toolitems": [
        [
         "Home",
         "Reset original view",
         "home",
         "home"
        ],
        [
         "Back",
         "Back to previous view",
         "arrow-left",
         "back"
        ],
        [
         "Forward",
         "Forward to next view",
         "arrow-right",
         "forward"
        ],
        [
         "Pan",
         "Left button pans, Right button zooms\nx/y fixes axis, CTRL fixes aspect",
         "arrows",
         "pan"
        ],
        [
         "Zoom",
         "Zoom to rectangle\nx/y fixes axis, CTRL fixes aspect",
         "square-o",
         "zoom"
        ],
        [
         "Download",
         "Download plot",
         "floppy-o",
         "save_figure"
        ]
       ]
      }
     },
     "1ba4b09e5bf44cd8a20bbd0ef266791c": {
      "model_module": "@jupyter-widgets/base",
      "model_module_version": "1.2.0",
      "model_name": "LayoutModel",
      "state": {}
     },
     "1d5fe29a82dc4699801f79cd138a650e": {
      "model_module": "jupyter-matplotlib",
      "model_module_version": "^0.7.4",
      "model_name": "ToolbarModel",
      "state": {
       "layout": "IPY_MODEL_7d77d62021f2434a96fcb042f73d5e74",
       "toolitems": [
        [
         "Home",
         "Reset original view",
         "home",
         "home"
        ],
        [
         "Back",
         "Back to previous view",
         "arrow-left",
         "back"
        ],
        [
         "Forward",
         "Forward to next view",
         "arrow-right",
         "forward"
        ],
        [
         "Pan",
         "Left button pans, Right button zooms\nx/y fixes axis, CTRL fixes aspect",
         "arrows",
         "pan"
        ],
        [
         "Zoom",
         "Zoom to rectangle\nx/y fixes axis, CTRL fixes aspect",
         "square-o",
         "zoom"
        ],
        [
         "Download",
         "Download plot",
         "floppy-o",
         "save_figure"
        ]
       ]
      }
     },
     "1f0b03c6cf644805b853059c4cc7c9db": {
      "model_module": "@jupyter-widgets/base",
      "model_module_version": "1.2.0",
      "model_name": "LayoutModel",
      "state": {}
     },
     "1f0beb51095e407dad248c24fa79de98": {
      "model_module": "jupyter-matplotlib",
      "model_module_version": "^0.7.4",
      "model_name": "ToolbarModel",
      "state": {
       "layout": "IPY_MODEL_0131e08452ef4bd29fde014f22da978a",
       "toolitems": [
        [
         "Home",
         "Reset original view",
         "home",
         "home"
        ],
        [
         "Back",
         "Back to previous view",
         "arrow-left",
         "back"
        ],
        [
         "Forward",
         "Forward to next view",
         "arrow-right",
         "forward"
        ],
        [
         "Pan",
         "Left button pans, Right button zooms\nx/y fixes axis, CTRL fixes aspect",
         "arrows",
         "pan"
        ],
        [
         "Zoom",
         "Zoom to rectangle\nx/y fixes axis, CTRL fixes aspect",
         "square-o",
         "zoom"
        ],
        [
         "Download",
         "Download plot",
         "floppy-o",
         "save_figure"
        ]
       ]
      }
     },
     "1f5560686c1247e9a92ab3f64b07a542": {
      "model_module": "@jupyter-widgets/base",
      "model_module_version": "1.2.0",
      "model_name": "LayoutModel",
      "state": {}
     },
     "20a81e6c501e4bde8ee35a1592fd8325": {
      "model_module": "@jupyter-widgets/base",
      "model_module_version": "1.2.0",
      "model_name": "LayoutModel",
      "state": {}
     },
     "20ce708bf85447d080232fbf202868a0": {
      "model_module": "jupyter-matplotlib",
      "model_module_version": "^0.7.4",
      "model_name": "ToolbarModel",
      "state": {
       "layout": "IPY_MODEL_a8aac193954d4c5a948eafeff824257f",
       "toolitems": [
        [
         "Home",
         "Reset original view",
         "home",
         "home"
        ],
        [
         "Back",
         "Back to previous view",
         "arrow-left",
         "back"
        ],
        [
         "Forward",
         "Forward to next view",
         "arrow-right",
         "forward"
        ],
        [
         "Pan",
         "Left button pans, Right button zooms\nx/y fixes axis, CTRL fixes aspect",
         "arrows",
         "pan"
        ],
        [
         "Zoom",
         "Zoom to rectangle\nx/y fixes axis, CTRL fixes aspect",
         "square-o",
         "zoom"
        ],
        [
         "Download",
         "Download plot",
         "floppy-o",
         "save_figure"
        ]
       ]
      }
     },
     "22a7b733d56d4bd2900e13d73b40b4a6": {
      "model_module": "@jupyter-widgets/base",
      "model_module_version": "1.2.0",
      "model_name": "LayoutModel",
      "state": {}
     },
     "2355e00d374841a2961f58bc7fcd8a36": {
      "model_module": "@jupyter-widgets/base",
      "model_module_version": "1.2.0",
      "model_name": "LayoutModel",
      "state": {}
     },
     "2398c6836e9b4b9b8646fb4366dd57c4": {
      "model_module": "@jupyter-widgets/base",
      "model_module_version": "1.2.0",
      "model_name": "LayoutModel",
      "state": {}
     },
     "24450425d47b4641a5e91844385fe6e2": {
      "model_module": "@jupyter-widgets/base",
      "model_module_version": "1.2.0",
      "model_name": "LayoutModel",
      "state": {}
     },
     "25d142919393471e808dc52d03b1a6de": {
      "model_module": "@jupyter-widgets/base",
      "model_module_version": "1.2.0",
      "model_name": "LayoutModel",
      "state": {}
     },
     "2612eebac3ab48979592296ea186fe8d": {
      "model_module": "@jupyter-widgets/base",
      "model_module_version": "1.2.0",
      "model_name": "LayoutModel",
      "state": {}
     },
     "285e5b19076c4a38b50e5f47fc3e717c": {
      "model_module": "@jupyter-widgets/base",
      "model_module_version": "1.2.0",
      "model_name": "LayoutModel",
      "state": {}
     },
     "28da4e44d5c0465e905feb614585c9b9": {
      "model_module": "@jupyter-widgets/base",
      "model_module_version": "1.2.0",
      "model_name": "LayoutModel",
      "state": {}
     },
     "2b03d0d41623458e9883af2dbdba5303": {
      "model_module": "jupyter-matplotlib",
      "model_module_version": "^0.7.4",
      "model_name": "ToolbarModel",
      "state": {
       "layout": "IPY_MODEL_afb79086f5f94f0a8b6f1da388ff66f4",
       "toolitems": [
        [
         "Home",
         "Reset original view",
         "home",
         "home"
        ],
        [
         "Back",
         "Back to previous view",
         "arrow-left",
         "back"
        ],
        [
         "Forward",
         "Forward to next view",
         "arrow-right",
         "forward"
        ],
        [
         "Pan",
         "Left button pans, Right button zooms\nx/y fixes axis, CTRL fixes aspect",
         "arrows",
         "pan"
        ],
        [
         "Zoom",
         "Zoom to rectangle\nx/y fixes axis, CTRL fixes aspect",
         "square-o",
         "zoom"
        ],
        [
         "Download",
         "Download plot",
         "floppy-o",
         "save_figure"
        ]
       ]
      }
     },
     "2c08a997730843ef84a1fedf96c006fa": {
      "model_module": "@jupyter-widgets/base",
      "model_module_version": "1.2.0",
      "model_name": "LayoutModel",
      "state": {}
     },
     "2f14fa4c7ada4d83a158c1abcd31a1ac": {
      "model_module": "jupyter-matplotlib",
      "model_module_version": "^0.7.4",
      "model_name": "ToolbarModel",
      "state": {
       "layout": "IPY_MODEL_8a7aff38f56f4203b09b8879e6df147b",
       "toolitems": [
        [
         "Home",
         "Reset original view",
         "home",
         "home"
        ],
        [
         "Back",
         "Back to previous view",
         "arrow-left",
         "back"
        ],
        [
         "Forward",
         "Forward to next view",
         "arrow-right",
         "forward"
        ],
        [
         "Pan",
         "Left button pans, Right button zooms\nx/y fixes axis, CTRL fixes aspect",
         "arrows",
         "pan"
        ],
        [
         "Zoom",
         "Zoom to rectangle\nx/y fixes axis, CTRL fixes aspect",
         "square-o",
         "zoom"
        ],
        [
         "Download",
         "Download plot",
         "floppy-o",
         "save_figure"
        ]
       ]
      }
     },
     "2f8d43d24e624a58b7b2c5743b649fec": {
      "model_module": "@jupyter-widgets/base",
      "model_module_version": "1.2.0",
      "model_name": "LayoutModel",
      "state": {}
     },
     "2fefc6f1046c43e1bd55ec0db6848ffe": {
      "model_module": "@jupyter-widgets/base",
      "model_module_version": "1.2.0",
      "model_name": "LayoutModel",
      "state": {}
     },
     "309e748277984fabb09cc0f82f02343f": {
      "model_module": "@jupyter-widgets/base",
      "model_module_version": "1.2.0",
      "model_name": "LayoutModel",
      "state": {}
     },
     "3214d78acd1945a9ad5647c5ff9d45a2": {
      "model_module": "@jupyter-widgets/base",
      "model_module_version": "1.2.0",
      "model_name": "LayoutModel",
      "state": {}
     },
     "3295c42f954b46369db7ae4e17250ae5": {
      "model_module": "@jupyter-widgets/base",
      "model_module_version": "1.2.0",
      "model_name": "LayoutModel",
      "state": {}
     },
     "3443cae5ec1d43c8a3aa662bdb4037ed": {
      "model_module": "jupyter-matplotlib",
      "model_module_version": "^0.7.4",
      "model_name": "ToolbarModel",
      "state": {
       "layout": "IPY_MODEL_d9fca60cdb904624b4d55c17ae8c3689",
       "toolitems": [
        [
         "Home",
         "Reset original view",
         "home",
         "home"
        ],
        [
         "Back",
         "Back to previous view",
         "arrow-left",
         "back"
        ],
        [
         "Forward",
         "Forward to next view",
         "arrow-right",
         "forward"
        ],
        [
         "Pan",
         "Left button pans, Right button zooms\nx/y fixes axis, CTRL fixes aspect",
         "arrows",
         "pan"
        ],
        [
         "Zoom",
         "Zoom to rectangle\nx/y fixes axis, CTRL fixes aspect",
         "square-o",
         "zoom"
        ],
        [
         "Download",
         "Download plot",
         "floppy-o",
         "save_figure"
        ]
       ]
      }
     },
     "3953340b785242b683285e4d1494ba3a": {
      "model_module": "@jupyter-widgets/base",
      "model_module_version": "1.2.0",
      "model_name": "LayoutModel",
      "state": {}
     },
     "3deb27f0e3fe4d5b8836296048902a34": {
      "model_module": "@jupyter-widgets/base",
      "model_module_version": "1.2.0",
      "model_name": "LayoutModel",
      "state": {}
     },
     "3e4b58bc057446c3bcbb78be2475177a": {
      "model_module": "@jupyter-widgets/base",
      "model_module_version": "1.2.0",
      "model_name": "LayoutModel",
      "state": {}
     },
     "3e993260c44c4eda9bb493d1d1a5c5a7": {
      "model_module": "@jupyter-widgets/base",
      "model_module_version": "1.2.0",
      "model_name": "LayoutModel",
      "state": {}
     },
     "3ebecdf0322844ac81c03147a86b298f": {
      "model_module": "@jupyter-widgets/base",
      "model_module_version": "1.2.0",
      "model_name": "LayoutModel",
      "state": {}
     },
     "3f1dc0afe6814c5893e8ec18cd4c0ae7": {
      "model_module": "@jupyter-widgets/base",
      "model_module_version": "1.2.0",
      "model_name": "LayoutModel",
      "state": {}
     },
     "4184ca1146154f75a6469a52556c2be3": {
      "model_module": "jupyter-matplotlib",
      "model_module_version": "^0.7.4",
      "model_name": "ToolbarModel",
      "state": {
       "layout": "IPY_MODEL_d8d68429a83a4ff78afef2b9ab96ca56",
       "toolitems": [
        [
         "Home",
         "Reset original view",
         "home",
         "home"
        ],
        [
         "Back",
         "Back to previous view",
         "arrow-left",
         "back"
        ],
        [
         "Forward",
         "Forward to next view",
         "arrow-right",
         "forward"
        ],
        [
         "Pan",
         "Left button pans, Right button zooms\nx/y fixes axis, CTRL fixes aspect",
         "arrows",
         "pan"
        ],
        [
         "Zoom",
         "Zoom to rectangle\nx/y fixes axis, CTRL fixes aspect",
         "square-o",
         "zoom"
        ],
        [
         "Download",
         "Download plot",
         "floppy-o",
         "save_figure"
        ]
       ]
      }
     },
     "447f589bec974ad0ac89437d889cda5e": {
      "model_module": "@jupyter-widgets/base",
      "model_module_version": "1.2.0",
      "model_name": "LayoutModel",
      "state": {}
     },
     "45165f8574d5421c891a0eee06725b50": {
      "model_module": "@jupyter-widgets/base",
      "model_module_version": "1.2.0",
      "model_name": "LayoutModel",
      "state": {}
     },
     "452c5f12b55a422794482bad01dbeadc": {
      "model_module": "@jupyter-widgets/base",
      "model_module_version": "1.2.0",
      "model_name": "LayoutModel",
      "state": {}
     },
     "4560c6faea604d3ba377888510c53501": {
      "model_module": "@jupyter-widgets/base",
      "model_module_version": "1.2.0",
      "model_name": "LayoutModel",
      "state": {}
     },
     "4766a0878cbb4309a4d3e66c5d0ca256": {
      "model_module": "@jupyter-widgets/base",
      "model_module_version": "1.2.0",
      "model_name": "LayoutModel",
      "state": {}
     },
     "47e86baf7ccd40d4a87c831f4efe6864": {
      "model_module": "@jupyter-widgets/base",
      "model_module_version": "1.2.0",
      "model_name": "LayoutModel",
      "state": {}
     },
     "48b6055979214559a9859eb79c39002b": {
      "model_module": "jupyter-matplotlib",
      "model_module_version": "^0.7.4",
      "model_name": "ToolbarModel",
      "state": {
       "layout": "IPY_MODEL_948edb33a82b4646a86ed7c36b13a67d",
       "toolitems": [
        [
         "Home",
         "Reset original view",
         "home",
         "home"
        ],
        [
         "Back",
         "Back to previous view",
         "arrow-left",
         "back"
        ],
        [
         "Forward",
         "Forward to next view",
         "arrow-right",
         "forward"
        ],
        [
         "Pan",
         "Left button pans, Right button zooms\nx/y fixes axis, CTRL fixes aspect",
         "arrows",
         "pan"
        ],
        [
         "Zoom",
         "Zoom to rectangle\nx/y fixes axis, CTRL fixes aspect",
         "square-o",
         "zoom"
        ],
        [
         "Download",
         "Download plot",
         "floppy-o",
         "save_figure"
        ]
       ]
      }
     },
     "49b1895f395d4ddb96104d2191669259": {
      "model_module": "@jupyter-widgets/base",
      "model_module_version": "1.2.0",
      "model_name": "LayoutModel",
      "state": {}
     },
     "4a85ed4d75504be88250c78ae0bbb704": {
      "model_module": "@jupyter-widgets/base",
      "model_module_version": "1.2.0",
      "model_name": "LayoutModel",
      "state": {}
     },
     "4aa10e91ada14fcca214884679734936": {
      "model_module": "@jupyter-widgets/base",
      "model_module_version": "1.2.0",
      "model_name": "LayoutModel",
      "state": {}
     },
     "4e65e278ad7c45c8bfceaa5ff6aa3395": {
      "model_module": "jupyter-matplotlib",
      "model_module_version": "^0.7.4",
      "model_name": "ToolbarModel",
      "state": {
       "_current_action": "zoom",
       "layout": "IPY_MODEL_d7ed8086fed941159cc94af5427928da",
       "toolitems": [
        [
         "Home",
         "Reset original view",
         "home",
         "home"
        ],
        [
         "Back",
         "Back to previous view",
         "arrow-left",
         "back"
        ],
        [
         "Forward",
         "Forward to next view",
         "arrow-right",
         "forward"
        ],
        [
         "Pan",
         "Left button pans, Right button zooms\nx/y fixes axis, CTRL fixes aspect",
         "arrows",
         "pan"
        ],
        [
         "Zoom",
         "Zoom to rectangle\nx/y fixes axis, CTRL fixes aspect",
         "square-o",
         "zoom"
        ],
        [
         "Download",
         "Download plot",
         "floppy-o",
         "save_figure"
        ]
       ]
      }
     },
     "559cb7580ddd4fe2ba0059c84d47fd27": {
      "model_module": "jupyter-matplotlib",
      "model_module_version": "^0.7.4",
      "model_name": "ToolbarModel",
      "state": {
       "layout": "IPY_MODEL_5c0057397b9940c9811a8ab2c9652db9",
       "toolitems": [
        [
         "Home",
         "Reset original view",
         "home",
         "home"
        ],
        [
         "Back",
         "Back to previous view",
         "arrow-left",
         "back"
        ],
        [
         "Forward",
         "Forward to next view",
         "arrow-right",
         "forward"
        ],
        [
         "Pan",
         "Left button pans, Right button zooms\nx/y fixes axis, CTRL fixes aspect",
         "arrows",
         "pan"
        ],
        [
         "Zoom",
         "Zoom to rectangle\nx/y fixes axis, CTRL fixes aspect",
         "square-o",
         "zoom"
        ],
        [
         "Download",
         "Download plot",
         "floppy-o",
         "save_figure"
        ]
       ]
      }
     },
     "55c4b943b9604f0b8113da15080a882e": {
      "model_module": "@jupyter-widgets/base",
      "model_module_version": "1.2.0",
      "model_name": "LayoutModel",
      "state": {}
     },
     "57f2e06c59284dcb8c18055ff6c79666": {
      "model_module": "jupyter-matplotlib",
      "model_module_version": "^0.7.4",
      "model_name": "ToolbarModel",
      "state": {
       "layout": "IPY_MODEL_47e86baf7ccd40d4a87c831f4efe6864",
       "toolitems": [
        [
         "Home",
         "Reset original view",
         "home",
         "home"
        ],
        [
         "Back",
         "Back to previous view",
         "arrow-left",
         "back"
        ],
        [
         "Forward",
         "Forward to next view",
         "arrow-right",
         "forward"
        ],
        [
         "Pan",
         "Left button pans, Right button zooms\nx/y fixes axis, CTRL fixes aspect",
         "arrows",
         "pan"
        ],
        [
         "Zoom",
         "Zoom to rectangle\nx/y fixes axis, CTRL fixes aspect",
         "square-o",
         "zoom"
        ],
        [
         "Download",
         "Download plot",
         "floppy-o",
         "save_figure"
        ]
       ]
      }
     },
     "58cad31cd12b41a88ab3ab440e7ece59": {
      "model_module": "@jupyter-widgets/base",
      "model_module_version": "1.2.0",
      "model_name": "LayoutModel",
      "state": {}
     },
     "59a80b8303b04e3e99bd1e5a6f533c0b": {
      "model_module": "jupyter-matplotlib",
      "model_module_version": "^0.7.4",
      "model_name": "ToolbarModel",
      "state": {
       "layout": "IPY_MODEL_285e5b19076c4a38b50e5f47fc3e717c",
       "toolitems": [
        [
         "Home",
         "Reset original view",
         "home",
         "home"
        ],
        [
         "Back",
         "Back to previous view",
         "arrow-left",
         "back"
        ],
        [
         "Forward",
         "Forward to next view",
         "arrow-right",
         "forward"
        ],
        [
         "Pan",
         "Left button pans, Right button zooms\nx/y fixes axis, CTRL fixes aspect",
         "arrows",
         "pan"
        ],
        [
         "Zoom",
         "Zoom to rectangle\nx/y fixes axis, CTRL fixes aspect",
         "square-o",
         "zoom"
        ],
        [
         "Download",
         "Download plot",
         "floppy-o",
         "save_figure"
        ]
       ]
      }
     },
     "5c0057397b9940c9811a8ab2c9652db9": {
      "model_module": "@jupyter-widgets/base",
      "model_module_version": "1.2.0",
      "model_name": "LayoutModel",
      "state": {}
     },
     "5e1601b7028941c9b664eb113517bebd": {
      "model_module": "@jupyter-widgets/base",
      "model_module_version": "1.2.0",
      "model_name": "LayoutModel",
      "state": {}
     },
     "5e34307f151c469fa60152a7278e4759": {
      "model_module": "@jupyter-widgets/base",
      "model_module_version": "1.2.0",
      "model_name": "LayoutModel",
      "state": {}
     },
     "602dab5aeb2e42a5a9e28ff933a0cce2": {
      "model_module": "jupyter-matplotlib",
      "model_module_version": "^0.7.4",
      "model_name": "ToolbarModel",
      "state": {
       "layout": "IPY_MODEL_8f6ed4a683d74deb8f76ada61ccbcf10",
       "toolitems": [
        [
         "Home",
         "Reset original view",
         "home",
         "home"
        ],
        [
         "Back",
         "Back to previous view",
         "arrow-left",
         "back"
        ],
        [
         "Forward",
         "Forward to next view",
         "arrow-right",
         "forward"
        ],
        [
         "Pan",
         "Left button pans, Right button zooms\nx/y fixes axis, CTRL fixes aspect",
         "arrows",
         "pan"
        ],
        [
         "Zoom",
         "Zoom to rectangle\nx/y fixes axis, CTRL fixes aspect",
         "square-o",
         "zoom"
        ],
        [
         "Download",
         "Download plot",
         "floppy-o",
         "save_figure"
        ]
       ]
      }
     },
     "617bdbb38fee4f819c147b36649c32c8": {
      "model_module": "@jupyter-widgets/base",
      "model_module_version": "1.2.0",
      "model_name": "LayoutModel",
      "state": {}
     },
     "626bdec299bc4a7f84ca398416ae1b7a": {
      "model_module": "jupyter-matplotlib",
      "model_module_version": "^0.7.4",
      "model_name": "ToolbarModel",
      "state": {
       "layout": "IPY_MODEL_8c5f9e0326384e58b22a8e6428a78e2d",
       "toolitems": [
        [
         "Home",
         "Reset original view",
         "home",
         "home"
        ],
        [
         "Back",
         "Back to previous view",
         "arrow-left",
         "back"
        ],
        [
         "Forward",
         "Forward to next view",
         "arrow-right",
         "forward"
        ],
        [
         "Pan",
         "Left button pans, Right button zooms\nx/y fixes axis, CTRL fixes aspect",
         "arrows",
         "pan"
        ],
        [
         "Zoom",
         "Zoom to rectangle\nx/y fixes axis, CTRL fixes aspect",
         "square-o",
         "zoom"
        ],
        [
         "Download",
         "Download plot",
         "floppy-o",
         "save_figure"
        ]
       ]
      }
     },
     "626e40ef376545f7ac322bd2fd2b10bc": {
      "model_module": "jupyter-matplotlib",
      "model_module_version": "^0.7.4",
      "model_name": "ToolbarModel",
      "state": {
       "layout": "IPY_MODEL_c24b4bb5d3754c508f9841ab3ec45176",
       "toolitems": [
        [
         "Home",
         "Reset original view",
         "home",
         "home"
        ],
        [
         "Back",
         "Back to previous view",
         "arrow-left",
         "back"
        ],
        [
         "Forward",
         "Forward to next view",
         "arrow-right",
         "forward"
        ],
        [
         "Pan",
         "Left button pans, Right button zooms\nx/y fixes axis, CTRL fixes aspect",
         "arrows",
         "pan"
        ],
        [
         "Zoom",
         "Zoom to rectangle\nx/y fixes axis, CTRL fixes aspect",
         "square-o",
         "zoom"
        ],
        [
         "Download",
         "Download plot",
         "floppy-o",
         "save_figure"
        ]
       ]
      }
     },
     "62920200c23f40fcbe44b27bce32757d": {
      "model_module": "jupyter-matplotlib",
      "model_module_version": "^0.7.4",
      "model_name": "ToolbarModel",
      "state": {
       "layout": "IPY_MODEL_d11bd9082fca4552ad3e02c23e76432e",
       "toolitems": [
        [
         "Home",
         "Reset original view",
         "home",
         "home"
        ],
        [
         "Back",
         "Back to previous view",
         "arrow-left",
         "back"
        ],
        [
         "Forward",
         "Forward to next view",
         "arrow-right",
         "forward"
        ],
        [
         "Pan",
         "Left button pans, Right button zooms\nx/y fixes axis, CTRL fixes aspect",
         "arrows",
         "pan"
        ],
        [
         "Zoom",
         "Zoom to rectangle\nx/y fixes axis, CTRL fixes aspect",
         "square-o",
         "zoom"
        ],
        [
         "Download",
         "Download plot",
         "floppy-o",
         "save_figure"
        ]
       ]
      }
     },
     "636d84b81d8549b88338cac354eadb73": {
      "model_module": "@jupyter-widgets/base",
      "model_module_version": "1.2.0",
      "model_name": "LayoutModel",
      "state": {}
     },
     "6509ea40248a4ec3b246f01868b3822c": {
      "model_module": "jupyter-matplotlib",
      "model_module_version": "^0.7.4",
      "model_name": "ToolbarModel",
      "state": {
       "layout": "IPY_MODEL_c10bcb90ab4142e3865f3ac9ee9c85b2",
       "toolitems": [
        [
         "Home",
         "Reset original view",
         "home",
         "home"
        ],
        [
         "Back",
         "Back to previous view",
         "arrow-left",
         "back"
        ],
        [
         "Forward",
         "Forward to next view",
         "arrow-right",
         "forward"
        ],
        [
         "Pan",
         "Left button pans, Right button zooms\nx/y fixes axis, CTRL fixes aspect",
         "arrows",
         "pan"
        ],
        [
         "Zoom",
         "Zoom to rectangle\nx/y fixes axis, CTRL fixes aspect",
         "square-o",
         "zoom"
        ],
        [
         "Download",
         "Download plot",
         "floppy-o",
         "save_figure"
        ]
       ]
      }
     },
     "6662450db7fd4ecc8860707e52b70f57": {
      "model_module": "@jupyter-widgets/base",
      "model_module_version": "1.2.0",
      "model_name": "LayoutModel",
      "state": {}
     },
     "68f4e6f02bcd44d3abe4bcceb7d7974f": {
      "model_module": "@jupyter-widgets/base",
      "model_module_version": "1.2.0",
      "model_name": "LayoutModel",
      "state": {}
     },
     "6a0549091d7544509ffc128a3eb08e5f": {
      "model_module": "@jupyter-widgets/base",
      "model_module_version": "1.2.0",
      "model_name": "LayoutModel",
      "state": {}
     },
     "6b299a3228d242a9aca72c0322bfe109": {
      "model_module": "@jupyter-widgets/base",
      "model_module_version": "1.2.0",
      "model_name": "LayoutModel",
      "state": {}
     },
     "6bb8348d4d5849dd9a823660da46cff1": {
      "model_module": "@jupyter-widgets/base",
      "model_module_version": "1.2.0",
      "model_name": "LayoutModel",
      "state": {}
     },
     "6d0524952d894178940af2bf64c995f5": {
      "model_module": "@jupyter-widgets/base",
      "model_module_version": "1.2.0",
      "model_name": "LayoutModel",
      "state": {}
     },
     "6f5246bf3a1f4ec7b565745325a6648d": {
      "model_module": "@jupyter-widgets/base",
      "model_module_version": "1.2.0",
      "model_name": "LayoutModel",
      "state": {}
     },
     "6fc83af1014f4cf6bf0f6e5e4ab5bad2": {
      "model_module": "@jupyter-widgets/base",
      "model_module_version": "1.2.0",
      "model_name": "LayoutModel",
      "state": {}
     },
     "6fe71d769fa148dc9eb6408e02bd190e": {
      "model_module": "jupyter-matplotlib",
      "model_module_version": "^0.7.4",
      "model_name": "ToolbarModel",
      "state": {
       "layout": "IPY_MODEL_8e26b064e1034d52a513f1c732f60c5b",
       "toolitems": [
        [
         "Home",
         "Reset original view",
         "home",
         "home"
        ],
        [
         "Back",
         "Back to previous view",
         "arrow-left",
         "back"
        ],
        [
         "Forward",
         "Forward to next view",
         "arrow-right",
         "forward"
        ],
        [
         "Pan",
         "Left button pans, Right button zooms\nx/y fixes axis, CTRL fixes aspect",
         "arrows",
         "pan"
        ],
        [
         "Zoom",
         "Zoom to rectangle\nx/y fixes axis, CTRL fixes aspect",
         "square-o",
         "zoom"
        ],
        [
         "Download",
         "Download plot",
         "floppy-o",
         "save_figure"
        ]
       ]
      }
     },
     "725c028a773f49498c65952094251274": {
      "model_module": "@jupyter-widgets/base",
      "model_module_version": "1.2.0",
      "model_name": "LayoutModel",
      "state": {}
     },
     "733e014a969d4cb8bbcf2644c372fa9a": {
      "model_module": "@jupyter-widgets/base",
      "model_module_version": "1.2.0",
      "model_name": "LayoutModel",
      "state": {}
     },
     "7633c1eca4c94130905b2513bed4c296": {
      "model_module": "@jupyter-widgets/base",
      "model_module_version": "1.2.0",
      "model_name": "LayoutModel",
      "state": {}
     },
     "767c6430030140b683404039a06cd46e": {
      "model_module": "@jupyter-widgets/base",
      "model_module_version": "1.2.0",
      "model_name": "LayoutModel",
      "state": {}
     },
     "77b18695879e47e2af210346fae51abf": {
      "model_module": "@jupyter-widgets/base",
      "model_module_version": "1.2.0",
      "model_name": "LayoutModel",
      "state": {}
     },
     "7acdf0c76afe4e27ad0d9abf620aa3a2": {
      "model_module": "jupyter-matplotlib",
      "model_module_version": "^0.7.4",
      "model_name": "ToolbarModel",
      "state": {
       "layout": "IPY_MODEL_3295c42f954b46369db7ae4e17250ae5",
       "toolitems": [
        [
         "Home",
         "Reset original view",
         "home",
         "home"
        ],
        [
         "Back",
         "Back to previous view",
         "arrow-left",
         "back"
        ],
        [
         "Forward",
         "Forward to next view",
         "arrow-right",
         "forward"
        ],
        [
         "Pan",
         "Left button pans, Right button zooms\nx/y fixes axis, CTRL fixes aspect",
         "arrows",
         "pan"
        ],
        [
         "Zoom",
         "Zoom to rectangle\nx/y fixes axis, CTRL fixes aspect",
         "square-o",
         "zoom"
        ],
        [
         "Download",
         "Download plot",
         "floppy-o",
         "save_figure"
        ]
       ]
      }
     },
     "7b7c0a7bcf114bd2be54b4bb9fc8d44b": {
      "model_module": "@jupyter-widgets/base",
      "model_module_version": "1.2.0",
      "model_name": "LayoutModel",
      "state": {}
     },
     "7cab6dd6854546eb8985066d7a2119b2": {
      "model_module": "jupyter-matplotlib",
      "model_module_version": "^0.7.4",
      "model_name": "ToolbarModel",
      "state": {
       "layout": "IPY_MODEL_2fefc6f1046c43e1bd55ec0db6848ffe",
       "toolitems": [
        [
         "Home",
         "Reset original view",
         "home",
         "home"
        ],
        [
         "Back",
         "Back to previous view",
         "arrow-left",
         "back"
        ],
        [
         "Forward",
         "Forward to next view",
         "arrow-right",
         "forward"
        ],
        [
         "Pan",
         "Left button pans, Right button zooms\nx/y fixes axis, CTRL fixes aspect",
         "arrows",
         "pan"
        ],
        [
         "Zoom",
         "Zoom to rectangle\nx/y fixes axis, CTRL fixes aspect",
         "square-o",
         "zoom"
        ],
        [
         "Download",
         "Download plot",
         "floppy-o",
         "save_figure"
        ]
       ]
      }
     },
     "7d0a28e5656f46d3a2f0ef51cd190e50": {
      "model_module": "jupyter-matplotlib",
      "model_module_version": "^0.7.4",
      "model_name": "ToolbarModel",
      "state": {
       "layout": "IPY_MODEL_cf4877e6d1d547e49792b017086e682f",
       "toolitems": [
        [
         "Home",
         "Reset original view",
         "home",
         "home"
        ],
        [
         "Back",
         "Back to previous view",
         "arrow-left",
         "back"
        ],
        [
         "Forward",
         "Forward to next view",
         "arrow-right",
         "forward"
        ],
        [
         "Pan",
         "Left button pans, Right button zooms\nx/y fixes axis, CTRL fixes aspect",
         "arrows",
         "pan"
        ],
        [
         "Zoom",
         "Zoom to rectangle\nx/y fixes axis, CTRL fixes aspect",
         "square-o",
         "zoom"
        ],
        [
         "Download",
         "Download plot",
         "floppy-o",
         "save_figure"
        ]
       ]
      }
     },
     "7d77d62021f2434a96fcb042f73d5e74": {
      "model_module": "@jupyter-widgets/base",
      "model_module_version": "1.2.0",
      "model_name": "LayoutModel",
      "state": {}
     },
     "7e85f681bd3a4ff0ae1f56289e31e5be": {
      "model_module": "@jupyter-widgets/base",
      "model_module_version": "1.2.0",
      "model_name": "LayoutModel",
      "state": {}
     },
     "810641b35bff463bbcd66ff62460e606": {
      "model_module": "jupyter-matplotlib",
      "model_module_version": "^0.7.4",
      "model_name": "ToolbarModel",
      "state": {
       "layout": "IPY_MODEL_a8f8ed8f167b48fbad454604276ec933",
       "toolitems": [
        [
         "Home",
         "Reset original view",
         "home",
         "home"
        ],
        [
         "Back",
         "Back to previous view",
         "arrow-left",
         "back"
        ],
        [
         "Forward",
         "Forward to next view",
         "arrow-right",
         "forward"
        ],
        [
         "Pan",
         "Left button pans, Right button zooms\nx/y fixes axis, CTRL fixes aspect",
         "arrows",
         "pan"
        ],
        [
         "Zoom",
         "Zoom to rectangle\nx/y fixes axis, CTRL fixes aspect",
         "square-o",
         "zoom"
        ],
        [
         "Download",
         "Download plot",
         "floppy-o",
         "save_figure"
        ]
       ]
      }
     },
     "812958249f6441c3b8f4783d64d02ffb": {
      "model_module": "@jupyter-widgets/base",
      "model_module_version": "1.2.0",
      "model_name": "LayoutModel",
      "state": {}
     },
     "81581a2906394067b0444df79913a712": {
      "model_module": "jupyter-matplotlib",
      "model_module_version": "^0.7.4",
      "model_name": "ToolbarModel",
      "state": {
       "layout": "IPY_MODEL_2612eebac3ab48979592296ea186fe8d",
       "toolitems": [
        [
         "Home",
         "Reset original view",
         "home",
         "home"
        ],
        [
         "Back",
         "Back to previous view",
         "arrow-left",
         "back"
        ],
        [
         "Forward",
         "Forward to next view",
         "arrow-right",
         "forward"
        ],
        [
         "Pan",
         "Left button pans, Right button zooms\nx/y fixes axis, CTRL fixes aspect",
         "arrows",
         "pan"
        ],
        [
         "Zoom",
         "Zoom to rectangle\nx/y fixes axis, CTRL fixes aspect",
         "square-o",
         "zoom"
        ],
        [
         "Download",
         "Download plot",
         "floppy-o",
         "save_figure"
        ]
       ]
      }
     },
     "823d92a98dd74562baf79fb880727a3b": {
      "model_module": "@jupyter-widgets/base",
      "model_module_version": "1.2.0",
      "model_name": "LayoutModel",
      "state": {}
     },
     "82468e5af3c7453b8a9053e772136591": {
      "model_module": "@jupyter-widgets/base",
      "model_module_version": "1.2.0",
      "model_name": "LayoutModel",
      "state": {}
     },
     "84fc3983b451445fbbc5525c7834b540": {
      "model_module": "jupyter-matplotlib",
      "model_module_version": "^0.7.4",
      "model_name": "ToolbarModel",
      "state": {
       "layout": "IPY_MODEL_22a7b733d56d4bd2900e13d73b40b4a6",
       "toolitems": [
        [
         "Home",
         "Reset original view",
         "home",
         "home"
        ],
        [
         "Back",
         "Back to previous view",
         "arrow-left",
         "back"
        ],
        [
         "Forward",
         "Forward to next view",
         "arrow-right",
         "forward"
        ],
        [
         "Pan",
         "Left button pans, Right button zooms\nx/y fixes axis, CTRL fixes aspect",
         "arrows",
         "pan"
        ],
        [
         "Zoom",
         "Zoom to rectangle\nx/y fixes axis, CTRL fixes aspect",
         "square-o",
         "zoom"
        ],
        [
         "Download",
         "Download plot",
         "floppy-o",
         "save_figure"
        ]
       ]
      }
     },
     "8529ba088d06412a83fa7514fa97ff18": {
      "model_module": "jupyter-matplotlib",
      "model_module_version": "^0.7.4",
      "model_name": "ToolbarModel",
      "state": {
       "layout": "IPY_MODEL_f16f3042809347c3bd2de477ee3c79c2",
       "toolitems": [
        [
         "Home",
         "Reset original view",
         "home",
         "home"
        ],
        [
         "Back",
         "Back to previous view",
         "arrow-left",
         "back"
        ],
        [
         "Forward",
         "Forward to next view",
         "arrow-right",
         "forward"
        ],
        [
         "Pan",
         "Left button pans, Right button zooms\nx/y fixes axis, CTRL fixes aspect",
         "arrows",
         "pan"
        ],
        [
         "Zoom",
         "Zoom to rectangle\nx/y fixes axis, CTRL fixes aspect",
         "square-o",
         "zoom"
        ],
        [
         "Download",
         "Download plot",
         "floppy-o",
         "save_figure"
        ]
       ]
      }
     },
     "86d1fe92f1cd40cc87677d9baf644631": {
      "model_module": "@jupyter-widgets/base",
      "model_module_version": "1.2.0",
      "model_name": "LayoutModel",
      "state": {}
     },
     "86f7e512364e436da0cad368f258f812": {
      "model_module": "@jupyter-widgets/base",
      "model_module_version": "1.2.0",
      "model_name": "LayoutModel",
      "state": {}
     },
     "879228fa3fb541178398d5a59652db49": {
      "model_module": "jupyter-matplotlib",
      "model_module_version": "^0.7.4",
      "model_name": "ToolbarModel",
      "state": {
       "layout": "IPY_MODEL_20a81e6c501e4bde8ee35a1592fd8325",
       "toolitems": [
        [
         "Home",
         "Reset original view",
         "home",
         "home"
        ],
        [
         "Back",
         "Back to previous view",
         "arrow-left",
         "back"
        ],
        [
         "Forward",
         "Forward to next view",
         "arrow-right",
         "forward"
        ],
        [
         "Pan",
         "Left button pans, Right button zooms\nx/y fixes axis, CTRL fixes aspect",
         "arrows",
         "pan"
        ],
        [
         "Zoom",
         "Zoom to rectangle\nx/y fixes axis, CTRL fixes aspect",
         "square-o",
         "zoom"
        ],
        [
         "Download",
         "Download plot",
         "floppy-o",
         "save_figure"
        ]
       ]
      }
     },
     "893f80a753154421819a3606d8b13efb": {
      "model_module": "@jupyter-widgets/base",
      "model_module_version": "1.2.0",
      "model_name": "LayoutModel",
      "state": {}
     },
     "89d0898bc82140c8b1216c271531d663": {
      "model_module": "@jupyter-widgets/base",
      "model_module_version": "1.2.0",
      "model_name": "LayoutModel",
      "state": {}
     },
     "8a7aff38f56f4203b09b8879e6df147b": {
      "model_module": "@jupyter-widgets/base",
      "model_module_version": "1.2.0",
      "model_name": "LayoutModel",
      "state": {}
     },
     "8a992961469943698bfeb80b6ec5f501": {
      "model_module": "@jupyter-widgets/base",
      "model_module_version": "1.2.0",
      "model_name": "LayoutModel",
      "state": {}
     },
     "8c5f9e0326384e58b22a8e6428a78e2d": {
      "model_module": "@jupyter-widgets/base",
      "model_module_version": "1.2.0",
      "model_name": "LayoutModel",
      "state": {}
     },
     "8de28d320c6b444ea9ac59e899185fa5": {
      "model_module": "jupyter-matplotlib",
      "model_module_version": "^0.7.4",
      "model_name": "ToolbarModel",
      "state": {
       "layout": "IPY_MODEL_89d0898bc82140c8b1216c271531d663",
       "toolitems": [
        [
         "Home",
         "Reset original view",
         "home",
         "home"
        ],
        [
         "Back",
         "Back to previous view",
         "arrow-left",
         "back"
        ],
        [
         "Forward",
         "Forward to next view",
         "arrow-right",
         "forward"
        ],
        [
         "Pan",
         "Left button pans, Right button zooms\nx/y fixes axis, CTRL fixes aspect",
         "arrows",
         "pan"
        ],
        [
         "Zoom",
         "Zoom to rectangle\nx/y fixes axis, CTRL fixes aspect",
         "square-o",
         "zoom"
        ],
        [
         "Download",
         "Download plot",
         "floppy-o",
         "save_figure"
        ]
       ]
      }
     },
     "8e26b064e1034d52a513f1c732f60c5b": {
      "model_module": "@jupyter-widgets/base",
      "model_module_version": "1.2.0",
      "model_name": "LayoutModel",
      "state": {}
     },
     "8ea5bfae658f4a52a24022dfd3ade9f4": {
      "model_module": "jupyter-matplotlib",
      "model_module_version": "^0.7.4",
      "model_name": "ToolbarModel",
      "state": {
       "layout": "IPY_MODEL_d0448f6fbdf94976b7d15b8f8be128dc",
       "toolitems": [
        [
         "Home",
         "Reset original view",
         "home",
         "home"
        ],
        [
         "Back",
         "Back to previous view",
         "arrow-left",
         "back"
        ],
        [
         "Forward",
         "Forward to next view",
         "arrow-right",
         "forward"
        ],
        [
         "Pan",
         "Left button pans, Right button zooms\nx/y fixes axis, CTRL fixes aspect",
         "arrows",
         "pan"
        ],
        [
         "Zoom",
         "Zoom to rectangle\nx/y fixes axis, CTRL fixes aspect",
         "square-o",
         "zoom"
        ],
        [
         "Download",
         "Download plot",
         "floppy-o",
         "save_figure"
        ]
       ]
      }
     },
     "8f6ed4a683d74deb8f76ada61ccbcf10": {
      "model_module": "@jupyter-widgets/base",
      "model_module_version": "1.2.0",
      "model_name": "LayoutModel",
      "state": {}
     },
     "948edb33a82b4646a86ed7c36b13a67d": {
      "model_module": "@jupyter-widgets/base",
      "model_module_version": "1.2.0",
      "model_name": "LayoutModel",
      "state": {}
     },
     "95f155d76000439084ee17ff94b0948a": {
      "model_module": "jupyter-matplotlib",
      "model_module_version": "^0.7.4",
      "model_name": "ToolbarModel",
      "state": {
       "layout": "IPY_MODEL_b2ed173b68d04d73816697f71d438ab5",
       "toolitems": [
        [
         "Home",
         "Reset original view",
         "home",
         "home"
        ],
        [
         "Back",
         "Back to previous view",
         "arrow-left",
         "back"
        ],
        [
         "Forward",
         "Forward to next view",
         "arrow-right",
         "forward"
        ],
        [
         "Pan",
         "Left button pans, Right button zooms\nx/y fixes axis, CTRL fixes aspect",
         "arrows",
         "pan"
        ],
        [
         "Zoom",
         "Zoom to rectangle\nx/y fixes axis, CTRL fixes aspect",
         "square-o",
         "zoom"
        ],
        [
         "Download",
         "Download plot",
         "floppy-o",
         "save_figure"
        ]
       ]
      }
     },
     "960f0322e2ea48d2a783d7fe90044dd8": {
      "model_module": "@jupyter-widgets/base",
      "model_module_version": "1.2.0",
      "model_name": "LayoutModel",
      "state": {}
     },
     "962fcdc3ec0e48fda3ad7abd4e14ac58": {
      "model_module": "@jupyter-widgets/base",
      "model_module_version": "1.2.0",
      "model_name": "LayoutModel",
      "state": {}
     },
     "975de1c7a0c64fdba0de57b25db92708": {
      "model_module": "@jupyter-widgets/base",
      "model_module_version": "1.2.0",
      "model_name": "LayoutModel",
      "state": {}
     },
     "98599726ec574d4bad6d04cadf4b1deb": {
      "model_module": "jupyter-matplotlib",
      "model_module_version": "^0.7.4",
      "model_name": "ToolbarModel",
      "state": {
       "layout": "IPY_MODEL_3deb27f0e3fe4d5b8836296048902a34",
       "toolitems": [
        [
         "Home",
         "Reset original view",
         "home",
         "home"
        ],
        [
         "Back",
         "Back to previous view",
         "arrow-left",
         "back"
        ],
        [
         "Forward",
         "Forward to next view",
         "arrow-right",
         "forward"
        ],
        [
         "Pan",
         "Left button pans, Right button zooms\nx/y fixes axis, CTRL fixes aspect",
         "arrows",
         "pan"
        ],
        [
         "Zoom",
         "Zoom to rectangle\nx/y fixes axis, CTRL fixes aspect",
         "square-o",
         "zoom"
        ],
        [
         "Download",
         "Download plot",
         "floppy-o",
         "save_figure"
        ]
       ]
      }
     },
     "98fa9546e1b84d4c930cdbdb6de0b8b8": {
      "model_module": "@jupyter-widgets/base",
      "model_module_version": "1.2.0",
      "model_name": "LayoutModel",
      "state": {}
     },
     "99909525732a43f2a68cb60e78f4766d": {
      "model_module": "jupyter-matplotlib",
      "model_module_version": "^0.7.4",
      "model_name": "ToolbarModel",
      "state": {
       "layout": "IPY_MODEL_d62dc84fda084b1b9150aaf1088d5908",
       "toolitems": [
        [
         "Home",
         "Reset original view",
         "home",
         "home"
        ],
        [
         "Back",
         "Back to previous view",
         "arrow-left",
         "back"
        ],
        [
         "Forward",
         "Forward to next view",
         "arrow-right",
         "forward"
        ],
        [
         "Pan",
         "Left button pans, Right button zooms\nx/y fixes axis, CTRL fixes aspect",
         "arrows",
         "pan"
        ],
        [
         "Zoom",
         "Zoom to rectangle\nx/y fixes axis, CTRL fixes aspect",
         "square-o",
         "zoom"
        ],
        [
         "Download",
         "Download plot",
         "floppy-o",
         "save_figure"
        ]
       ]
      }
     },
     "99bd27a2804f44339676b91eba7a526c": {
      "model_module": "jupyter-matplotlib",
      "model_module_version": "^0.7.4",
      "model_name": "ToolbarModel",
      "state": {
       "layout": "IPY_MODEL_45165f8574d5421c891a0eee06725b50",
       "toolitems": [
        [
         "Home",
         "Reset original view",
         "home",
         "home"
        ],
        [
         "Back",
         "Back to previous view",
         "arrow-left",
         "back"
        ],
        [
         "Forward",
         "Forward to next view",
         "arrow-right",
         "forward"
        ],
        [
         "Pan",
         "Left button pans, Right button zooms\nx/y fixes axis, CTRL fixes aspect",
         "arrows",
         "pan"
        ],
        [
         "Zoom",
         "Zoom to rectangle\nx/y fixes axis, CTRL fixes aspect",
         "square-o",
         "zoom"
        ],
        [
         "Download",
         "Download plot",
         "floppy-o",
         "save_figure"
        ]
       ]
      }
     },
     "9a0bd75a296448e2a52631e6ee2cac27": {
      "model_module": "@jupyter-widgets/base",
      "model_module_version": "1.2.0",
      "model_name": "LayoutModel",
      "state": {}
     },
     "9c436ef14bd64d89aefd28d77e95c964": {
      "model_module": "@jupyter-widgets/base",
      "model_module_version": "1.2.0",
      "model_name": "LayoutModel",
      "state": {}
     },
     "9c7d623654894409acf4635363b3083e": {
      "model_module": "jupyter-matplotlib",
      "model_module_version": "^0.7.4",
      "model_name": "ToolbarModel",
      "state": {
       "layout": "IPY_MODEL_6b299a3228d242a9aca72c0322bfe109",
       "toolitems": [
        [
         "Home",
         "Reset original view",
         "home",
         "home"
        ],
        [
         "Back",
         "Back to previous view",
         "arrow-left",
         "back"
        ],
        [
         "Forward",
         "Forward to next view",
         "arrow-right",
         "forward"
        ],
        [
         "Pan",
         "Left button pans, Right button zooms\nx/y fixes axis, CTRL fixes aspect",
         "arrows",
         "pan"
        ],
        [
         "Zoom",
         "Zoom to rectangle\nx/y fixes axis, CTRL fixes aspect",
         "square-o",
         "zoom"
        ],
        [
         "Download",
         "Download plot",
         "floppy-o",
         "save_figure"
        ]
       ]
      }
     },
     "9e83ce0522474fffb2adb59245cf0dd7": {
      "model_module": "jupyter-matplotlib",
      "model_module_version": "^0.7.4",
      "model_name": "ToolbarModel",
      "state": {
       "layout": "IPY_MODEL_ccb93b620bc040e1bf351fe3b150aff0",
       "toolitems": [
        [
         "Home",
         "Reset original view",
         "home",
         "home"
        ],
        [
         "Back",
         "Back to previous view",
         "arrow-left",
         "back"
        ],
        [
         "Forward",
         "Forward to next view",
         "arrow-right",
         "forward"
        ],
        [
         "Pan",
         "Left button pans, Right button zooms\nx/y fixes axis, CTRL fixes aspect",
         "arrows",
         "pan"
        ],
        [
         "Zoom",
         "Zoom to rectangle\nx/y fixes axis, CTRL fixes aspect",
         "square-o",
         "zoom"
        ],
        [
         "Download",
         "Download plot",
         "floppy-o",
         "save_figure"
        ]
       ]
      }
     },
     "a18ca3dfee9541c8881672f1ab9e86e7": {
      "model_module": "@jupyter-widgets/base",
      "model_module_version": "1.2.0",
      "model_name": "LayoutModel",
      "state": {}
     },
     "a5fc58c6d7ea499db488bb8e3c9897c5": {
      "model_module": "@jupyter-widgets/base",
      "model_module_version": "1.2.0",
      "model_name": "LayoutModel",
      "state": {}
     },
     "a7bd8af7d10d43bc9e6d42d9dbbb59e2": {
      "model_module": "jupyter-matplotlib",
      "model_module_version": "^0.7.4",
      "model_name": "ToolbarModel",
      "state": {
       "layout": "IPY_MODEL_b469f19d9eef43fa885d204cfd58e3db",
       "toolitems": [
        [
         "Home",
         "Reset original view",
         "home",
         "home"
        ],
        [
         "Back",
         "Back to previous view",
         "arrow-left",
         "back"
        ],
        [
         "Forward",
         "Forward to next view",
         "arrow-right",
         "forward"
        ],
        [
         "Pan",
         "Left button pans, Right button zooms\nx/y fixes axis, CTRL fixes aspect",
         "arrows",
         "pan"
        ],
        [
         "Zoom",
         "Zoom to rectangle\nx/y fixes axis, CTRL fixes aspect",
         "square-o",
         "zoom"
        ],
        [
         "Download",
         "Download plot",
         "floppy-o",
         "save_figure"
        ]
       ]
      }
     },
     "a8a48193694f49cca640a9196ebb629a": {
      "model_module": "@jupyter-widgets/base",
      "model_module_version": "1.2.0",
      "model_name": "LayoutModel",
      "state": {}
     },
     "a8aac193954d4c5a948eafeff824257f": {
      "model_module": "@jupyter-widgets/base",
      "model_module_version": "1.2.0",
      "model_name": "LayoutModel",
      "state": {}
     },
     "a8f8ed8f167b48fbad454604276ec933": {
      "model_module": "@jupyter-widgets/base",
      "model_module_version": "1.2.0",
      "model_name": "LayoutModel",
      "state": {}
     },
     "a9b0a2676cba40d0a123d777844e397e": {
      "model_module": "@jupyter-widgets/base",
      "model_module_version": "1.2.0",
      "model_name": "LayoutModel",
      "state": {}
     },
     "ab55ae4d686c47da905ce9681d306bfc": {
      "model_module": "jupyter-matplotlib",
      "model_module_version": "^0.7.4",
      "model_name": "ToolbarModel",
      "state": {
       "layout": "IPY_MODEL_bc5731a63cb34e82bdd00f560b68b77d",
       "toolitems": [
        [
         "Home",
         "Reset original view",
         "home",
         "home"
        ],
        [
         "Back",
         "Back to previous view",
         "arrow-left",
         "back"
        ],
        [
         "Forward",
         "Forward to next view",
         "arrow-right",
         "forward"
        ],
        [
         "Pan",
         "Left button pans, Right button zooms\nx/y fixes axis, CTRL fixes aspect",
         "arrows",
         "pan"
        ],
        [
         "Zoom",
         "Zoom to rectangle\nx/y fixes axis, CTRL fixes aspect",
         "square-o",
         "zoom"
        ],
        [
         "Download",
         "Download plot",
         "floppy-o",
         "save_figure"
        ]
       ]
      }
     },
     "abe53e11a678436bbe129bb0539b7fa6": {
      "model_module": "jupyter-matplotlib",
      "model_module_version": "^0.7.4",
      "model_name": "ToolbarModel",
      "state": {
       "layout": "IPY_MODEL_d69ae4c6b2224e56b456fe2206cace50",
       "toolitems": [
        [
         "Home",
         "Reset original view",
         "home",
         "home"
        ],
        [
         "Back",
         "Back to previous view",
         "arrow-left",
         "back"
        ],
        [
         "Forward",
         "Forward to next view",
         "arrow-right",
         "forward"
        ],
        [
         "Pan",
         "Left button pans, Right button zooms\nx/y fixes axis, CTRL fixes aspect",
         "arrows",
         "pan"
        ],
        [
         "Zoom",
         "Zoom to rectangle\nx/y fixes axis, CTRL fixes aspect",
         "square-o",
         "zoom"
        ],
        [
         "Download",
         "Download plot",
         "floppy-o",
         "save_figure"
        ]
       ]
      }
     },
     "afb79086f5f94f0a8b6f1da388ff66f4": {
      "model_module": "@jupyter-widgets/base",
      "model_module_version": "1.2.0",
      "model_name": "LayoutModel",
      "state": {}
     },
     "b2012ef0b80447ad9d851614c7697206": {
      "model_module": "@jupyter-widgets/base",
      "model_module_version": "1.2.0",
      "model_name": "LayoutModel",
      "state": {}
     },
     "b2ed173b68d04d73816697f71d438ab5": {
      "model_module": "@jupyter-widgets/base",
      "model_module_version": "1.2.0",
      "model_name": "LayoutModel",
      "state": {}
     },
     "b2f80a00c3824d4fba9b53e0e97ffa97": {
      "model_module": "@jupyter-widgets/base",
      "model_module_version": "1.2.0",
      "model_name": "LayoutModel",
      "state": {}
     },
     "b469f19d9eef43fa885d204cfd58e3db": {
      "model_module": "@jupyter-widgets/base",
      "model_module_version": "1.2.0",
      "model_name": "LayoutModel",
      "state": {}
     },
     "b5aa361b324145b1a8c41edae8a1487b": {
      "model_module": "@jupyter-widgets/base",
      "model_module_version": "1.2.0",
      "model_name": "LayoutModel",
      "state": {}
     },
     "b5fb5c79035e49dfa6dba1a397a4213d": {
      "model_module": "jupyter-matplotlib",
      "model_module_version": "^0.7.4",
      "model_name": "ToolbarModel",
      "state": {
       "layout": "IPY_MODEL_24450425d47b4641a5e91844385fe6e2",
       "toolitems": [
        [
         "Home",
         "Reset original view",
         "home",
         "home"
        ],
        [
         "Back",
         "Back to previous view",
         "arrow-left",
         "back"
        ],
        [
         "Forward",
         "Forward to next view",
         "arrow-right",
         "forward"
        ],
        [
         "Pan",
         "Left button pans, Right button zooms\nx/y fixes axis, CTRL fixes aspect",
         "arrows",
         "pan"
        ],
        [
         "Zoom",
         "Zoom to rectangle\nx/y fixes axis, CTRL fixes aspect",
         "square-o",
         "zoom"
        ],
        [
         "Download",
         "Download plot",
         "floppy-o",
         "save_figure"
        ]
       ]
      }
     },
     "b6b21240001244ebba183f8690228006": {
      "model_module": "@jupyter-widgets/base",
      "model_module_version": "1.2.0",
      "model_name": "LayoutModel",
      "state": {}
     },
     "b6b7da4f1e3d4f7888d7135694465ddc": {
      "model_module": "@jupyter-widgets/base",
      "model_module_version": "1.2.0",
      "model_name": "LayoutModel",
      "state": {}
     },
     "b782c395706b4db2b756c72402257736": {
      "model_module": "jupyter-matplotlib",
      "model_module_version": "^0.7.4",
      "model_name": "ToolbarModel",
      "state": {
       "layout": "IPY_MODEL_1f5560686c1247e9a92ab3f64b07a542",
       "toolitems": [
        [
         "Home",
         "Reset original view",
         "home",
         "home"
        ],
        [
         "Back",
         "Back to previous view",
         "arrow-left",
         "back"
        ],
        [
         "Forward",
         "Forward to next view",
         "arrow-right",
         "forward"
        ],
        [
         "Pan",
         "Left button pans, Right button zooms\nx/y fixes axis, CTRL fixes aspect",
         "arrows",
         "pan"
        ],
        [
         "Zoom",
         "Zoom to rectangle\nx/y fixes axis, CTRL fixes aspect",
         "square-o",
         "zoom"
        ],
        [
         "Download",
         "Download plot",
         "floppy-o",
         "save_figure"
        ]
       ]
      }
     },
     "b797548dcd484ec0bb1df892c377f9ab": {
      "model_module": "@jupyter-widgets/base",
      "model_module_version": "1.2.0",
      "model_name": "LayoutModel",
      "state": {}
     },
     "b7b872c8d24a4159bbaeb1d762fd2765": {
      "model_module": "@jupyter-widgets/base",
      "model_module_version": "1.2.0",
      "model_name": "LayoutModel",
      "state": {}
     },
     "bc0cfd8b74c54739a2b066ed9f9d4530": {
      "model_module": "jupyter-matplotlib",
      "model_module_version": "^0.7.4",
      "model_name": "ToolbarModel",
      "state": {
       "layout": "IPY_MODEL_98fa9546e1b84d4c930cdbdb6de0b8b8",
       "toolitems": [
        [
         "Home",
         "Reset original view",
         "home",
         "home"
        ],
        [
         "Back",
         "Back to previous view",
         "arrow-left",
         "back"
        ],
        [
         "Forward",
         "Forward to next view",
         "arrow-right",
         "forward"
        ],
        [
         "Pan",
         "Left button pans, Right button zooms\nx/y fixes axis, CTRL fixes aspect",
         "arrows",
         "pan"
        ],
        [
         "Zoom",
         "Zoom to rectangle\nx/y fixes axis, CTRL fixes aspect",
         "square-o",
         "zoom"
        ],
        [
         "Download",
         "Download plot",
         "floppy-o",
         "save_figure"
        ]
       ]
      }
     },
     "bc215080bacb456581ccc31a775d650e": {
      "model_module": "@jupyter-widgets/base",
      "model_module_version": "1.2.0",
      "model_name": "LayoutModel",
      "state": {}
     },
     "bc5731a63cb34e82bdd00f560b68b77d": {
      "model_module": "@jupyter-widgets/base",
      "model_module_version": "1.2.0",
      "model_name": "LayoutModel",
      "state": {}
     },
     "bc83aaa9d89943d59fd16cd69561dca3": {
      "model_module": "jupyter-matplotlib",
      "model_module_version": "^0.7.4",
      "model_name": "ToolbarModel",
      "state": {
       "layout": "IPY_MODEL_962fcdc3ec0e48fda3ad7abd4e14ac58",
       "toolitems": [
        [
         "Home",
         "Reset original view",
         "home",
         "home"
        ],
        [
         "Back",
         "Back to previous view",
         "arrow-left",
         "back"
        ],
        [
         "Forward",
         "Forward to next view",
         "arrow-right",
         "forward"
        ],
        [
         "Pan",
         "Left button pans, Right button zooms\nx/y fixes axis, CTRL fixes aspect",
         "arrows",
         "pan"
        ],
        [
         "Zoom",
         "Zoom to rectangle\nx/y fixes axis, CTRL fixes aspect",
         "square-o",
         "zoom"
        ],
        [
         "Download",
         "Download plot",
         "floppy-o",
         "save_figure"
        ]
       ]
      }
     },
     "bd685e5745bf4c398be631139d59dd45": {
      "model_module": "@jupyter-widgets/base",
      "model_module_version": "1.2.0",
      "model_name": "LayoutModel",
      "state": {}
     },
     "be114207d23c48ca8fb9fbd35d01b328": {
      "model_module": "@jupyter-widgets/base",
      "model_module_version": "1.2.0",
      "model_name": "LayoutModel",
      "state": {}
     },
     "c0b482ea35c241c89737c797a7bf975f": {
      "model_module": "jupyter-matplotlib",
      "model_module_version": "^0.7.4",
      "model_name": "ToolbarModel",
      "state": {
       "layout": "IPY_MODEL_be114207d23c48ca8fb9fbd35d01b328",
       "toolitems": [
        [
         "Home",
         "Reset original view",
         "home",
         "home"
        ],
        [
         "Back",
         "Back to previous view",
         "arrow-left",
         "back"
        ],
        [
         "Forward",
         "Forward to next view",
         "arrow-right",
         "forward"
        ],
        [
         "Pan",
         "Left button pans, Right button zooms\nx/y fixes axis, CTRL fixes aspect",
         "arrows",
         "pan"
        ],
        [
         "Zoom",
         "Zoom to rectangle\nx/y fixes axis, CTRL fixes aspect",
         "square-o",
         "zoom"
        ],
        [
         "Download",
         "Download plot",
         "floppy-o",
         "save_figure"
        ]
       ]
      }
     },
     "c10bcb90ab4142e3865f3ac9ee9c85b2": {
      "model_module": "@jupyter-widgets/base",
      "model_module_version": "1.2.0",
      "model_name": "LayoutModel",
      "state": {}
     },
     "c24b4bb5d3754c508f9841ab3ec45176": {
      "model_module": "@jupyter-widgets/base",
      "model_module_version": "1.2.0",
      "model_name": "LayoutModel",
      "state": {}
     },
     "c3369cd8127d4535b99c7667daf710c6": {
      "model_module": "jupyter-matplotlib",
      "model_module_version": "^0.7.4",
      "model_name": "ToolbarModel",
      "state": {
       "layout": "IPY_MODEL_1ba4b09e5bf44cd8a20bbd0ef266791c",
       "toolitems": [
        [
         "Home",
         "Reset original view",
         "home",
         "home"
        ],
        [
         "Back",
         "Back to previous view",
         "arrow-left",
         "back"
        ],
        [
         "Forward",
         "Forward to next view",
         "arrow-right",
         "forward"
        ],
        [
         "Pan",
         "Left button pans, Right button zooms\nx/y fixes axis, CTRL fixes aspect",
         "arrows",
         "pan"
        ],
        [
         "Zoom",
         "Zoom to rectangle\nx/y fixes axis, CTRL fixes aspect",
         "square-o",
         "zoom"
        ],
        [
         "Download",
         "Download plot",
         "floppy-o",
         "save_figure"
        ]
       ]
      }
     },
     "c47d4869e0e24272bbc150fc13ccffa5": {
      "model_module": "jupyter-matplotlib",
      "model_module_version": "^0.7.4",
      "model_name": "ToolbarModel",
      "state": {
       "layout": "IPY_MODEL_02e3864f1207458381e08842316bbcc3",
       "toolitems": [
        [
         "Home",
         "Reset original view",
         "home",
         "home"
        ],
        [
         "Back",
         "Back to previous view",
         "arrow-left",
         "back"
        ],
        [
         "Forward",
         "Forward to next view",
         "arrow-right",
         "forward"
        ],
        [
         "Pan",
         "Left button pans, Right button zooms\nx/y fixes axis, CTRL fixes aspect",
         "arrows",
         "pan"
        ],
        [
         "Zoom",
         "Zoom to rectangle\nx/y fixes axis, CTRL fixes aspect",
         "square-o",
         "zoom"
        ],
        [
         "Download",
         "Download plot",
         "floppy-o",
         "save_figure"
        ]
       ]
      }
     },
     "c5bd6c4060c04c9593948975ad55f7f8": {
      "model_module": "jupyter-matplotlib",
      "model_module_version": "^0.7.4",
      "model_name": "ToolbarModel",
      "state": {
       "layout": "IPY_MODEL_da4c1944ba2f45b288c210d9a2982bc8",
       "toolitems": [
        [
         "Home",
         "Reset original view",
         "home",
         "home"
        ],
        [
         "Back",
         "Back to previous view",
         "arrow-left",
         "back"
        ],
        [
         "Forward",
         "Forward to next view",
         "arrow-right",
         "forward"
        ],
        [
         "Pan",
         "Left button pans, Right button zooms\nx/y fixes axis, CTRL fixes aspect",
         "arrows",
         "pan"
        ],
        [
         "Zoom",
         "Zoom to rectangle\nx/y fixes axis, CTRL fixes aspect",
         "square-o",
         "zoom"
        ],
        [
         "Download",
         "Download plot",
         "floppy-o",
         "save_figure"
        ]
       ]
      }
     },
     "c6d91d28fe9b407fad9e53d11149c5c2": {
      "model_module": "@jupyter-widgets/base",
      "model_module_version": "1.2.0",
      "model_name": "LayoutModel",
      "state": {}
     },
     "c6e54e3c722f44708be2cf821ac45f44": {
      "model_module": "@jupyter-widgets/base",
      "model_module_version": "1.2.0",
      "model_name": "LayoutModel",
      "state": {}
     },
     "c73745a81dd74aa984c9c8632c89d39d": {
      "model_module": "@jupyter-widgets/base",
      "model_module_version": "1.2.0",
      "model_name": "LayoutModel",
      "state": {}
     },
     "c7862b1775b7407494c4582135d1e0c1": {
      "model_module": "@jupyter-widgets/base",
      "model_module_version": "1.2.0",
      "model_name": "LayoutModel",
      "state": {}
     },
     "c7b90a8929d145a99fc85a9331f6e15c": {
      "model_module": "jupyter-matplotlib",
      "model_module_version": "^0.7.4",
      "model_name": "ToolbarModel",
      "state": {
       "layout": "IPY_MODEL_b6b21240001244ebba183f8690228006",
       "toolitems": [
        [
         "Home",
         "Reset original view",
         "home",
         "home"
        ],
        [
         "Back",
         "Back to previous view",
         "arrow-left",
         "back"
        ],
        [
         "Forward",
         "Forward to next view",
         "arrow-right",
         "forward"
        ],
        [
         "Pan",
         "Left button pans, Right button zooms\nx/y fixes axis, CTRL fixes aspect",
         "arrows",
         "pan"
        ],
        [
         "Zoom",
         "Zoom to rectangle\nx/y fixes axis, CTRL fixes aspect",
         "square-o",
         "zoom"
        ],
        [
         "Download",
         "Download plot",
         "floppy-o",
         "save_figure"
        ]
       ]
      }
     },
     "c96a1e455eb64c35a99f8f313cbc3bc2": {
      "model_module": "@jupyter-widgets/base",
      "model_module_version": "1.2.0",
      "model_name": "LayoutModel",
      "state": {}
     },
     "ccb93b620bc040e1bf351fe3b150aff0": {
      "model_module": "@jupyter-widgets/base",
      "model_module_version": "1.2.0",
      "model_name": "LayoutModel",
      "state": {}
     },
     "cd4de87266524ae3900f5f21e2a60e8b": {
      "model_module": "@jupyter-widgets/base",
      "model_module_version": "1.2.0",
      "model_name": "LayoutModel",
      "state": {}
     },
     "cf4877e6d1d547e49792b017086e682f": {
      "model_module": "@jupyter-widgets/base",
      "model_module_version": "1.2.0",
      "model_name": "LayoutModel",
      "state": {}
     },
     "d00e182fc3264287bb62db284ee5d2cf": {
      "model_module": "@jupyter-widgets/base",
      "model_module_version": "1.2.0",
      "model_name": "LayoutModel",
      "state": {}
     },
     "d0448f6fbdf94976b7d15b8f8be128dc": {
      "model_module": "@jupyter-widgets/base",
      "model_module_version": "1.2.0",
      "model_name": "LayoutModel",
      "state": {}
     },
     "d11bd9082fca4552ad3e02c23e76432e": {
      "model_module": "@jupyter-widgets/base",
      "model_module_version": "1.2.0",
      "model_name": "LayoutModel",
      "state": {}
     },
     "d4b2d6581dce4124a2ffb184edca227f": {
      "model_module": "jupyter-matplotlib",
      "model_module_version": "^0.7.4",
      "model_name": "ToolbarModel",
      "state": {
       "layout": "IPY_MODEL_a5fc58c6d7ea499db488bb8e3c9897c5",
       "toolitems": [
        [
         "Home",
         "Reset original view",
         "home",
         "home"
        ],
        [
         "Back",
         "Back to previous view",
         "arrow-left",
         "back"
        ],
        [
         "Forward",
         "Forward to next view",
         "arrow-right",
         "forward"
        ],
        [
         "Pan",
         "Left button pans, Right button zooms\nx/y fixes axis, CTRL fixes aspect",
         "arrows",
         "pan"
        ],
        [
         "Zoom",
         "Zoom to rectangle\nx/y fixes axis, CTRL fixes aspect",
         "square-o",
         "zoom"
        ],
        [
         "Download",
         "Download plot",
         "floppy-o",
         "save_figure"
        ]
       ]
      }
     },
     "d568efd141e64c2bb745bf7c09029f8a": {
      "model_module": "@jupyter-widgets/base",
      "model_module_version": "1.2.0",
      "model_name": "LayoutModel",
      "state": {}
     },
     "d601902459ca4e24afb5124b19ea617d": {
      "model_module": "@jupyter-widgets/base",
      "model_module_version": "1.2.0",
      "model_name": "LayoutModel",
      "state": {}
     },
     "d62dc84fda084b1b9150aaf1088d5908": {
      "model_module": "@jupyter-widgets/base",
      "model_module_version": "1.2.0",
      "model_name": "LayoutModel",
      "state": {}
     },
     "d69ae4c6b2224e56b456fe2206cace50": {
      "model_module": "@jupyter-widgets/base",
      "model_module_version": "1.2.0",
      "model_name": "LayoutModel",
      "state": {}
     },
     "d7ed8086fed941159cc94af5427928da": {
      "model_module": "@jupyter-widgets/base",
      "model_module_version": "1.2.0",
      "model_name": "LayoutModel",
      "state": {}
     },
     "d8c366f22b224bea908b6b84462fa4b5": {
      "model_module": "jupyter-matplotlib",
      "model_module_version": "^0.7.4",
      "model_name": "ToolbarModel",
      "state": {
       "layout": "IPY_MODEL_4a85ed4d75504be88250c78ae0bbb704",
       "toolitems": [
        [
         "Home",
         "Reset original view",
         "home",
         "home"
        ],
        [
         "Back",
         "Back to previous view",
         "arrow-left",
         "back"
        ],
        [
         "Forward",
         "Forward to next view",
         "arrow-right",
         "forward"
        ],
        [
         "Pan",
         "Left button pans, Right button zooms\nx/y fixes axis, CTRL fixes aspect",
         "arrows",
         "pan"
        ],
        [
         "Zoom",
         "Zoom to rectangle\nx/y fixes axis, CTRL fixes aspect",
         "square-o",
         "zoom"
        ],
        [
         "Download",
         "Download plot",
         "floppy-o",
         "save_figure"
        ]
       ]
      }
     },
     "d8d68429a83a4ff78afef2b9ab96ca56": {
      "model_module": "@jupyter-widgets/base",
      "model_module_version": "1.2.0",
      "model_name": "LayoutModel",
      "state": {}
     },
     "d9e72009d3d443ba950130b33a5b14eb": {
      "model_module": "jupyter-matplotlib",
      "model_module_version": "^0.7.4",
      "model_name": "ToolbarModel",
      "state": {
       "layout": "IPY_MODEL_6fc83af1014f4cf6bf0f6e5e4ab5bad2",
       "toolitems": [
        [
         "Home",
         "Reset original view",
         "home",
         "home"
        ],
        [
         "Back",
         "Back to previous view",
         "arrow-left",
         "back"
        ],
        [
         "Forward",
         "Forward to next view",
         "arrow-right",
         "forward"
        ],
        [
         "Pan",
         "Left button pans, Right button zooms\nx/y fixes axis, CTRL fixes aspect",
         "arrows",
         "pan"
        ],
        [
         "Zoom",
         "Zoom to rectangle\nx/y fixes axis, CTRL fixes aspect",
         "square-o",
         "zoom"
        ],
        [
         "Download",
         "Download plot",
         "floppy-o",
         "save_figure"
        ]
       ]
      }
     },
     "d9fca60cdb904624b4d55c17ae8c3689": {
      "model_module": "@jupyter-widgets/base",
      "model_module_version": "1.2.0",
      "model_name": "LayoutModel",
      "state": {}
     },
     "da4c1944ba2f45b288c210d9a2982bc8": {
      "model_module": "@jupyter-widgets/base",
      "model_module_version": "1.2.0",
      "model_name": "LayoutModel",
      "state": {}
     },
     "da7eb331e79f49cc8eed7e1e75eeaeee": {
      "model_module": "@jupyter-widgets/base",
      "model_module_version": "1.2.0",
      "model_name": "LayoutModel",
      "state": {}
     },
     "db1350cf161a4e168f3a95b62f958a48": {
      "model_module": "jupyter-matplotlib",
      "model_module_version": "^0.7.4",
      "model_name": "ToolbarModel",
      "state": {
       "layout": "IPY_MODEL_dfbab3377e9d44e68bf434f256eb9b02",
       "toolitems": [
        [
         "Home",
         "Reset original view",
         "home",
         "home"
        ],
        [
         "Back",
         "Back to previous view",
         "arrow-left",
         "back"
        ],
        [
         "Forward",
         "Forward to next view",
         "arrow-right",
         "forward"
        ],
        [
         "Pan",
         "Left button pans, Right button zooms\nx/y fixes axis, CTRL fixes aspect",
         "arrows",
         "pan"
        ],
        [
         "Zoom",
         "Zoom to rectangle\nx/y fixes axis, CTRL fixes aspect",
         "square-o",
         "zoom"
        ],
        [
         "Download",
         "Download plot",
         "floppy-o",
         "save_figure"
        ]
       ]
      }
     },
     "db1b3f222a3f4a21a2363ecd29752834": {
      "model_module": "@jupyter-widgets/base",
      "model_module_version": "1.2.0",
      "model_name": "LayoutModel",
      "state": {}
     },
     "dfbab3377e9d44e68bf434f256eb9b02": {
      "model_module": "@jupyter-widgets/base",
      "model_module_version": "1.2.0",
      "model_name": "LayoutModel",
      "state": {}
     },
     "e1316ebd0e684368ae2dce2bb757403e": {
      "model_module": "@jupyter-widgets/base",
      "model_module_version": "1.2.0",
      "model_name": "LayoutModel",
      "state": {}
     },
     "e44f3b35bd51477cae26cabb3b84c0a3": {
      "model_module": "@jupyter-widgets/base",
      "model_module_version": "1.2.0",
      "model_name": "LayoutModel",
      "state": {}
     },
     "e4f74909b31a411a9770ebd33e204fb7": {
      "model_module": "jupyter-matplotlib",
      "model_module_version": "^0.7.4",
      "model_name": "ToolbarModel",
      "state": {
       "layout": "IPY_MODEL_49b1895f395d4ddb96104d2191669259",
       "toolitems": [
        [
         "Home",
         "Reset original view",
         "home",
         "home"
        ],
        [
         "Back",
         "Back to previous view",
         "arrow-left",
         "back"
        ],
        [
         "Forward",
         "Forward to next view",
         "arrow-right",
         "forward"
        ],
        [
         "Pan",
         "Left button pans, Right button zooms\nx/y fixes axis, CTRL fixes aspect",
         "arrows",
         "pan"
        ],
        [
         "Zoom",
         "Zoom to rectangle\nx/y fixes axis, CTRL fixes aspect",
         "square-o",
         "zoom"
        ],
        [
         "Download",
         "Download plot",
         "floppy-o",
         "save_figure"
        ]
       ]
      }
     },
     "e501fbf58b424791863d186acc1525a6": {
      "model_module": "jupyter-matplotlib",
      "model_module_version": "^0.7.4",
      "model_name": "ToolbarModel",
      "state": {
       "layout": "IPY_MODEL_6d0524952d894178940af2bf64c995f5",
       "toolitems": [
        [
         "Home",
         "Reset original view",
         "home",
         "home"
        ],
        [
         "Back",
         "Back to previous view",
         "arrow-left",
         "back"
        ],
        [
         "Forward",
         "Forward to next view",
         "arrow-right",
         "forward"
        ],
        [
         "Pan",
         "Left button pans, Right button zooms\nx/y fixes axis, CTRL fixes aspect",
         "arrows",
         "pan"
        ],
        [
         "Zoom",
         "Zoom to rectangle\nx/y fixes axis, CTRL fixes aspect",
         "square-o",
         "zoom"
        ],
        [
         "Download",
         "Download plot",
         "floppy-o",
         "save_figure"
        ]
       ]
      }
     },
     "e5021947f5244290bbd2be26bc1b1b3e": {
      "model_module": "jupyter-matplotlib",
      "model_module_version": "^0.7.4",
      "model_name": "ToolbarModel",
      "state": {
       "layout": "IPY_MODEL_c7862b1775b7407494c4582135d1e0c1",
       "toolitems": [
        [
         "Home",
         "Reset original view",
         "home",
         "home"
        ],
        [
         "Back",
         "Back to previous view",
         "arrow-left",
         "back"
        ],
        [
         "Forward",
         "Forward to next view",
         "arrow-right",
         "forward"
        ],
        [
         "Pan",
         "Left button pans, Right button zooms\nx/y fixes axis, CTRL fixes aspect",
         "arrows",
         "pan"
        ],
        [
         "Zoom",
         "Zoom to rectangle\nx/y fixes axis, CTRL fixes aspect",
         "square-o",
         "zoom"
        ],
        [
         "Download",
         "Download plot",
         "floppy-o",
         "save_figure"
        ]
       ]
      }
     },
     "e760dce00b24429d9d3e8c26c0aa8fd6": {
      "model_module": "jupyter-matplotlib",
      "model_module_version": "^0.7.4",
      "model_name": "ToolbarModel",
      "state": {
       "layout": "IPY_MODEL_3214d78acd1945a9ad5647c5ff9d45a2",
       "toolitems": [
        [
         "Home",
         "Reset original view",
         "home",
         "home"
        ],
        [
         "Back",
         "Back to previous view",
         "arrow-left",
         "back"
        ],
        [
         "Forward",
         "Forward to next view",
         "arrow-right",
         "forward"
        ],
        [
         "Pan",
         "Left button pans, Right button zooms\nx/y fixes axis, CTRL fixes aspect",
         "arrows",
         "pan"
        ],
        [
         "Zoom",
         "Zoom to rectangle\nx/y fixes axis, CTRL fixes aspect",
         "square-o",
         "zoom"
        ],
        [
         "Download",
         "Download plot",
         "floppy-o",
         "save_figure"
        ]
       ]
      }
     },
     "eaea4a672ed640b38770588abf887548": {
      "model_module": "@jupyter-widgets/base",
      "model_module_version": "1.2.0",
      "model_name": "LayoutModel",
      "state": {}
     },
     "edd80294ae3d4627afbfbd4463fdfb35": {
      "model_module": "jupyter-matplotlib",
      "model_module_version": "^0.7.4",
      "model_name": "ToolbarModel",
      "state": {
       "layout": "IPY_MODEL_db1b3f222a3f4a21a2363ecd29752834",
       "toolitems": [
        [
         "Home",
         "Reset original view",
         "home",
         "home"
        ],
        [
         "Back",
         "Back to previous view",
         "arrow-left",
         "back"
        ],
        [
         "Forward",
         "Forward to next view",
         "arrow-right",
         "forward"
        ],
        [
         "Pan",
         "Left button pans, Right button zooms\nx/y fixes axis, CTRL fixes aspect",
         "arrows",
         "pan"
        ],
        [
         "Zoom",
         "Zoom to rectangle\nx/y fixes axis, CTRL fixes aspect",
         "square-o",
         "zoom"
        ],
        [
         "Download",
         "Download plot",
         "floppy-o",
         "save_figure"
        ]
       ]
      }
     },
     "ef9c1afce83b42fc9a516bf8bef0f7e1": {
      "model_module": "jupyter-matplotlib",
      "model_module_version": "^0.7.4",
      "model_name": "ToolbarModel",
      "state": {
       "layout": "IPY_MODEL_eaea4a672ed640b38770588abf887548",
       "toolitems": [
        [
         "Home",
         "Reset original view",
         "home",
         "home"
        ],
        [
         "Back",
         "Back to previous view",
         "arrow-left",
         "back"
        ],
        [
         "Forward",
         "Forward to next view",
         "arrow-right",
         "forward"
        ],
        [
         "Pan",
         "Left button pans, Right button zooms\nx/y fixes axis, CTRL fixes aspect",
         "arrows",
         "pan"
        ],
        [
         "Zoom",
         "Zoom to rectangle\nx/y fixes axis, CTRL fixes aspect",
         "square-o",
         "zoom"
        ],
        [
         "Download",
         "Download plot",
         "floppy-o",
         "save_figure"
        ]
       ]
      }
     },
     "f16f3042809347c3bd2de477ee3c79c2": {
      "model_module": "@jupyter-widgets/base",
      "model_module_version": "1.2.0",
      "model_name": "LayoutModel",
      "state": {}
     },
     "f27f4352a5e04f88b380dabd774bc745": {
      "model_module": "@jupyter-widgets/base",
      "model_module_version": "1.2.0",
      "model_name": "LayoutModel",
      "state": {}
     },
     "f4fef48dfbb441bab4009606ec6de7d0": {
      "model_module": "jupyter-matplotlib",
      "model_module_version": "^0.7.4",
      "model_name": "ToolbarModel",
      "state": {
       "layout": "IPY_MODEL_8a992961469943698bfeb80b6ec5f501",
       "toolitems": [
        [
         "Home",
         "Reset original view",
         "home",
         "home"
        ],
        [
         "Back",
         "Back to previous view",
         "arrow-left",
         "back"
        ],
        [
         "Forward",
         "Forward to next view",
         "arrow-right",
         "forward"
        ],
        [
         "Pan",
         "Left button pans, Right button zooms\nx/y fixes axis, CTRL fixes aspect",
         "arrows",
         "pan"
        ],
        [
         "Zoom",
         "Zoom to rectangle\nx/y fixes axis, CTRL fixes aspect",
         "square-o",
         "zoom"
        ],
        [
         "Download",
         "Download plot",
         "floppy-o",
         "save_figure"
        ]
       ]
      }
     },
     "f5b1626bfddd4b50878813427e184439": {
      "model_module": "jupyter-matplotlib",
      "model_module_version": "^0.7.4",
      "model_name": "ToolbarModel",
      "state": {
       "layout": "IPY_MODEL_c73745a81dd74aa984c9c8632c89d39d",
       "toolitems": [
        [
         "Home",
         "Reset original view",
         "home",
         "home"
        ],
        [
         "Back",
         "Back to previous view",
         "arrow-left",
         "back"
        ],
        [
         "Forward",
         "Forward to next view",
         "arrow-right",
         "forward"
        ],
        [
         "Pan",
         "Left button pans, Right button zooms\nx/y fixes axis, CTRL fixes aspect",
         "arrows",
         "pan"
        ],
        [
         "Zoom",
         "Zoom to rectangle\nx/y fixes axis, CTRL fixes aspect",
         "square-o",
         "zoom"
        ],
        [
         "Download",
         "Download plot",
         "floppy-o",
         "save_figure"
        ]
       ]
      }
     },
     "f5f790bd9b174458b7976fffffeeb92a": {
      "model_module": "jupyter-matplotlib",
      "model_module_version": "^0.7.4",
      "model_name": "ToolbarModel",
      "state": {
       "layout": "IPY_MODEL_636d84b81d8549b88338cac354eadb73",
       "toolitems": [
        [
         "Home",
         "Reset original view",
         "home",
         "home"
        ],
        [
         "Back",
         "Back to previous view",
         "arrow-left",
         "back"
        ],
        [
         "Forward",
         "Forward to next view",
         "arrow-right",
         "forward"
        ],
        [
         "Pan",
         "Left button pans, Right button zooms\nx/y fixes axis, CTRL fixes aspect",
         "arrows",
         "pan"
        ],
        [
         "Zoom",
         "Zoom to rectangle\nx/y fixes axis, CTRL fixes aspect",
         "square-o",
         "zoom"
        ],
        [
         "Download",
         "Download plot",
         "floppy-o",
         "save_figure"
        ]
       ]
      }
     },
     "f911d06f8da544679d7144f760a7f755": {
      "model_module": "jupyter-matplotlib",
      "model_module_version": "^0.7.4",
      "model_name": "ToolbarModel",
      "state": {
       "layout": "IPY_MODEL_733e014a969d4cb8bbcf2644c372fa9a",
       "toolitems": [
        [
         "Home",
         "Reset original view",
         "home",
         "home"
        ],
        [
         "Back",
         "Back to previous view",
         "arrow-left",
         "back"
        ],
        [
         "Forward",
         "Forward to next view",
         "arrow-right",
         "forward"
        ],
        [
         "Pan",
         "Left button pans, Right button zooms\nx/y fixes axis, CTRL fixes aspect",
         "arrows",
         "pan"
        ],
        [
         "Zoom",
         "Zoom to rectangle\nx/y fixes axis, CTRL fixes aspect",
         "square-o",
         "zoom"
        ],
        [
         "Download",
         "Download plot",
         "floppy-o",
         "save_figure"
        ]
       ]
      }
     },
     "fa34a086ebe244aa8966a15e1b11a779": {
      "model_module": "@jupyter-widgets/base",
      "model_module_version": "1.2.0",
      "model_name": "LayoutModel",
      "state": {}
     },
     "fc9d25d528254dc8980c840c9f546b20": {
      "model_module": "@jupyter-widgets/base",
      "model_module_version": "1.2.0",
      "model_name": "LayoutModel",
      "state": {}
     },
     "ffbb432dcffc45d083b35dfb8fab672d": {
      "model_module": "@jupyter-widgets/base",
      "model_module_version": "1.2.0",
      "model_name": "LayoutModel",
      "state": {}
     }
    },
    "version_major": 2,
    "version_minor": 0
   }
  }
 },
 "nbformat": 4,
 "nbformat_minor": 4
}
