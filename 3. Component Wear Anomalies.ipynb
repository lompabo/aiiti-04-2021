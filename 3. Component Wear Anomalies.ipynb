{
 "cells": [
  {
   "cell_type": "markdown",
   "metadata": {},
   "source": [
    "## Notebook Setup\n",
    "\n",
    "Let's start by downloading the dataset (if not already done) and seting up the notebook:"
   ]
  },
  {
   "cell_type": "code",
   "execution_count": 1,
   "metadata": {},
   "outputs": [
    {
     "name": "stdout",
     "output_type": "stream",
     "text": [
      "Archive:  data/hpc.csv.zip\n",
      "  inflating: data/hpc.csv            \n",
      "Archive:  data/vegashrinker.csv.zip\n",
      "  inflating: data/vegashrinker.csv   \n"
     ]
    }
   ],
   "source": [
    "!wget https://github.com/lompabo/aiiti-04-2021/releases/download/data/data.zip\n",
    "!unzip -o data.zip\n",
    "!ls ."
   ]
  },
  {
   "cell_type": "code",
   "execution_count": 1,
   "metadata": {
    "slideshow": {
     "slide_type": "skip"
    }
   },
   "outputs": [],
   "source": [
    "# ============================================================\n",
    "# Notebook setup\n",
    "# ============================================================\n",
    "\n",
    "# Control figure size\n",
    "interactive_figures = False\n",
    "if interactive_figures:\n",
    "    # Normal behavior\n",
    "    %matplotlib widget\n",
    "    figsize=(9, 3)\n",
    "else:\n",
    "    # PDF export behavior\n",
    "    figsize=(14, 3)\n",
    "\n",
    "from sklearn.neighbors import KernelDensity\n",
    "from sklearn.model_selection import GridSearchCV\n",
    "from util import nn\n",
    "import numpy as np\n",
    "from matplotlib import pyplot as plt\n",
    "import pandas as pd\n",
    "from tensorflow import keras\n",
    "from tensorflow.keras.layers import Dense\n",
    "from tensorflow.keras.callbacks import EarlyStopping\n",
    "\n",
    "# Load data\n",
    "data_folder = 'data'\n",
    "vs = pd.read_csv(data_folder+ '/vegashrinker.csv')\n",
    "\n",
    "# Identify input columns\n",
    "vs_in = vs.columns[6:]\n",
    "\n",
    "# Prepare for caching\n",
    "cache_file = '/app/data/vegashrinker.h5'"
   ]
  },
  {
   "cell_type": "markdown",
   "metadata": {},
   "source": [
    "# Component Wear Anomalies"
   ]
  },
  {
   "cell_type": "markdown",
   "metadata": {
    "slideshow": {
     "slide_type": "subslide"
    }
   },
   "source": [
    "## OCME Vega Shrinker\n",
    "\n",
    "**Let's consider the Vega skinwrapper family of packaging machines by [OCME](https://www.ocme.com/en?_ptc=4)**\n",
    "\n",
    "* They work by wrapping products (bottles) in a _plastic film_\n",
    "* ...Which is _cut and heated_, so that the film shrinks and stabilizes the content\n",
    "\n",
    "<center><img src=\"assets/vega-skinwrapper.jpeg\" width=\"800px\"/></center>"
   ]
  },
  {
   "cell_type": "markdown",
   "metadata": {
    "slideshow": {
     "slide_type": "subslide"
    }
   },
   "source": [
    "## OCME Vega Shrinker\n",
    "\n",
    "**A public dataset about one of their machines is [publicly available from Kaggle](https://www.kaggle.com/inIT-OWL/one-year-industrial-component-degradation)**\n",
    "\n",
    "* The dataset contains a _run-to-failure experiment_\n",
    "* I.e. the machine was left running until one of it components became unserviceable\n",
    "  - Specificallly, it was the blade for cutting the film\n",
    "\n",
    "**This is an example of anomaly _due to component wear_**\n",
    "\n",
    "* It's a common type of anomaly\n",
    "* ...And run-to-failure experiments are a typical way to investigate them\n",
    "\n",
    "**All problems in this class share a few _properties_**\n",
    "\n",
    "* The behavior becomes _more and more distant_ from normal over time\n",
    "* There is a critical anomaly _at the end of the experiment_\n",
    "\n",
    "**We will try to tackle the problem using the techniques we know**"
   ]
  },
  {
   "cell_type": "markdown",
   "metadata": {
    "slideshow": {
     "slide_type": "subslide"
    }
   },
   "source": [
    "## The Dataset\n",
    "\n",
    "**Let's have a first look at the dataset**"
   ]
  },
  {
   "cell_type": "code",
   "execution_count": 2,
   "metadata": {},
   "outputs": [
    {
     "name": "stdout",
     "output_type": "stream",
     "text": [
      "Number of examples: 1062912, number of inputs: 8\n"
     ]
    },
    {
     "data": {
      "text/html": [
       "<div>\n",
       "<style scoped>\n",
       "    .dataframe tbody tr th:only-of-type {\n",
       "        vertical-align: middle;\n",
       "    }\n",
       "\n",
       "    .dataframe tbody tr th {\n",
       "        vertical-align: top;\n",
       "    }\n",
       "\n",
       "    .dataframe thead th {\n",
       "        text-align: right;\n",
       "    }\n",
       "</style>\n",
       "<table border=\"1\" class=\"dataframe\">\n",
       "  <thead>\n",
       "    <tr style=\"text-align: right;\">\n",
       "      <th></th>\n",
       "      <th>mode</th>\n",
       "      <th>segment</th>\n",
       "      <th>smonth</th>\n",
       "      <th>sday</th>\n",
       "      <th>stime</th>\n",
       "      <th>timestamp</th>\n",
       "      <th>pCut::Motor_Torque</th>\n",
       "      <th>pCut::CTRL_Position_controller::Lag_error</th>\n",
       "      <th>pCut::CTRL_Position_controller::Actual_position</th>\n",
       "      <th>pCut::CTRL_Position_controller::Actual_speed</th>\n",
       "      <th>pSvolFilm::CTRL_Position_controller::Actual_position</th>\n",
       "      <th>pSvolFilm::CTRL_Position_controller::Actual_speed</th>\n",
       "      <th>pSvolFilm::CTRL_Position_controller::Lag_error</th>\n",
       "      <th>pSpintor::VAX_speed</th>\n",
       "    </tr>\n",
       "  </thead>\n",
       "  <tbody>\n",
       "    <tr>\n",
       "      <th>0</th>\n",
       "      <td>1</td>\n",
       "      <td>0</td>\n",
       "      <td>1</td>\n",
       "      <td>4</td>\n",
       "      <td>184148</td>\n",
       "      <td>0.008</td>\n",
       "      <td>0.199603</td>\n",
       "      <td>0.027420</td>\n",
       "      <td>628392628</td>\n",
       "      <td>-920.104980</td>\n",
       "      <td>5298555</td>\n",
       "      <td>2441.235352</td>\n",
       "      <td>0.899543</td>\n",
       "      <td>1379.999756</td>\n",
       "    </tr>\n",
       "    <tr>\n",
       "      <th>1</th>\n",
       "      <td>1</td>\n",
       "      <td>0</td>\n",
       "      <td>1</td>\n",
       "      <td>4</td>\n",
       "      <td>184148</td>\n",
       "      <td>0.012</td>\n",
       "      <td>0.281624</td>\n",
       "      <td>0.002502</td>\n",
       "      <td>628392625</td>\n",
       "      <td>-937.271118</td>\n",
       "      <td>5298565</td>\n",
       "      <td>2453.819092</td>\n",
       "      <td>0.874072</td>\n",
       "      <td>1379.999756</td>\n",
       "    </tr>\n",
       "    <tr>\n",
       "      <th>2</th>\n",
       "      <td>1</td>\n",
       "      <td>0</td>\n",
       "      <td>1</td>\n",
       "      <td>4</td>\n",
       "      <td>184148</td>\n",
       "      <td>0.016</td>\n",
       "      <td>0.349315</td>\n",
       "      <td>-0.018085</td>\n",
       "      <td>628392621</td>\n",
       "      <td>-951.004028</td>\n",
       "      <td>5298575</td>\n",
       "      <td>2476.469727</td>\n",
       "      <td>0.879806</td>\n",
       "      <td>1379.999756</td>\n",
       "    </tr>\n",
       "    <tr>\n",
       "      <th>3</th>\n",
       "      <td>1</td>\n",
       "      <td>0</td>\n",
       "      <td>1</td>\n",
       "      <td>4</td>\n",
       "      <td>184148</td>\n",
       "      <td>0.020</td>\n",
       "      <td>0.444450</td>\n",
       "      <td>-0.054680</td>\n",
       "      <td>628392617</td>\n",
       "      <td>-1019.668579</td>\n",
       "      <td>5298585</td>\n",
       "      <td>2501.637207</td>\n",
       "      <td>0.837500</td>\n",
       "      <td>1379.999756</td>\n",
       "    </tr>\n",
       "    <tr>\n",
       "      <th>4</th>\n",
       "      <td>1</td>\n",
       "      <td>0</td>\n",
       "      <td>1</td>\n",
       "      <td>4</td>\n",
       "      <td>184148</td>\n",
       "      <td>0.024</td>\n",
       "      <td>0.480923</td>\n",
       "      <td>-0.042770</td>\n",
       "      <td>628392613</td>\n",
       "      <td>-1023.101807</td>\n",
       "      <td>5298595</td>\n",
       "      <td>2519.254395</td>\n",
       "      <td>0.905347</td>\n",
       "      <td>1379.999756</td>\n",
       "    </tr>\n",
       "  </tbody>\n",
       "</table>\n",
       "</div>"
      ],
      "text/plain": [
       "   mode  segment  smonth  sday   stime  timestamp  pCut::Motor_Torque  \\\n",
       "0     1        0       1     4  184148      0.008            0.199603   \n",
       "1     1        0       1     4  184148      0.012            0.281624   \n",
       "2     1        0       1     4  184148      0.016            0.349315   \n",
       "3     1        0       1     4  184148      0.020            0.444450   \n",
       "4     1        0       1     4  184148      0.024            0.480923   \n",
       "\n",
       "   pCut::CTRL_Position_controller::Lag_error  \\\n",
       "0                                   0.027420   \n",
       "1                                   0.002502   \n",
       "2                                  -0.018085   \n",
       "3                                  -0.054680   \n",
       "4                                  -0.042770   \n",
       "\n",
       "   pCut::CTRL_Position_controller::Actual_position  \\\n",
       "0                                        628392628   \n",
       "1                                        628392625   \n",
       "2                                        628392621   \n",
       "3                                        628392617   \n",
       "4                                        628392613   \n",
       "\n",
       "   pCut::CTRL_Position_controller::Actual_speed  \\\n",
       "0                                   -920.104980   \n",
       "1                                   -937.271118   \n",
       "2                                   -951.004028   \n",
       "3                                  -1019.668579   \n",
       "4                                  -1023.101807   \n",
       "\n",
       "   pSvolFilm::CTRL_Position_controller::Actual_position  \\\n",
       "0                                            5298555      \n",
       "1                                            5298565      \n",
       "2                                            5298575      \n",
       "3                                            5298585      \n",
       "4                                            5298595      \n",
       "\n",
       "   pSvolFilm::CTRL_Position_controller::Actual_speed  \\\n",
       "0                                        2441.235352   \n",
       "1                                        2453.819092   \n",
       "2                                        2476.469727   \n",
       "3                                        2501.637207   \n",
       "4                                        2519.254395   \n",
       "\n",
       "   pSvolFilm::CTRL_Position_controller::Lag_error  pSpintor::VAX_speed  \n",
       "0                                        0.899543          1379.999756  \n",
       "1                                        0.874072          1379.999756  \n",
       "2                                        0.879806          1379.999756  \n",
       "3                                        0.837500          1379.999756  \n",
       "4                                        0.905347          1379.999756  "
      ]
     },
     "execution_count": 2,
     "metadata": {},
     "output_type": "execute_result"
    }
   ],
   "source": [
    "print(f'Number of examples: {len(vs)}, number of inputs: {len(vs_in)}')\n",
    "vs.head()"
   ]
  },
  {
   "cell_type": "markdown",
   "metadata": {},
   "source": [
    "* There aren't many columns, but there are _many examples_!\n",
    "* The data refers to different measurement intervals (or \"segments\")\n",
    "* Each segment contains data sampled _every 4ms_"
   ]
  },
  {
   "cell_type": "markdown",
   "metadata": {
    "slideshow": {
     "slide_type": "subslide"
    }
   },
   "source": [
    "## The Dataset\n",
    "\n",
    "**Let's check some statistics**"
   ]
  },
  {
   "cell_type": "code",
   "execution_count": 3,
   "metadata": {},
   "outputs": [
    {
     "data": {
      "text/html": [
       "<div>\n",
       "<style scoped>\n",
       "    .dataframe tbody tr th:only-of-type {\n",
       "        vertical-align: middle;\n",
       "    }\n",
       "\n",
       "    .dataframe tbody tr th {\n",
       "        vertical-align: top;\n",
       "    }\n",
       "\n",
       "    .dataframe thead th {\n",
       "        text-align: right;\n",
       "    }\n",
       "</style>\n",
       "<table border=\"1\" class=\"dataframe\">\n",
       "  <thead>\n",
       "    <tr style=\"text-align: right;\">\n",
       "      <th></th>\n",
       "      <th>mode</th>\n",
       "      <th>segment</th>\n",
       "      <th>smonth</th>\n",
       "      <th>sday</th>\n",
       "      <th>stime</th>\n",
       "      <th>timestamp</th>\n",
       "      <th>pCut::Motor_Torque</th>\n",
       "      <th>pCut::CTRL_Position_controller::Lag_error</th>\n",
       "      <th>pCut::CTRL_Position_controller::Actual_position</th>\n",
       "      <th>pCut::CTRL_Position_controller::Actual_speed</th>\n",
       "      <th>pSvolFilm::CTRL_Position_controller::Actual_position</th>\n",
       "      <th>pSvolFilm::CTRL_Position_controller::Actual_speed</th>\n",
       "      <th>pSvolFilm::CTRL_Position_controller::Lag_error</th>\n",
       "      <th>pSpintor::VAX_speed</th>\n",
       "    </tr>\n",
       "  </thead>\n",
       "  <tbody>\n",
       "    <tr>\n",
       "      <th>count</th>\n",
       "      <td>1.062912e+06</td>\n",
       "      <td>1.062912e+06</td>\n",
       "      <td>1.062912e+06</td>\n",
       "      <td>1.062912e+06</td>\n",
       "      <td>1.062912e+06</td>\n",
       "      <td>1.062912e+06</td>\n",
       "      <td>1.062912e+06</td>\n",
       "      <td>1.062912e+06</td>\n",
       "      <td>1.062912e+06</td>\n",
       "      <td>1.062912e+06</td>\n",
       "      <td>1.062912e+06</td>\n",
       "      <td>1.062912e+06</td>\n",
       "      <td>1.062912e+06</td>\n",
       "      <td>1.062912e+06</td>\n",
       "    </tr>\n",
       "    <tr>\n",
       "      <th>mean</th>\n",
       "      <td>2.323699e+00</td>\n",
       "      <td>2.590000e+02</td>\n",
       "      <td>5.271676e+00</td>\n",
       "      <td>1.654143e+01</td>\n",
       "      <td>1.362122e+05</td>\n",
       "      <td>4.102069e+00</td>\n",
       "      <td>-1.206338e-01</td>\n",
       "      <td>-5.472746e-05</td>\n",
       "      <td>3.371415e+08</td>\n",
       "      <td>1.945795e+03</td>\n",
       "      <td>1.488169e+08</td>\n",
       "      <td>5.367032e+03</td>\n",
       "      <td>9.847591e-01</td>\n",
       "      <td>1.927328e+03</td>\n",
       "    </tr>\n",
       "    <tr>\n",
       "      <th>std</th>\n",
       "      <td>1.649207e+00</td>\n",
       "      <td>1.498222e+02</td>\n",
       "      <td>3.505212e+00</td>\n",
       "      <td>8.490150e+00</td>\n",
       "      <td>3.226381e+04</td>\n",
       "      <td>2.364827e+00</td>\n",
       "      <td>6.078708e-01</td>\n",
       "      <td>1.212122e-01</td>\n",
       "      <td>5.466868e+08</td>\n",
       "      <td>4.873922e+03</td>\n",
       "      <td>2.711355e+08</td>\n",
       "      <td>3.382194e+03</td>\n",
       "      <td>3.437204e-01</td>\n",
       "      <td>6.559047e+02</td>\n",
       "    </tr>\n",
       "    <tr>\n",
       "      <th>min</th>\n",
       "      <td>1.000000e+00</td>\n",
       "      <td>0.000000e+00</td>\n",
       "      <td>1.000000e+00</td>\n",
       "      <td>1.000000e+00</td>\n",
       "      <td>8.115800e+04</td>\n",
       "      <td>4.000000e-03</td>\n",
       "      <td>-6.560303e+00</td>\n",
       "      <td>-1.888258e+00</td>\n",
       "      <td>-2.039056e+09</td>\n",
       "      <td>-9.482574e+03</td>\n",
       "      <td>1.936250e+05</td>\n",
       "      <td>-2.013385e+01</td>\n",
       "      <td>-9.143658e-01</td>\n",
       "      <td>0.000000e+00</td>\n",
       "    </tr>\n",
       "    <tr>\n",
       "      <th>25%</th>\n",
       "      <td>1.000000e+00</td>\n",
       "      <td>1.290000e+02</td>\n",
       "      <td>2.000000e+00</td>\n",
       "      <td>9.000000e+00</td>\n",
       "      <td>1.113170e+05</td>\n",
       "      <td>2.056000e+00</td>\n",
       "      <td>-3.696310e-01</td>\n",
       "      <td>-2.201461e-02</td>\n",
       "      <td>8.626082e+07</td>\n",
       "      <td>-1.908875e+03</td>\n",
       "      <td>2.136702e+07</td>\n",
       "      <td>3.032669e+03</td>\n",
       "      <td>8.384416e-01</td>\n",
       "      <td>1.500000e+03</td>\n",
       "    </tr>\n",
       "    <tr>\n",
       "      <th>50%</th>\n",
       "      <td>2.000000e+00</td>\n",
       "      <td>2.590000e+02</td>\n",
       "      <td>4.000000e+00</td>\n",
       "      <td>1.800000e+01</td>\n",
       "      <td>1.348180e+05</td>\n",
       "      <td>4.104000e+00</td>\n",
       "      <td>-1.187128e-01</td>\n",
       "      <td>6.456900e-04</td>\n",
       "      <td>1.919407e+08</td>\n",
       "      <td>2.595520e+03</td>\n",
       "      <td>7.259557e+07</td>\n",
       "      <td>4.582979e+03</td>\n",
       "      <td>9.711797e-01</td>\n",
       "      <td>1.800000e+03</td>\n",
       "    </tr>\n",
       "    <tr>\n",
       "      <th>75%</th>\n",
       "      <td>3.000000e+00</td>\n",
       "      <td>3.890000e+02</td>\n",
       "      <td>8.000000e+00</td>\n",
       "      <td>2.300000e+01</td>\n",
       "      <td>1.618270e+05</td>\n",
       "      <td>6.152000e+00</td>\n",
       "      <td>2.546913e-01</td>\n",
       "      <td>2.380830e-02</td>\n",
       "      <td>5.691639e+08</td>\n",
       "      <td>5.441666e+03</td>\n",
       "      <td>1.602507e+08</td>\n",
       "      <td>5.823731e+03</td>\n",
       "      <td>1.105926e+00</td>\n",
       "      <td>2.280000e+03</td>\n",
       "    </tr>\n",
       "    <tr>\n",
       "      <th>max</th>\n",
       "      <td>8.000000e+00</td>\n",
       "      <td>5.180000e+02</td>\n",
       "      <td>1.200000e+01</td>\n",
       "      <td>3.100000e+01</td>\n",
       "      <td>2.232490e+05</td>\n",
       "      <td>8.199999e+00</td>\n",
       "      <td>3.856873e+00</td>\n",
       "      <td>2.021531e+00</td>\n",
       "      <td>1.911789e+09</td>\n",
       "      <td>1.792831e+04</td>\n",
       "      <td>1.453671e+09</td>\n",
       "      <td>1.797202e+04</td>\n",
       "      <td>3.567880e+00</td>\n",
       "      <td>3.600000e+03</td>\n",
       "    </tr>\n",
       "  </tbody>\n",
       "</table>\n",
       "</div>"
      ],
      "text/plain": [
       "               mode       segment        smonth          sday         stime  \\\n",
       "count  1.062912e+06  1.062912e+06  1.062912e+06  1.062912e+06  1.062912e+06   \n",
       "mean   2.323699e+00  2.590000e+02  5.271676e+00  1.654143e+01  1.362122e+05   \n",
       "std    1.649207e+00  1.498222e+02  3.505212e+00  8.490150e+00  3.226381e+04   \n",
       "min    1.000000e+00  0.000000e+00  1.000000e+00  1.000000e+00  8.115800e+04   \n",
       "25%    1.000000e+00  1.290000e+02  2.000000e+00  9.000000e+00  1.113170e+05   \n",
       "50%    2.000000e+00  2.590000e+02  4.000000e+00  1.800000e+01  1.348180e+05   \n",
       "75%    3.000000e+00  3.890000e+02  8.000000e+00  2.300000e+01  1.618270e+05   \n",
       "max    8.000000e+00  5.180000e+02  1.200000e+01  3.100000e+01  2.232490e+05   \n",
       "\n",
       "          timestamp  pCut::Motor_Torque  \\\n",
       "count  1.062912e+06        1.062912e+06   \n",
       "mean   4.102069e+00       -1.206338e-01   \n",
       "std    2.364827e+00        6.078708e-01   \n",
       "min    4.000000e-03       -6.560303e+00   \n",
       "25%    2.056000e+00       -3.696310e-01   \n",
       "50%    4.104000e+00       -1.187128e-01   \n",
       "75%    6.152000e+00        2.546913e-01   \n",
       "max    8.199999e+00        3.856873e+00   \n",
       "\n",
       "       pCut::CTRL_Position_controller::Lag_error  \\\n",
       "count                               1.062912e+06   \n",
       "mean                               -5.472746e-05   \n",
       "std                                 1.212122e-01   \n",
       "min                                -1.888258e+00   \n",
       "25%                                -2.201461e-02   \n",
       "50%                                 6.456900e-04   \n",
       "75%                                 2.380830e-02   \n",
       "max                                 2.021531e+00   \n",
       "\n",
       "       pCut::CTRL_Position_controller::Actual_position  \\\n",
       "count                                     1.062912e+06   \n",
       "mean                                      3.371415e+08   \n",
       "std                                       5.466868e+08   \n",
       "min                                      -2.039056e+09   \n",
       "25%                                       8.626082e+07   \n",
       "50%                                       1.919407e+08   \n",
       "75%                                       5.691639e+08   \n",
       "max                                       1.911789e+09   \n",
       "\n",
       "       pCut::CTRL_Position_controller::Actual_speed  \\\n",
       "count                                  1.062912e+06   \n",
       "mean                                   1.945795e+03   \n",
       "std                                    4.873922e+03   \n",
       "min                                   -9.482574e+03   \n",
       "25%                                   -1.908875e+03   \n",
       "50%                                    2.595520e+03   \n",
       "75%                                    5.441666e+03   \n",
       "max                                    1.792831e+04   \n",
       "\n",
       "       pSvolFilm::CTRL_Position_controller::Actual_position  \\\n",
       "count                                       1.062912e+06      \n",
       "mean                                        1.488169e+08      \n",
       "std                                         2.711355e+08      \n",
       "min                                         1.936250e+05      \n",
       "25%                                         2.136702e+07      \n",
       "50%                                         7.259557e+07      \n",
       "75%                                         1.602507e+08      \n",
       "max                                         1.453671e+09      \n",
       "\n",
       "       pSvolFilm::CTRL_Position_controller::Actual_speed  \\\n",
       "count                                       1.062912e+06   \n",
       "mean                                        5.367032e+03   \n",
       "std                                         3.382194e+03   \n",
       "min                                        -2.013385e+01   \n",
       "25%                                         3.032669e+03   \n",
       "50%                                         4.582979e+03   \n",
       "75%                                         5.823731e+03   \n",
       "max                                         1.797202e+04   \n",
       "\n",
       "       pSvolFilm::CTRL_Position_controller::Lag_error  pSpintor::VAX_speed  \n",
       "count                                    1.062912e+06         1.062912e+06  \n",
       "mean                                     9.847591e-01         1.927328e+03  \n",
       "std                                      3.437204e-01         6.559047e+02  \n",
       "min                                     -9.143658e-01         0.000000e+00  \n",
       "25%                                      8.384416e-01         1.500000e+03  \n",
       "50%                                      9.711797e-01         1.800000e+03  \n",
       "75%                                      1.105926e+00         2.280000e+03  \n",
       "max                                      3.567880e+00         3.600000e+03  "
      ]
     },
     "execution_count": 3,
     "metadata": {},
     "output_type": "execute_result"
    }
   ],
   "source": [
    "vs.describe()"
   ]
  },
  {
   "cell_type": "markdown",
   "metadata": {},
   "source": [
    "* The data is neither normalized nor standardized"
   ]
  },
  {
   "cell_type": "markdown",
   "metadata": {
    "slideshow": {
     "slide_type": "subslide"
    }
   },
   "source": [
    "## The Dataset\n",
    "\n",
    "**Let's check for missing values**"
   ]
  },
  {
   "cell_type": "code",
   "execution_count": 5,
   "metadata": {},
   "outputs": [
    {
     "data": {
      "text/plain": [
       "pCut::Motor_Torque                                      False\n",
       "pCut::CTRL_Position_controller::Lag_error               False\n",
       "pCut::CTRL_Position_controller::Actual_position         False\n",
       "pCut::CTRL_Position_controller::Actual_speed            False\n",
       "pSvolFilm::CTRL_Position_controller::Actual_position    False\n",
       "pSvolFilm::CTRL_Position_controller::Actual_speed       False\n",
       "pSvolFilm::CTRL_Position_controller::Lag_error          False\n",
       "pSpintor::VAX_speed                                     False\n",
       "dtype: bool"
      ]
     },
     "execution_count": 5,
     "metadata": {},
     "output_type": "execute_result"
    }
   ],
   "source": [
    "vs[vs_in].isnull().any()"
   ]
  },
  {
   "cell_type": "markdown",
   "metadata": {},
   "source": [
    "* There are none"
   ]
  },
  {
   "cell_type": "markdown",
   "metadata": {
    "slideshow": {
     "slide_type": "subslide"
    }
   },
   "source": [
    "## The Dataset\n",
    "\n",
    "**And let's check the length of each segment**"
   ]
  },
  {
   "cell_type": "code",
   "execution_count": 6,
   "metadata": {},
   "outputs": [
    {
     "data": {
      "text/plain": [
       "count     519.0\n",
       "mean     2048.0\n",
       "std         0.0\n",
       "min      2048.0\n",
       "25%      2048.0\n",
       "50%      2048.0\n",
       "75%      2048.0\n",
       "max      2048.0\n",
       "Name: mode, dtype: float64"
      ]
     },
     "execution_count": 6,
     "metadata": {},
     "output_type": "execute_result"
    }
   ],
   "source": [
    "vs.groupby('segment')['mode'].count().describe()"
   ]
  },
  {
   "cell_type": "markdown",
   "metadata": {},
   "source": [
    "* There are 519 segments overall\n",
    "* ...Each with 2048 samples"
   ]
  },
  {
   "cell_type": "markdown",
   "metadata": {
    "slideshow": {
     "slide_type": "subslide"
    }
   },
   "source": [
    "## The Dataset\n",
    "\n",
    "**The machine has multiple operating modes**"
   ]
  },
  {
   "cell_type": "code",
   "execution_count": 7,
   "metadata": {},
   "outputs": [
    {
     "data": {
      "image/png": "[encoded data removed]",
      "text/plain": [
       "<Figure size 1008x216 with 1 Axes>"
      ]
     },
     "metadata": {
      "needs_background": "light"
     },
     "output_type": "display_data"
    }
   ],
   "source": [
    "nn.plot_series(vs['mode'], figsize=figsize)"
   ]
  },
  {
   "cell_type": "markdown",
   "metadata": {},
   "source": [
    "* The mode is _a controlled parameter_ and does not change in the middle of a segment\n",
    "* Intuitively, the mode _has an impact_ on the machine behavior"
   ]
  },
  {
   "cell_type": "markdown",
   "metadata": {
    "slideshow": {
     "slide_type": "subslide"
    }
   },
   "source": [
    "## The Dataset\n",
    "\n",
    "**Let's have a look at all the sensor readings**"
   ]
  },
  {
   "cell_type": "code",
   "execution_count": 8,
   "metadata": {},
   "outputs": [
    {
     "data": {
      "image/png": "[encoded data removed]",
      "text/plain": [
       "<Figure size 1008x216 with 1 Axes>"
      ]
     },
     "metadata": {
      "needs_background": "light"
     },
     "output_type": "display_data"
    }
   ],
   "source": [
    "vss = vs.copy()\n",
    "vss[vs_in] = (vss[vs_in] - vss[vs_in].mean()) / vss[vs_in].std()\n",
    "nn.plot_dataframe(vss[vs_in], figsize=figsize)"
   ]
  },
  {
   "cell_type": "markdown",
   "metadata": {
    "slideshow": {
     "slide_type": "slide"
    }
   },
   "source": [
    "# Data Preparation"
   ]
  },
  {
   "cell_type": "markdown",
   "metadata": {
    "slideshow": {
     "slide_type": "subslide"
    }
   },
   "source": [
    "## Binning\n",
    "\n",
    "**This dataset contain _high-frequency data_ (4ms sampling period)**\n",
    "\n",
    "* In this situation, feeding the raw data to a model does not usually make sense\n",
    "* Instead, we reduce the frequency of the data via a process called _binning_\n",
    "\n",
    "**A binning approach typically works as follows**\n",
    "\n",
    "We apply a sliding window, but so that its consecutive applications _do not overlap_\n",
    "\n",
    "* Each window application is called a _bin_\n",
    "* ...From which we extract one or more _features_\n",
    "\n",
    "**The result is series that contains a _smaller number of samples_**\n",
    "\n",
    "...But typically a _larger number of features_"
   ]
  },
  {
   "cell_type": "markdown",
   "metadata": {
    "slideshow": {
     "slide_type": "subslide"
    }
   },
   "source": [
    "## Binning\n",
    "\n",
    "**There are two broad classes of features that are usually extracted**\n",
    "\n",
    "* _Time-domain_ features (e.g. mean, standard deviation)\n",
    "* _Frequency-domain_ features (e.g. specific FFT amplitudes)\n",
    "\n",
    "For this case, we will focus on time-domain features\n",
    "\n",
    "**As a first step, we defined _which features_ we are going to extract**"
   ]
  },
  {
   "cell_type": "code",
   "execution_count": 9,
   "metadata": {},
   "outputs": [
    {
     "data": {
      "text/plain": [
       "\"{'pCut::Motor_Torque': ['mean', 'std', 'skew', <function <lambda> at 0x7f0f22d5be18>], 'pCut::CTRL_Position_controller::Lag_error': ['mean', 'std', 'skew', <function <lambda> at 0x7f0f22d5be18>], 'pCut::CTRL_Position_controller::Actual_position': ['mean', 'std', 'skew', <function <lambda> at 0x7f0f22d5be18>], 'pCut::CTRL_Position_controller::Actual_speed': ['mean', 'std', 'skew', <function <lambda> at 0x7f0f22d5be18>], 'pSvolFilm::CTRL_Position_controller::Actual_position': ['mean', 'std', 'skew', <function <lambda> at 0x7f0f22d5be18>], 'pSvolFilm::CTRL_Position_controller::Actual_speed': ['mean', 'std', 'skew', <function <lambda> at 0x7f0f22d5be18>], 'pSvolFilm::CTRL_Position_controller::Lag_error': ['mean', 'std', 'skew', <function <lambda> at 0x7f0f22d5be18>], 'pSpintor::VAX_speed': ['mean', 'std', 'skew', <function <lambda> at 0x7f0f22d5be18>], 'mode': 'first'}\""
      ]
     },
     "execution_count": 9,
     "metadata": {},
     "output_type": "execute_result"
    }
   ],
   "source": [
    "functions = ['mean', 'std', 'skew', lambda x: x.kurtosis()]\n",
    "aggmap = {a: functions for a in vs_in}\n",
    "aggmap['mode'] = 'first'\n",
    "str(aggmap)"
   ]
  },
  {
   "cell_type": "markdown",
   "metadata": {
    "slideshow": {
     "slide_type": "subslide"
    }
   },
   "source": [
    "## Binning\n",
    "\n",
    "**Then we define bin numbers, and extract the features via a `groupby` operation**\n",
    "\n",
    "We need to take care so that _no bin crosses between different segments_"
   ]
  },
  {
   "cell_type": "code",
   "execution_count": 10,
   "metadata": {},
   "outputs": [
    {
     "name": "stdout",
     "output_type": "stream",
     "text": [
      "CPU times: user 43.6 s, sys: 0 ns, total: 43.6 s\n",
      "Wall time: 43.6 s\n"
     ]
    }
   ],
   "source": [
    "%%time\n",
    "binsize = 128\n",
    "bins = []\n",
    "for sname, sdata in vs.groupby('segment'):\n",
    "    # Build the bin numbers\n",
    "    sdata['bin'] = sdata.index // binsize\n",
    "    # Apply the aggregation functions\n",
    "    tmp = sdata.groupby('bin').agg(aggmap)\n",
    "    bins.append(tmp)\n",
    "vsb = pd.concat(bins)"
   ]
  },
  {
   "cell_type": "markdown",
   "metadata": {},
   "source": [
    "* This can be a relatively slow operation\n",
    "* Bin numbers are usually easy to define using positional indexes and an integer division"
   ]
  },
  {
   "cell_type": "markdown",
   "metadata": {
    "slideshow": {
     "slide_type": "subslide"
    }
   },
   "source": [
    "## Binning\n",
    "\n",
    "**If we choose the bin size correctly, we can speed up the operation**\n",
    "\n",
    "* In particular, if all segments have the same length...\n",
    "* ...And we choose bin size that is a submultiple of the segment length\n",
    "\n",
    "...Then we can avoid processing each segment separately:"
   ]
  },
  {
   "cell_type": "code",
   "execution_count": null,
   "metadata": {},
   "outputs": [],
   "source": [
    "%%time\n",
    "# Build the bin numbers\n",
    "binsize = 128\n",
    "vsb = vs.copy()\n",
    "vsb['bin'] = vs.index // binsize\n",
    "vsb = vsb.groupby('bin').agg(aggmap)"
   ]
  },
  {
   "cell_type": "markdown",
   "metadata": {},
   "source": [
    "* This kind of approach is significantly faster"
   ]
  },
  {
   "cell_type": "markdown",
   "metadata": {
    "slideshow": {
     "slide_type": "subslide"
    }
   },
   "source": [
    "## Binning\n",
    "\n",
    "**The resulting dataframe has a hierarchical column index**"
   ]
  },
  {
   "cell_type": "code",
   "execution_count": 14,
   "metadata": {},
   "outputs": [
    {
     "data": {
      "text/html": [
       "<div>\n",
       "<style scoped>\n",
       "    .dataframe tbody tr th:only-of-type {\n",
       "        vertical-align: middle;\n",
       "    }\n",
       "\n",
       "    .dataframe tbody tr th {\n",
       "        vertical-align: top;\n",
       "    }\n",
       "\n",
       "    .dataframe thead tr th {\n",
       "        text-align: left;\n",
       "    }\n",
       "\n",
       "    .dataframe thead tr:last-of-type th {\n",
       "        text-align: right;\n",
       "    }\n",
       "</style>\n",
       "<table border=\"1\" class=\"dataframe\">\n",
       "  <thead>\n",
       "    <tr>\n",
       "      <th></th>\n",
       "      <th colspan=\"4\" halign=\"left\">pCut::Motor_Torque</th>\n",
       "      <th colspan=\"4\" halign=\"left\">pCut::CTRL_Position_controller::Lag_error</th>\n",
       "      <th colspan=\"2\" halign=\"left\">pCut::CTRL_Position_controller::Actual_position</th>\n",
       "      <th>...</th>\n",
       "      <th>pSvolFilm::CTRL_Position_controller::Actual_speed</th>\n",
       "      <th colspan=\"4\" halign=\"left\">pSvolFilm::CTRL_Position_controller::Lag_error</th>\n",
       "      <th colspan=\"4\" halign=\"left\">pSpintor::VAX_speed</th>\n",
       "      <th>mode</th>\n",
       "    </tr>\n",
       "    <tr>\n",
       "      <th></th>\n",
       "      <th>mean</th>\n",
       "      <th>std</th>\n",
       "      <th>skew</th>\n",
       "      <th>&lt;lambda_0&gt;</th>\n",
       "      <th>mean</th>\n",
       "      <th>std</th>\n",
       "      <th>skew</th>\n",
       "      <th>&lt;lambda_0&gt;</th>\n",
       "      <th>mean</th>\n",
       "      <th>std</th>\n",
       "      <th>...</th>\n",
       "      <th>&lt;lambda_0&gt;</th>\n",
       "      <th>mean</th>\n",
       "      <th>std</th>\n",
       "      <th>skew</th>\n",
       "      <th>&lt;lambda_0&gt;</th>\n",
       "      <th>mean</th>\n",
       "      <th>std</th>\n",
       "      <th>skew</th>\n",
       "      <th>&lt;lambda_0&gt;</th>\n",
       "      <th>first</th>\n",
       "    </tr>\n",
       "    <tr>\n",
       "      <th>bin</th>\n",
       "      <th></th>\n",
       "      <th></th>\n",
       "      <th></th>\n",
       "      <th></th>\n",
       "      <th></th>\n",
       "      <th></th>\n",
       "      <th></th>\n",
       "      <th></th>\n",
       "      <th></th>\n",
       "      <th></th>\n",
       "      <th></th>\n",
       "      <th></th>\n",
       "      <th></th>\n",
       "      <th></th>\n",
       "      <th></th>\n",
       "      <th></th>\n",
       "      <th></th>\n",
       "      <th></th>\n",
       "      <th></th>\n",
       "      <th></th>\n",
       "      <th></th>\n",
       "    </tr>\n",
       "  </thead>\n",
       "  <tbody>\n",
       "    <tr>\n",
       "      <th>0</th>\n",
       "      <td>0.475072</td>\n",
       "      <td>0.141935</td>\n",
       "      <td>-0.346041</td>\n",
       "      <td>-0.020202</td>\n",
       "      <td>0.000205</td>\n",
       "      <td>0.04027</td>\n",
       "      <td>0.069676</td>\n",
       "      <td>0.350389</td>\n",
       "      <td>6.283919e+08</td>\n",
       "      <td>539.217959</td>\n",
       "      <td>...</td>\n",
       "      <td>-1.151468</td>\n",
       "      <td>0.966007</td>\n",
       "      <td>0.054749</td>\n",
       "      <td>-0.088401</td>\n",
       "      <td>-0.45759</td>\n",
       "      <td>1379.999756</td>\n",
       "      <td>0.0</td>\n",
       "      <td>0.0</td>\n",
       "      <td>0.0</td>\n",
       "      <td>1</td>\n",
       "    </tr>\n",
       "  </tbody>\n",
       "</table>\n",
       "<p>1 rows × 33 columns</p>\n",
       "</div>"
      ],
      "text/plain": [
       "    pCut::Motor_Torque                                 \\\n",
       "                  mean       std      skew <lambda_0>   \n",
       "bin                                                     \n",
       "0             0.475072  0.141935 -0.346041  -0.020202   \n",
       "\n",
       "    pCut::CTRL_Position_controller::Lag_error                                \\\n",
       "                                         mean      std      skew <lambda_0>   \n",
       "bin                                                                           \n",
       "0                                    0.000205  0.04027  0.069676   0.350389   \n",
       "\n",
       "    pCut::CTRL_Position_controller::Actual_position              ...  \\\n",
       "                                               mean         std  ...   \n",
       "bin                                                              ...   \n",
       "0                                      6.283919e+08  539.217959  ...   \n",
       "\n",
       "    pSvolFilm::CTRL_Position_controller::Actual_speed  \\\n",
       "                                           <lambda_0>   \n",
       "bin                                                     \n",
       "0                                           -1.151468   \n",
       "\n",
       "    pSvolFilm::CTRL_Position_controller::Lag_error                      \\\n",
       "                                              mean       std      skew   \n",
       "bin                                                                      \n",
       "0                                         0.966007  0.054749 -0.088401   \n",
       "\n",
       "               pSpintor::VAX_speed                       mode  \n",
       "    <lambda_0>                mean  std skew <lambda_0> first  \n",
       "bin                                                            \n",
       "0     -0.45759         1379.999756  0.0  0.0        0.0     1  \n",
       "\n",
       "[1 rows x 33 columns]"
      ]
     },
     "execution_count": 14,
     "metadata": {},
     "output_type": "execute_result"
    }
   ],
   "source": [
    "vsb.iloc[:1]"
   ]
  },
  {
   "cell_type": "markdown",
   "metadata": {},
   "source": [
    "**It may be worth _flattening_, so as to simplify access:**"
   ]
  },
  {
   "cell_type": "code",
   "execution_count": 16,
   "metadata": {},
   "outputs": [
    {
     "data": {
      "text/html": [
       "<div>\n",
       "<style scoped>\n",
       "    .dataframe tbody tr th:only-of-type {\n",
       "        vertical-align: middle;\n",
       "    }\n",
       "\n",
       "    .dataframe tbody tr th {\n",
       "        vertical-align: top;\n",
       "    }\n",
       "\n",
       "    .dataframe thead th {\n",
       "        text-align: right;\n",
       "    }\n",
       "</style>\n",
       "<table border=\"1\" class=\"dataframe\">\n",
       "  <thead>\n",
       "    <tr style=\"text-align: right;\">\n",
       "      <th></th>\n",
       "      <th>pCut::Motor_Torque::mean</th>\n",
       "      <th>pCut::Motor_Torque::std</th>\n",
       "      <th>pCut::Motor_Torque::skew</th>\n",
       "      <th>pCut::Motor_Torque::&lt;lambda_0&gt;</th>\n",
       "      <th>pCut::CTRL_Position_controller::Lag_error::mean</th>\n",
       "      <th>pCut::CTRL_Position_controller::Lag_error::std</th>\n",
       "      <th>pCut::CTRL_Position_controller::Lag_error::skew</th>\n",
       "      <th>pCut::CTRL_Position_controller::Lag_error::&lt;lambda_0&gt;</th>\n",
       "      <th>pCut::CTRL_Position_controller::Actual_position::mean</th>\n",
       "      <th>pCut::CTRL_Position_controller::Actual_position::std</th>\n",
       "      <th>...</th>\n",
       "      <th>pSvolFilm::CTRL_Position_controller::Actual_speed::&lt;lambda_0&gt;</th>\n",
       "      <th>pSvolFilm::CTRL_Position_controller::Lag_error::mean</th>\n",
       "      <th>pSvolFilm::CTRL_Position_controller::Lag_error::std</th>\n",
       "      <th>pSvolFilm::CTRL_Position_controller::Lag_error::skew</th>\n",
       "      <th>pSvolFilm::CTRL_Position_controller::Lag_error::&lt;lambda_0&gt;</th>\n",
       "      <th>pSpintor::VAX_speed::mean</th>\n",
       "      <th>pSpintor::VAX_speed::std</th>\n",
       "      <th>pSpintor::VAX_speed::skew</th>\n",
       "      <th>pSpintor::VAX_speed::&lt;lambda_0&gt;</th>\n",
       "      <th>mode::first</th>\n",
       "    </tr>\n",
       "    <tr>\n",
       "      <th>bin</th>\n",
       "      <th></th>\n",
       "      <th></th>\n",
       "      <th></th>\n",
       "      <th></th>\n",
       "      <th></th>\n",
       "      <th></th>\n",
       "      <th></th>\n",
       "      <th></th>\n",
       "      <th></th>\n",
       "      <th></th>\n",
       "      <th></th>\n",
       "      <th></th>\n",
       "      <th></th>\n",
       "      <th></th>\n",
       "      <th></th>\n",
       "      <th></th>\n",
       "      <th></th>\n",
       "      <th></th>\n",
       "      <th></th>\n",
       "      <th></th>\n",
       "      <th></th>\n",
       "    </tr>\n",
       "  </thead>\n",
       "  <tbody>\n",
       "    <tr>\n",
       "      <th>0</th>\n",
       "      <td>0.475072</td>\n",
       "      <td>0.141935</td>\n",
       "      <td>-0.346041</td>\n",
       "      <td>-0.020202</td>\n",
       "      <td>0.000205</td>\n",
       "      <td>0.04027</td>\n",
       "      <td>0.069676</td>\n",
       "      <td>0.350389</td>\n",
       "      <td>6.283919e+08</td>\n",
       "      <td>539.217959</td>\n",
       "      <td>...</td>\n",
       "      <td>-1.151468</td>\n",
       "      <td>0.966007</td>\n",
       "      <td>0.054749</td>\n",
       "      <td>-0.088401</td>\n",
       "      <td>-0.45759</td>\n",
       "      <td>1379.999756</td>\n",
       "      <td>0.0</td>\n",
       "      <td>0.0</td>\n",
       "      <td>0.0</td>\n",
       "      <td>1</td>\n",
       "    </tr>\n",
       "  </tbody>\n",
       "</table>\n",
       "<p>1 rows × 33 columns</p>\n",
       "</div>"
      ],
      "text/plain": [
       "     pCut::Motor_Torque::mean  pCut::Motor_Torque::std  \\\n",
       "bin                                                      \n",
       "0                    0.475072                 0.141935   \n",
       "\n",
       "     pCut::Motor_Torque::skew  pCut::Motor_Torque::<lambda_0>  \\\n",
       "bin                                                             \n",
       "0                   -0.346041                       -0.020202   \n",
       "\n",
       "     pCut::CTRL_Position_controller::Lag_error::mean  \\\n",
       "bin                                                    \n",
       "0                                           0.000205   \n",
       "\n",
       "     pCut::CTRL_Position_controller::Lag_error::std  \\\n",
       "bin                                                   \n",
       "0                                           0.04027   \n",
       "\n",
       "     pCut::CTRL_Position_controller::Lag_error::skew  \\\n",
       "bin                                                    \n",
       "0                                           0.069676   \n",
       "\n",
       "     pCut::CTRL_Position_controller::Lag_error::<lambda_0>  \\\n",
       "bin                                                          \n",
       "0                                             0.350389       \n",
       "\n",
       "     pCut::CTRL_Position_controller::Actual_position::mean  \\\n",
       "bin                                                          \n",
       "0                                         6.283919e+08       \n",
       "\n",
       "     pCut::CTRL_Position_controller::Actual_position::std  ...  \\\n",
       "bin                                                        ...   \n",
       "0                                           539.217959     ...   \n",
       "\n",
       "     pSvolFilm::CTRL_Position_controller::Actual_speed::<lambda_0>  \\\n",
       "bin                                                                  \n",
       "0                                            -1.151468               \n",
       "\n",
       "     pSvolFilm::CTRL_Position_controller::Lag_error::mean  \\\n",
       "bin                                                         \n",
       "0                                             0.966007      \n",
       "\n",
       "     pSvolFilm::CTRL_Position_controller::Lag_error::std  \\\n",
       "bin                                                        \n",
       "0                                             0.054749     \n",
       "\n",
       "     pSvolFilm::CTRL_Position_controller::Lag_error::skew  \\\n",
       "bin                                                         \n",
       "0                                            -0.088401      \n",
       "\n",
       "     pSvolFilm::CTRL_Position_controller::Lag_error::<lambda_0>  \\\n",
       "bin                                                               \n",
       "0                                             -0.45759            \n",
       "\n",
       "     pSpintor::VAX_speed::mean  pSpintor::VAX_speed::std  \\\n",
       "bin                                                        \n",
       "0                  1379.999756                       0.0   \n",
       "\n",
       "     pSpintor::VAX_speed::skew  pSpintor::VAX_speed::<lambda_0>  mode::first  \n",
       "bin                                                                           \n",
       "0                          0.0                              0.0            1  \n",
       "\n",
       "[1 rows x 33 columns]"
      ]
     },
     "execution_count": 16,
     "metadata": {},
     "output_type": "execute_result"
    }
   ],
   "source": [
    "if isinstance(vsb.columns, pd.MultiIndex):\n",
    "    vsb.columns = ['::'.join(c) for c in vsb.columns]\n",
    "vsb.iloc[:1]"
   ]
  },
  {
   "cell_type": "markdown",
   "metadata": {
    "slideshow": {
     "slide_type": "subslide"
    }
   },
   "source": [
    "## Standardization\n",
    "\n",
    "**Before we can train any model, we need some preparation**\n",
    "\n",
    "We will _standardize sensor inputs_ (all except the mode) using the first third of the series "
   ]
  },
  {
   "cell_type": "code",
   "execution_count": 17,
   "metadata": {},
   "outputs": [
    {
     "data": {
      "text/html": [
       "<div>\n",
       "<style scoped>\n",
       "    .dataframe tbody tr th:only-of-type {\n",
       "        vertical-align: middle;\n",
       "    }\n",
       "\n",
       "    .dataframe tbody tr th {\n",
       "        vertical-align: top;\n",
       "    }\n",
       "\n",
       "    .dataframe thead th {\n",
       "        text-align: right;\n",
       "    }\n",
       "</style>\n",
       "<table border=\"1\" class=\"dataframe\">\n",
       "  <thead>\n",
       "    <tr style=\"text-align: right;\">\n",
       "      <th></th>\n",
       "      <th>pCut::Motor_Torque::mean</th>\n",
       "      <th>pCut::Motor_Torque::std</th>\n",
       "      <th>pCut::Motor_Torque::skew</th>\n",
       "      <th>pCut::Motor_Torque::&lt;lambda_0&gt;</th>\n",
       "      <th>pCut::CTRL_Position_controller::Lag_error::mean</th>\n",
       "      <th>pCut::CTRL_Position_controller::Lag_error::std</th>\n",
       "      <th>pCut::CTRL_Position_controller::Lag_error::skew</th>\n",
       "      <th>pCut::CTRL_Position_controller::Lag_error::&lt;lambda_0&gt;</th>\n",
       "      <th>pCut::CTRL_Position_controller::Actual_position::mean</th>\n",
       "      <th>pCut::CTRL_Position_controller::Actual_position::std</th>\n",
       "      <th>...</th>\n",
       "      <th>pSvolFilm::CTRL_Position_controller::Actual_speed::&lt;lambda_0&gt;</th>\n",
       "      <th>pSvolFilm::CTRL_Position_controller::Lag_error::mean</th>\n",
       "      <th>pSvolFilm::CTRL_Position_controller::Lag_error::std</th>\n",
       "      <th>pSvolFilm::CTRL_Position_controller::Lag_error::skew</th>\n",
       "      <th>pSvolFilm::CTRL_Position_controller::Lag_error::&lt;lambda_0&gt;</th>\n",
       "      <th>pSpintor::VAX_speed::mean</th>\n",
       "      <th>pSpintor::VAX_speed::std</th>\n",
       "      <th>pSpintor::VAX_speed::skew</th>\n",
       "      <th>pSpintor::VAX_speed::&lt;lambda_0&gt;</th>\n",
       "      <th>mode::first</th>\n",
       "    </tr>\n",
       "    <tr>\n",
       "      <th>bin</th>\n",
       "      <th></th>\n",
       "      <th></th>\n",
       "      <th></th>\n",
       "      <th></th>\n",
       "      <th></th>\n",
       "      <th></th>\n",
       "      <th></th>\n",
       "      <th></th>\n",
       "      <th></th>\n",
       "      <th></th>\n",
       "      <th></th>\n",
       "      <th></th>\n",
       "      <th></th>\n",
       "      <th></th>\n",
       "      <th></th>\n",
       "      <th></th>\n",
       "      <th></th>\n",
       "      <th></th>\n",
       "      <th></th>\n",
       "      <th></th>\n",
       "      <th></th>\n",
       "    </tr>\n",
       "  </thead>\n",
       "  <tbody>\n",
       "    <tr>\n",
       "      <th>0</th>\n",
       "      <td>1.838916</td>\n",
       "      <td>-1.125481</td>\n",
       "      <td>0.478513</td>\n",
       "      <td>-0.549730</td>\n",
       "      <td>0.083036</td>\n",
       "      <td>-0.590987</td>\n",
       "      <td>0.461354</td>\n",
       "      <td>-0.672605</td>\n",
       "      <td>0.386059</td>\n",
       "      <td>-0.334643</td>\n",
       "      <td>...</td>\n",
       "      <td>-0.733193</td>\n",
       "      <td>0.116296</td>\n",
       "      <td>-0.820853</td>\n",
       "      <td>0.100392</td>\n",
       "      <td>-0.432482</td>\n",
       "      <td>-0.894283</td>\n",
       "      <td>-0.125539</td>\n",
       "      <td>0.219029</td>\n",
       "      <td>-0.025363</td>\n",
       "      <td>1</td>\n",
       "    </tr>\n",
       "    <tr>\n",
       "      <th>1</th>\n",
       "      <td>-0.336049</td>\n",
       "      <td>-0.424273</td>\n",
       "      <td>0.757608</td>\n",
       "      <td>-0.689435</td>\n",
       "      <td>-0.595970</td>\n",
       "      <td>-0.704050</td>\n",
       "      <td>0.654822</td>\n",
       "      <td>-0.650099</td>\n",
       "      <td>0.386054</td>\n",
       "      <td>-1.394564</td>\n",
       "      <td>...</td>\n",
       "      <td>-0.455596</td>\n",
       "      <td>-0.028925</td>\n",
       "      <td>-0.878265</td>\n",
       "      <td>0.093372</td>\n",
       "      <td>-0.303575</td>\n",
       "      <td>-0.894283</td>\n",
       "      <td>-0.125539</td>\n",
       "      <td>0.219029</td>\n",
       "      <td>-0.025363</td>\n",
       "      <td>1</td>\n",
       "    </tr>\n",
       "    <tr>\n",
       "      <th>2</th>\n",
       "      <td>-1.199835</td>\n",
       "      <td>0.860690</td>\n",
       "      <td>-1.275360</td>\n",
       "      <td>1.098302</td>\n",
       "      <td>0.238978</td>\n",
       "      <td>1.311934</td>\n",
       "      <td>-1.131721</td>\n",
       "      <td>0.891796</td>\n",
       "      <td>0.386061</td>\n",
       "      <td>1.092091</td>\n",
       "      <td>...</td>\n",
       "      <td>-0.720019</td>\n",
       "      <td>-0.523136</td>\n",
       "      <td>-0.344187</td>\n",
       "      <td>-1.489017</td>\n",
       "      <td>1.181348</td>\n",
       "      <td>-0.894283</td>\n",
       "      <td>-0.125539</td>\n",
       "      <td>0.219029</td>\n",
       "      <td>-0.025363</td>\n",
       "      <td>1</td>\n",
       "    </tr>\n",
       "  </tbody>\n",
       "</table>\n",
       "<p>3 rows × 33 columns</p>\n",
       "</div>"
      ],
      "text/plain": [
       "     pCut::Motor_Torque::mean  pCut::Motor_Torque::std  \\\n",
       "bin                                                      \n",
       "0                    1.838916                -1.125481   \n",
       "1                   -0.336049                -0.424273   \n",
       "2                   -1.199835                 0.860690   \n",
       "\n",
       "     pCut::Motor_Torque::skew  pCut::Motor_Torque::<lambda_0>  \\\n",
       "bin                                                             \n",
       "0                    0.478513                       -0.549730   \n",
       "1                    0.757608                       -0.689435   \n",
       "2                   -1.275360                        1.098302   \n",
       "\n",
       "     pCut::CTRL_Position_controller::Lag_error::mean  \\\n",
       "bin                                                    \n",
       "0                                           0.083036   \n",
       "1                                          -0.595970   \n",
       "2                                           0.238978   \n",
       "\n",
       "     pCut::CTRL_Position_controller::Lag_error::std  \\\n",
       "bin                                                   \n",
       "0                                         -0.590987   \n",
       "1                                         -0.704050   \n",
       "2                                          1.311934   \n",
       "\n",
       "     pCut::CTRL_Position_controller::Lag_error::skew  \\\n",
       "bin                                                    \n",
       "0                                           0.461354   \n",
       "1                                           0.654822   \n",
       "2                                          -1.131721   \n",
       "\n",
       "     pCut::CTRL_Position_controller::Lag_error::<lambda_0>  \\\n",
       "bin                                                          \n",
       "0                                            -0.672605       \n",
       "1                                            -0.650099       \n",
       "2                                             0.891796       \n",
       "\n",
       "     pCut::CTRL_Position_controller::Actual_position::mean  \\\n",
       "bin                                                          \n",
       "0                                             0.386059       \n",
       "1                                             0.386054       \n",
       "2                                             0.386061       \n",
       "\n",
       "     pCut::CTRL_Position_controller::Actual_position::std  ...  \\\n",
       "bin                                                        ...   \n",
       "0                                            -0.334643     ...   \n",
       "1                                            -1.394564     ...   \n",
       "2                                             1.092091     ...   \n",
       "\n",
       "     pSvolFilm::CTRL_Position_controller::Actual_speed::<lambda_0>  \\\n",
       "bin                                                                  \n",
       "0                                            -0.733193               \n",
       "1                                            -0.455596               \n",
       "2                                            -0.720019               \n",
       "\n",
       "     pSvolFilm::CTRL_Position_controller::Lag_error::mean  \\\n",
       "bin                                                         \n",
       "0                                             0.116296      \n",
       "1                                            -0.028925      \n",
       "2                                            -0.523136      \n",
       "\n",
       "     pSvolFilm::CTRL_Position_controller::Lag_error::std  \\\n",
       "bin                                                        \n",
       "0                                            -0.820853     \n",
       "1                                            -0.878265     \n",
       "2                                            -0.344187     \n",
       "\n",
       "     pSvolFilm::CTRL_Position_controller::Lag_error::skew  \\\n",
       "bin                                                         \n",
       "0                                             0.100392      \n",
       "1                                             0.093372      \n",
       "2                                            -1.489017      \n",
       "\n",
       "     pSvolFilm::CTRL_Position_controller::Lag_error::<lambda_0>  \\\n",
       "bin                                                               \n",
       "0                                            -0.432482            \n",
       "1                                            -0.303575            \n",
       "2                                             1.181348            \n",
       "\n",
       "     pSpintor::VAX_speed::mean  pSpintor::VAX_speed::std  \\\n",
       "bin                                                        \n",
       "0                    -0.894283                 -0.125539   \n",
       "1                    -0.894283                 -0.125539   \n",
       "2                    -0.894283                 -0.125539   \n",
       "\n",
       "     pSpintor::VAX_speed::skew  pSpintor::VAX_speed::<lambda_0>  mode::first  \n",
       "bin                                                                           \n",
       "0                     0.219029                        -0.025363            1  \n",
       "1                     0.219029                        -0.025363            1  \n",
       "2                     0.219029                        -0.025363            1  \n",
       "\n",
       "[3 rows x 33 columns]"
      ]
     },
     "execution_count": 17,
     "metadata": {},
     "output_type": "execute_result"
    }
   ],
   "source": [
    "sep = int(np.round(len(vsb) * 0.34))\n",
    "vsb_in = vsb.columns[:-1]\n",
    "vsbs = vsb.copy()\n",
    "tmp = vsbs[vsb_in].iloc[:sep]\n",
    "vsbs[vsb_in] = (vsbs[vsb_in] - tmp.mean()) / tmp.std()\n",
    "vsbs.iloc[:3]"
   ]
  },
  {
   "cell_type": "markdown",
   "metadata": {
    "slideshow": {
     "slide_type": "subslide"
    }
   },
   "source": [
    "## Categorical Mode\n",
    "\n",
    "**We will also adopt a _categorical encoding_ for the operating mode**\n",
    "\n",
    "This is critical for neural network approaches in particular"
   ]
  },
  {
   "cell_type": "code",
   "execution_count": 19,
   "metadata": {},
   "outputs": [
    {
     "data": {
      "text/html": [
       "<div>\n",
       "<style scoped>\n",
       "    .dataframe tbody tr th:only-of-type {\n",
       "        vertical-align: middle;\n",
       "    }\n",
       "\n",
       "    .dataframe tbody tr th {\n",
       "        vertical-align: top;\n",
       "    }\n",
       "\n",
       "    .dataframe thead th {\n",
       "        text-align: right;\n",
       "    }\n",
       "</style>\n",
       "<table border=\"1\" class=\"dataframe\">\n",
       "  <thead>\n",
       "    <tr style=\"text-align: right;\">\n",
       "      <th></th>\n",
       "      <th>pCut::Motor_Torque::mean</th>\n",
       "      <th>pCut::Motor_Torque::std</th>\n",
       "      <th>pCut::Motor_Torque::skew</th>\n",
       "      <th>pCut::Motor_Torque::&lt;lambda_0&gt;</th>\n",
       "      <th>pCut::CTRL_Position_controller::Lag_error::mean</th>\n",
       "      <th>pCut::CTRL_Position_controller::Lag_error::std</th>\n",
       "      <th>pCut::CTRL_Position_controller::Lag_error::skew</th>\n",
       "      <th>pCut::CTRL_Position_controller::Lag_error::&lt;lambda_0&gt;</th>\n",
       "      <th>pCut::CTRL_Position_controller::Actual_position::mean</th>\n",
       "      <th>pCut::CTRL_Position_controller::Actual_position::std</th>\n",
       "      <th>...</th>\n",
       "      <th>mode::first</th>\n",
       "      <th>m0</th>\n",
       "      <th>m1</th>\n",
       "      <th>m2</th>\n",
       "      <th>m3</th>\n",
       "      <th>m4</th>\n",
       "      <th>m5</th>\n",
       "      <th>m6</th>\n",
       "      <th>m7</th>\n",
       "      <th>m8</th>\n",
       "    </tr>\n",
       "    <tr>\n",
       "      <th>bin</th>\n",
       "      <th></th>\n",
       "      <th></th>\n",
       "      <th></th>\n",
       "      <th></th>\n",
       "      <th></th>\n",
       "      <th></th>\n",
       "      <th></th>\n",
       "      <th></th>\n",
       "      <th></th>\n",
       "      <th></th>\n",
       "      <th></th>\n",
       "      <th></th>\n",
       "      <th></th>\n",
       "      <th></th>\n",
       "      <th></th>\n",
       "      <th></th>\n",
       "      <th></th>\n",
       "      <th></th>\n",
       "      <th></th>\n",
       "      <th></th>\n",
       "      <th></th>\n",
       "    </tr>\n",
       "  </thead>\n",
       "  <tbody>\n",
       "    <tr>\n",
       "      <th>0</th>\n",
       "      <td>1.838916</td>\n",
       "      <td>-1.125481</td>\n",
       "      <td>0.478513</td>\n",
       "      <td>-0.549730</td>\n",
       "      <td>0.083036</td>\n",
       "      <td>-0.590987</td>\n",
       "      <td>0.461354</td>\n",
       "      <td>-0.672605</td>\n",
       "      <td>0.386059</td>\n",
       "      <td>-0.334643</td>\n",
       "      <td>...</td>\n",
       "      <td>1</td>\n",
       "      <td>0.0</td>\n",
       "      <td>1.0</td>\n",
       "      <td>0.0</td>\n",
       "      <td>0.0</td>\n",
       "      <td>0.0</td>\n",
       "      <td>0.0</td>\n",
       "      <td>0.0</td>\n",
       "      <td>0.0</td>\n",
       "      <td>0.0</td>\n",
       "    </tr>\n",
       "    <tr>\n",
       "      <th>1</th>\n",
       "      <td>-0.336049</td>\n",
       "      <td>-0.424273</td>\n",
       "      <td>0.757608</td>\n",
       "      <td>-0.689435</td>\n",
       "      <td>-0.595970</td>\n",
       "      <td>-0.704050</td>\n",
       "      <td>0.654822</td>\n",
       "      <td>-0.650099</td>\n",
       "      <td>0.386054</td>\n",
       "      <td>-1.394564</td>\n",
       "      <td>...</td>\n",
       "      <td>1</td>\n",
       "      <td>0.0</td>\n",
       "      <td>1.0</td>\n",
       "      <td>0.0</td>\n",
       "      <td>0.0</td>\n",
       "      <td>0.0</td>\n",
       "      <td>0.0</td>\n",
       "      <td>0.0</td>\n",
       "      <td>0.0</td>\n",
       "      <td>0.0</td>\n",
       "    </tr>\n",
       "    <tr>\n",
       "      <th>2</th>\n",
       "      <td>-1.199835</td>\n",
       "      <td>0.860690</td>\n",
       "      <td>-1.275360</td>\n",
       "      <td>1.098302</td>\n",
       "      <td>0.238978</td>\n",
       "      <td>1.311934</td>\n",
       "      <td>-1.131721</td>\n",
       "      <td>0.891796</td>\n",
       "      <td>0.386061</td>\n",
       "      <td>1.092091</td>\n",
       "      <td>...</td>\n",
       "      <td>1</td>\n",
       "      <td>0.0</td>\n",
       "      <td>1.0</td>\n",
       "      <td>0.0</td>\n",
       "      <td>0.0</td>\n",
       "      <td>0.0</td>\n",
       "      <td>0.0</td>\n",
       "      <td>0.0</td>\n",
       "      <td>0.0</td>\n",
       "      <td>0.0</td>\n",
       "    </tr>\n",
       "    <tr>\n",
       "      <th>3</th>\n",
       "      <td>-0.188107</td>\n",
       "      <td>-1.191551</td>\n",
       "      <td>0.250961</td>\n",
       "      <td>-0.443552</td>\n",
       "      <td>0.217620</td>\n",
       "      <td>-0.756159</td>\n",
       "      <td>0.505747</td>\n",
       "      <td>-0.649685</td>\n",
       "      <td>0.386070</td>\n",
       "      <td>-0.524966</td>\n",
       "      <td>...</td>\n",
       "      <td>1</td>\n",
       "      <td>0.0</td>\n",
       "      <td>1.0</td>\n",
       "      <td>0.0</td>\n",
       "      <td>0.0</td>\n",
       "      <td>0.0</td>\n",
       "      <td>0.0</td>\n",
       "      <td>0.0</td>\n",
       "      <td>0.0</td>\n",
       "      <td>0.0</td>\n",
       "    </tr>\n",
       "    <tr>\n",
       "      <th>4</th>\n",
       "      <td>0.252049</td>\n",
       "      <td>-0.947974</td>\n",
       "      <td>1.255687</td>\n",
       "      <td>-0.587060</td>\n",
       "      <td>-0.089580</td>\n",
       "      <td>-0.808065</td>\n",
       "      <td>0.080496</td>\n",
       "      <td>-0.615753</td>\n",
       "      <td>0.386073</td>\n",
       "      <td>-1.622526</td>\n",
       "      <td>...</td>\n",
       "      <td>1</td>\n",
       "      <td>0.0</td>\n",
       "      <td>1.0</td>\n",
       "      <td>0.0</td>\n",
       "      <td>0.0</td>\n",
       "      <td>0.0</td>\n",
       "      <td>0.0</td>\n",
       "      <td>0.0</td>\n",
       "      <td>0.0</td>\n",
       "      <td>0.0</td>\n",
       "    </tr>\n",
       "  </tbody>\n",
       "</table>\n",
       "<p>5 rows × 42 columns</p>\n",
       "</div>"
      ],
      "text/plain": [
       "     pCut::Motor_Torque::mean  pCut::Motor_Torque::std  \\\n",
       "bin                                                      \n",
       "0                    1.838916                -1.125481   \n",
       "1                   -0.336049                -0.424273   \n",
       "2                   -1.199835                 0.860690   \n",
       "3                   -0.188107                -1.191551   \n",
       "4                    0.252049                -0.947974   \n",
       "\n",
       "     pCut::Motor_Torque::skew  pCut::Motor_Torque::<lambda_0>  \\\n",
       "bin                                                             \n",
       "0                    0.478513                       -0.549730   \n",
       "1                    0.757608                       -0.689435   \n",
       "2                   -1.275360                        1.098302   \n",
       "3                    0.250961                       -0.443552   \n",
       "4                    1.255687                       -0.587060   \n",
       "\n",
       "     pCut::CTRL_Position_controller::Lag_error::mean  \\\n",
       "bin                                                    \n",
       "0                                           0.083036   \n",
       "1                                          -0.595970   \n",
       "2                                           0.238978   \n",
       "3                                           0.217620   \n",
       "4                                          -0.089580   \n",
       "\n",
       "     pCut::CTRL_Position_controller::Lag_error::std  \\\n",
       "bin                                                   \n",
       "0                                         -0.590987   \n",
       "1                                         -0.704050   \n",
       "2                                          1.311934   \n",
       "3                                         -0.756159   \n",
       "4                                         -0.808065   \n",
       "\n",
       "     pCut::CTRL_Position_controller::Lag_error::skew  \\\n",
       "bin                                                    \n",
       "0                                           0.461354   \n",
       "1                                           0.654822   \n",
       "2                                          -1.131721   \n",
       "3                                           0.505747   \n",
       "4                                           0.080496   \n",
       "\n",
       "     pCut::CTRL_Position_controller::Lag_error::<lambda_0>  \\\n",
       "bin                                                          \n",
       "0                                            -0.672605       \n",
       "1                                            -0.650099       \n",
       "2                                             0.891796       \n",
       "3                                            -0.649685       \n",
       "4                                            -0.615753       \n",
       "\n",
       "     pCut::CTRL_Position_controller::Actual_position::mean  \\\n",
       "bin                                                          \n",
       "0                                             0.386059       \n",
       "1                                             0.386054       \n",
       "2                                             0.386061       \n",
       "3                                             0.386070       \n",
       "4                                             0.386073       \n",
       "\n",
       "     pCut::CTRL_Position_controller::Actual_position::std  ...  mode::first  \\\n",
       "bin                                                        ...                \n",
       "0                                            -0.334643     ...            1   \n",
       "1                                            -1.394564     ...            1   \n",
       "2                                             1.092091     ...            1   \n",
       "3                                            -0.524966     ...            1   \n",
       "4                                            -1.622526     ...            1   \n",
       "\n",
       "      m0   m1   m2   m3   m4   m5   m6   m7   m8  \n",
       "bin                                               \n",
       "0    0.0  1.0  0.0  0.0  0.0  0.0  0.0  0.0  0.0  \n",
       "1    0.0  1.0  0.0  0.0  0.0  0.0  0.0  0.0  0.0  \n",
       "2    0.0  1.0  0.0  0.0  0.0  0.0  0.0  0.0  0.0  \n",
       "3    0.0  1.0  0.0  0.0  0.0  0.0  0.0  0.0  0.0  \n",
       "4    0.0  1.0  0.0  0.0  0.0  0.0  0.0  0.0  0.0  \n",
       "\n",
       "[5 rows x 42 columns]"
      ]
     },
     "execution_count": 19,
     "metadata": {},
     "output_type": "execute_result"
    }
   ],
   "source": [
    "from tensorflow.keras.utils import to_categorical\n",
    "cmode = to_categorical(vsbs['mode::first'])\n",
    "cols = [f'm{i}' for i in range(cmode.shape[1])]\n",
    "cmode = pd.DataFrame(index=vsbs.index, data=cmode, columns=cols)\n",
    "vsbs[cols] = cmode\n",
    "vsbs.head()"
   ]
  },
  {
   "cell_type": "markdown",
   "metadata": {
    "slideshow": {
     "slide_type": "slide"
    }
   },
   "source": [
    "# KDE Approach"
   ]
  },
  {
   "cell_type": "markdown",
   "metadata": {
    "slideshow": {
     "slide_type": "subslide"
    }
   },
   "source": [
    "## KDE Approach\n",
    "\n",
    "**Now, let's try anomaly detection via KDE**\n",
    "\n",
    "First we estimate the optimal bandwidth:"
   ]
  },
  {
   "cell_type": "code",
   "execution_count": 20,
   "metadata": {},
   "outputs": [
    {
     "name": "stdout",
     "output_type": "stream",
     "text": [
      "bandwidth    0.333333\n",
      "dtype: float64\n",
      "CPU times: user 8.04 s, sys: 8.95 ms, total: 8.05 s\n",
      "Wall time: 8.07 s\n"
     ]
    }
   ],
   "source": [
    "%%time\n",
    "vsbs_tr = vsbs.iloc[:sep]\n",
    "\n",
    "params = {'bandwidth': np.linspace(0.2, 0.8, 10)}\n",
    "opt = GridSearchCV(KernelDensity(kernel='gaussian'), params, cv=5)\n",
    "opt.fit(vsbs_tr)\n",
    "best_params = pd.Series(index=opt.best_params_.keys(), data=opt.best_params_.values())\n",
    "print(best_params)    "
   ]
  },
  {
   "cell_type": "markdown",
   "metadata": {
    "slideshow": {
     "slide_type": "subslide"
    }
   },
   "source": [
    "## KDE Approach\n",
    "\n",
    "**Then we can train an estimator**"
   ]
  },
  {
   "cell_type": "code",
   "execution_count": 21,
   "metadata": {},
   "outputs": [
    {
     "data": {
      "text/plain": [
       "KernelDensity(bandwidth=0.33333333333333337)"
      ]
     },
     "execution_count": 21,
     "metadata": {},
     "output_type": "execute_result"
    }
   ],
   "source": [
    "h = opt.best_params_['bandwidth']\n",
    "kde = KernelDensity(bandwidth=h)\n",
    "kde.fit(vsbs_tr)"
   ]
  },
  {
   "cell_type": "markdown",
   "metadata": {},
   "source": [
    "**...And we can generate the alarm signal**"
   ]
  },
  {
   "cell_type": "code",
   "execution_count": 22,
   "metadata": {},
   "outputs": [
    {
     "name": "stdout",
     "output_type": "stream",
     "text": [
      "CPU times: user 3.02 s, sys: 4.31 ms, total: 3.03 s\n",
      "Wall time: 3.02 s\n"
     ]
    }
   ],
   "source": [
    "%%time\n",
    "ldens = kde.score_samples(vsbs)\n",
    "signal_kde = pd.Series(index=vsbs.index, data=-ldens)"
   ]
  },
  {
   "cell_type": "markdown",
   "metadata": {
    "slideshow": {
     "slide_type": "subslide"
    }
   },
   "source": [
    "## KDE Approach\n",
    "\n",
    "**Let's plot the signal**"
   ]
  },
  {
   "cell_type": "code",
   "execution_count": 24,
   "metadata": {},
   "outputs": [
    {
     "data": {
      "application/vnd.jupyter.widget-view+json": {
       "model_id": "1cfc6501695f467e87bef293b0bdd2d7",
       "version_major": 2,
       "version_minor": 0
      },
      "text/plain": [
       "Canvas(toolbar=Toolbar(toolitems=[('Home', 'Reset original view', 'home', 'home'), ('Back', 'Back to previous …"
      ]
     },
     "metadata": {},
     "output_type": "display_data"
    }
   ],
   "source": [
    "nn.plot_signal(signal_kde, figsize=figsize)"
   ]
  },
  {
   "cell_type": "markdown",
   "metadata": {},
   "source": [
    "* A peak at mid run makes the signal difficult to read"
   ]
  },
  {
   "cell_type": "markdown",
   "metadata": {
    "slideshow": {
     "slide_type": "subslide"
    }
   },
   "source": [
    "## KDE Approach\n",
    "\n",
    "**Since the anomaly arises slowly, it makes sense to _clip_ and _smooth_ the signal**"
   ]
  },
  {
   "cell_type": "code",
   "execution_count": 29,
   "metadata": {},
   "outputs": [
    {
     "data": {
      "application/vnd.jupyter.widget-view+json": {
       "model_id": "4c28e6d4f81742bc980eb0f8a6045b43",
       "version_major": 2,
       "version_minor": 0
      },
      "text/plain": [
       "Canvas(toolbar=Toolbar(toolitems=[('Home', 'Reset original view', 'home', 'home'), ('Back', 'Back to previous …"
      ]
     },
     "metadata": {},
     "output_type": "display_data"
    }
   ],
   "source": [
    "nn.plot_signal(signal_kde.clip(upper=25).ewm(512).mean(), figsize=figsize)"
   ]
  },
  {
   "cell_type": "markdown",
   "metadata": {},
   "source": [
    "* The smoothed signal has a tendency to grow\n",
    "* There is a plateau in the middle that is difficult to explain"
   ]
  },
  {
   "cell_type": "markdown",
   "metadata": {
    "slideshow": {
     "slide_type": "slide"
    }
   },
   "source": [
    "# Autoencoder Approach"
   ]
  },
  {
   "cell_type": "markdown",
   "metadata": {
    "slideshow": {
     "slide_type": "subslide"
    }
   },
   "source": [
    "## Autoencoder Approach\n",
    "\n",
    "**Let's repeat our analysis using an autoencoder**\n",
    "\n",
    "First we define its structure:"
   ]
  },
  {
   "cell_type": "code",
   "execution_count": 33,
   "metadata": {
    "scrolled": true
   },
   "outputs": [],
   "source": [
    "input_shape = vsbs.shape[1]\n",
    "output_shape = len(vsb_in)\n",
    "ae_x = keras.Input(shape=input_shape, dtype='float32')\n",
    "ae_z = Dense(16, activation='relu')(ae_x)\n",
    "ae_y = Dense(output_shape, activation='linear')(ae_z)\n",
    "ae = keras.Model(ae_x, ae_y)"
   ]
  },
  {
   "cell_type": "markdown",
   "metadata": {},
   "source": [
    "* The input includes the operating mode\n",
    "* ...But _the output does not_!\n",
    "\n",
    "We have _no interest in reconstructing controlled parameters_"
   ]
  },
  {
   "cell_type": "markdown",
   "metadata": {
    "slideshow": {
     "slide_type": "subslide"
    }
   },
   "source": [
    "## Autoencoder Approach\n",
    "\n",
    "**Now we can perform training**"
   ]
  },
  {
   "cell_type": "code",
   "execution_count": 34,
   "metadata": {
    "scrolled": true
   },
   "outputs": [
    {
     "name": "stdout",
     "output_type": "stream",
     "text": [
      "Epoch 1/50\n",
      "71/71 - 0s - loss: 0.9992 - val_loss: 0.6601\n",
      "Epoch 2/50\n",
      "71/71 - 0s - loss: 0.6836 - val_loss: 0.4621\n",
      "Epoch 3/50\n",
      "71/71 - 0s - loss: 0.4980 - val_loss: 0.3478\n",
      "Epoch 4/50\n",
      "71/71 - 0s - loss: 0.4001 - val_loss: 0.2919\n",
      "Epoch 5/50\n",
      "71/71 - 0s - loss: 0.3441 - val_loss: 0.2556\n",
      "Epoch 6/50\n",
      "71/71 - 0s - loss: 0.3057 - val_loss: 0.2313\n",
      "Epoch 7/50\n",
      "71/71 - 0s - loss: 0.2766 - val_loss: 0.2095\n",
      "Epoch 8/50\n",
      "71/71 - 0s - loss: 0.2532 - val_loss: 0.1921\n",
      "Epoch 9/50\n",
      "71/71 - 0s - loss: 0.2331 - val_loss: 0.1740\n",
      "Epoch 10/50\n",
      "71/71 - 0s - loss: 0.2159 - val_loss: 0.1620\n",
      "Epoch 11/50\n",
      "71/71 - 0s - loss: 0.2011 - val_loss: 0.1505\n",
      "Epoch 12/50\n",
      "71/71 - 0s - loss: 0.1882 - val_loss: 0.1386\n",
      "Epoch 13/50\n",
      "71/71 - 0s - loss: 0.1767 - val_loss: 0.1309\n",
      "Epoch 14/50\n",
      "71/71 - 0s - loss: 0.1676 - val_loss: 0.1240\n",
      "Epoch 15/50\n",
      "71/71 - 0s - loss: 0.1600 - val_loss: 0.1174\n",
      "Epoch 16/50\n",
      "71/71 - 0s - loss: 0.1531 - val_loss: 0.1119\n",
      "Epoch 17/50\n",
      "71/71 - 0s - loss: 0.1474 - val_loss: 0.1079\n",
      "Epoch 18/50\n",
      "71/71 - 0s - loss: 0.1416 - val_loss: 0.1059\n",
      "Epoch 19/50\n",
      "71/71 - 0s - loss: 0.1372 - val_loss: 0.1036\n",
      "Epoch 20/50\n",
      "71/71 - 0s - loss: 0.1326 - val_loss: 0.0990\n",
      "Epoch 21/50\n",
      "71/71 - 0s - loss: 0.1292 - val_loss: 0.0982\n",
      "Epoch 22/50\n",
      "71/71 - 0s - loss: 0.1259 - val_loss: 0.0949\n",
      "Epoch 23/50\n",
      "71/71 - 0s - loss: 0.1226 - val_loss: 0.0945\n",
      "Epoch 24/50\n",
      "71/71 - 0s - loss: 0.1202 - val_loss: 0.0922\n",
      "Epoch 25/50\n",
      "71/71 - 0s - loss: 0.1183 - val_loss: 0.0916\n",
      "Epoch 26/50\n",
      "71/71 - 0s - loss: 0.1162 - val_loss: 0.0893\n",
      "Epoch 27/50\n",
      "71/71 - 0s - loss: 0.1141 - val_loss: 0.0891\n",
      "Epoch 28/50\n",
      "71/71 - 0s - loss: 0.1113 - val_loss: 0.0895\n",
      "Epoch 29/50\n",
      "71/71 - 0s - loss: 0.1099 - val_loss: 0.0864\n",
      "Epoch 30/50\n",
      "71/71 - 0s - loss: 0.1078 - val_loss: 0.0874\n",
      "Epoch 31/50\n",
      "71/71 - 0s - loss: 0.1062 - val_loss: 0.0861\n",
      "Epoch 32/50\n",
      "71/71 - 0s - loss: 0.1047 - val_loss: 0.0833\n",
      "Epoch 33/50\n",
      "71/71 - 0s - loss: 0.1031 - val_loss: 0.0829\n",
      "Epoch 34/50\n",
      "71/71 - 0s - loss: 0.1019 - val_loss: 0.0811\n",
      "Epoch 35/50\n",
      "71/71 - 0s - loss: 0.0996 - val_loss: 0.0837\n",
      "Epoch 36/50\n",
      "71/71 - 0s - loss: 0.0986 - val_loss: 0.0829\n",
      "Epoch 37/50\n",
      "71/71 - 0s - loss: 0.0976 - val_loss: 0.0796\n",
      "Epoch 38/50\n",
      "71/71 - 0s - loss: 0.0962 - val_loss: 0.0809\n",
      "Epoch 39/50\n",
      "71/71 - 0s - loss: 0.0949 - val_loss: 0.0814\n",
      "Epoch 40/50\n",
      "71/71 - 0s - loss: 0.0940 - val_loss: 0.0807\n",
      "Epoch 41/50\n",
      "71/71 - 0s - loss: 0.0930 - val_loss: 0.0789\n",
      "Epoch 42/50\n",
      "71/71 - 0s - loss: 0.0914 - val_loss: 0.0792\n",
      "Epoch 43/50\n",
      "71/71 - 0s - loss: 0.0913 - val_loss: 0.0781\n",
      "Epoch 44/50\n",
      "71/71 - 0s - loss: 0.0904 - val_loss: 0.0779\n",
      "Epoch 45/50\n",
      "71/71 - 0s - loss: 0.0896 - val_loss: 0.0782\n",
      "Epoch 46/50\n",
      "71/71 - 0s - loss: 0.0887 - val_loss: 0.0800\n",
      "Epoch 47/50\n",
      "71/71 - 0s - loss: 0.0872 - val_loss: 0.0775\n",
      "Epoch 48/50\n",
      "71/71 - 0s - loss: 0.0871 - val_loss: 0.0778\n",
      "Epoch 49/50\n",
      "71/71 - 0s - loss: 0.0855 - val_loss: 0.0799\n",
      "Epoch 50/50\n",
      "71/71 - 0s - loss: 0.0852 - val_loss: 0.0780\n",
      "CPU times: user 7.11 s, sys: 3.49 s, total: 10.6 s\n",
      "Wall time: 6.94 s\n"
     ]
    }
   ],
   "source": [
    "%%time\n",
    "ae.compile(optimizer='RMSProp', loss='mse')\n",
    "callbacks = [EarlyStopping(monitor='val_loss', patience=10, restore_best_weights=True)]\n",
    "history = ae.fit(vsbs_tr, vsbs_tr[vsb_in], validation_split=0.2, callbacks=callbacks,\n",
    "                 batch_size=32, epochs=50, verbose=2)"
   ]
  },
  {
   "cell_type": "markdown",
   "metadata": {
    "slideshow": {
     "slide_type": "subslide"
    }
   },
   "source": [
    "## Autoencoder Approach\n",
    "\n",
    "**Let's see the loss evolution over time**"
   ]
  },
  {
   "cell_type": "code",
   "execution_count": 35,
   "metadata": {
    "scrolled": false
   },
   "outputs": [
    {
     "data": {
      "application/vnd.jupyter.widget-view+json": {
       "model_id": "e5999041acd342189adc2e31f5423d1a",
       "version_major": 2,
       "version_minor": 0
      },
      "text/plain": [
       "Canvas(toolbar=Toolbar(toolitems=[('Home', 'Reset original view', 'home', 'home'), ('Back', 'Back to previous …"
      ]
     },
     "metadata": {},
     "output_type": "display_data"
    }
   ],
   "source": [
    "nn.plot_training_history(history, figsize=figsize)"
   ]
  },
  {
   "cell_type": "markdown",
   "metadata": {
    "slideshow": {
     "slide_type": "subslide"
    }
   },
   "source": [
    "## Autoencoder Approach\n",
    "\n",
    "**Then we obtain our predictions**"
   ]
  },
  {
   "cell_type": "code",
   "execution_count": 36,
   "metadata": {},
   "outputs": [
    {
     "name": "stdout",
     "output_type": "stream",
     "text": [
      "CPU times: user 263 ms, sys: 149 ms, total: 413 ms\n",
      "Wall time: 291 ms\n"
     ]
    }
   ],
   "source": [
    "%%time\n",
    "preds = ae.predict(vsbs)\n",
    "preds = pd.DataFrame(index=vsbs.index, columns=vsb_in, data=preds)"
   ]
  },
  {
   "cell_type": "markdown",
   "metadata": {},
   "source": [
    "...And we generate the alarm signal:"
   ]
  },
  {
   "cell_type": "code",
   "execution_count": 38,
   "metadata": {},
   "outputs": [],
   "source": [
    "se = np.square(preds - vsbs[vsb_in])\n",
    "sse = np.sum(se, axis=1)\n",
    "signal_ae = pd.Series(index=vsbs.index, data=sse)"
   ]
  },
  {
   "cell_type": "markdown",
   "metadata": {},
   "source": [
    "* We stored also the individual errors `se` for a later analysis"
   ]
  },
  {
   "cell_type": "markdown",
   "metadata": {
    "slideshow": {
     "slide_type": "subslide"
    }
   },
   "source": [
    "## Autoencoder Approach\n",
    "\n",
    "**We can now plot the alarm signal**"
   ]
  },
  {
   "cell_type": "code",
   "execution_count": 39,
   "metadata": {
    "scrolled": true
   },
   "outputs": [
    {
     "data": {
      "application/vnd.jupyter.widget-view+json": {
       "model_id": "023fa786368e46e38ace0e690e4c7988",
       "version_major": 2,
       "version_minor": 0
      },
      "text/plain": [
       "Canvas(toolbar=Toolbar(toolitems=[('Home', 'Reset original view', 'home', 'home'), ('Back', 'Back to previous …"
      ]
     },
     "metadata": {},
     "output_type": "display_data"
    }
   ],
   "source": [
    "nn.plot_signal(signal_ae, figsize=figsize)"
   ]
  },
  {
   "cell_type": "markdown",
   "metadata": {},
   "source": [
    "* Once again, the signal is difficult to read due to the peak"
   ]
  },
  {
   "cell_type": "markdown",
   "metadata": {
    "slideshow": {
     "slide_type": "subslide"
    }
   },
   "source": [
    "## Autoencoder Approach\n",
    "\n",
    "**Let's apply clipping and smoothing**"
   ]
  },
  {
   "cell_type": "code",
   "execution_count": 56,
   "metadata": {},
   "outputs": [
    {
     "data": {
      "application/vnd.jupyter.widget-view+json": {
       "model_id": "9ddfd20ba75846329f7adc89ea41111c",
       "version_major": 2,
       "version_minor": 0
      },
      "text/plain": [
       "Canvas(toolbar=Toolbar(toolitems=[('Home', 'Reset original view', 'home', 'home'), ('Back', 'Back to previous …"
      ]
     },
     "metadata": {},
     "output_type": "display_data"
    }
   ],
   "source": [
    "nn.plot_signal(signal_ae.clip(upper=10).ewm(512).mean(), figsize=figsize)"
   ]
  },
  {
   "cell_type": "markdown",
   "metadata": {},
   "source": [
    "* Again, a tendency to grow (weaker than before)\n",
    "* ...But this time _we can try  to explain the peak_!"
   ]
  },
  {
   "cell_type": "markdown",
   "metadata": {
    "slideshow": {
     "slide_type": "subslide"
    }
   },
   "source": [
    "## Mutiple Signal Analysis\n",
    "\n",
    "**Let's investigate the situation**"
   ]
  },
  {
   "cell_type": "code",
   "execution_count": 42,
   "metadata": {},
   "outputs": [
    {
     "data": {
      "application/vnd.jupyter.widget-view+json": {
       "model_id": "9505fe5f72c649b4bd3a35b839e69ba9",
       "version_major": 2,
       "version_minor": 0
      },
      "text/plain": [
       "Canvas(toolbar=Toolbar(toolitems=[('Home', 'Reset original view', 'home', 'home'), ('Back', 'Back to previous …"
      ]
     },
     "metadata": {},
     "output_type": "display_data"
    }
   ],
   "source": [
    "signals_ae = pd.DataFrame(index=vsbs.index, columns=vsb_in, data=se)\n",
    "nn.plot_dataframe(signals_ae, vmin=-1, vmax=1, figsize=figsize)"
   ]
  },
  {
   "cell_type": "markdown",
   "metadata": {},
   "source": [
    "* As expected, errors are concentrated on a few features"
   ]
  },
  {
   "cell_type": "markdown",
   "metadata": {
    "slideshow": {
     "slide_type": "subslide"
    }
   },
   "source": [
    "## Multiple Signal Analysis\n",
    "\n",
    "**Let's focus on the peak at mid run and check the largest errors**"
   ]
  },
  {
   "cell_type": "code",
   "execution_count": 43,
   "metadata": {},
   "outputs": [
    {
     "data": {
      "application/vnd.jupyter.widget-view+json": {
       "model_id": "7b57812d7eb448939599ce9edd004739",
       "version_major": 2,
       "version_minor": 0
      },
      "text/plain": [
       "Canvas(toolbar=Toolbar(toolitems=[('Home', 'Reset original view', 'home', 'home'), ('Back', 'Back to previous …"
      ]
     },
     "metadata": {},
     "output_type": "display_data"
    }
   ],
   "source": [
    "tmp = se.iloc[3500:4000].mean().sort_values(ascending=False)[:10]\n",
    "nn.plot_bars(tmp, figsize=figsize, tick_gap=-1)"
   ]
  },
  {
   "cell_type": "code",
   "execution_count": 45,
   "metadata": {},
   "outputs": [
    {
     "name": "stdout",
     "output_type": "stream",
     "text": [
      "The largest error is on pSvolFilm::CTRL_Position_controller::Actual_position::<lambda_0>\n"
     ]
    }
   ],
   "source": [
    "print(f'The largest error is on {tmp.index[0]}')"
   ]
  },
  {
   "cell_type": "markdown",
   "metadata": {
    "slideshow": {
     "slide_type": "subslide"
    }
   },
   "source": [
    "## Multiple Signal Analysis\n",
    "\n",
    "**Let's what was going on with the original series**"
   ]
  },
  {
   "cell_type": "code",
   "execution_count": 47,
   "metadata": {},
   "outputs": [
    {
     "data": {
      "application/vnd.jupyter.widget-view+json": {
       "model_id": "9193d9121588481ebb99b89445c43429",
       "version_major": 2,
       "version_minor": 0
      },
      "text/plain": [
       "Canvas(toolbar=Toolbar(toolitems=[('Home', 'Reset original view', 'home', 'home'), ('Back', 'Back to previous …"
      ]
     },
     "metadata": {},
     "output_type": "display_data"
    }
   ],
   "source": [
    "nn.plot_series(vs['pCut::CTRL_Position_controller::Actual_position'], figsize=figsize)"
   ]
  },
  {
   "cell_type": "markdown",
   "metadata": {},
   "source": [
    "* Indeed, _there is an unusual oscillation_! A domain expert may make sense of that"
   ]
  },
  {
   "cell_type": "markdown",
   "metadata": {
    "slideshow": {
     "slide_type": "slide"
    }
   },
   "source": [
    "# RNVP Approach"
   ]
  },
  {
   "cell_type": "markdown",
   "metadata": {
    "slideshow": {
     "slide_type": "subslide"
    }
   },
   "source": [
    "## RNVP Approach\n",
    "\n",
    "**Let's make an attempt with Real NVP**"
   ]
  },
  {
   "cell_type": "code",
   "execution_count": 48,
   "metadata": {
    "scrolled": true
   },
   "outputs": [
    {
     "name": "stdout",
     "output_type": "stream",
     "text": [
      "Epoch 1/300\n",
      "12/12 [==============================] - 0s 6ms/step - loss: 219.0808\n",
      "Epoch 2/300\n",
      "12/12 [==============================] - 0s 5ms/step - loss: 102.5352\n",
      "Epoch 3/300\n",
      "12/12 [==============================] - 0s 6ms/step - loss: 77.7634\n",
      "Epoch 4/300\n",
      "12/12 [==============================] - 0s 6ms/step - loss: 68.9585\n",
      "Epoch 5/300\n",
      "12/12 [==============================] - 0s 6ms/step - loss: 66.0839\n",
      "Epoch 6/300\n",
      "12/12 [==============================] - 0s 6ms/step - loss: 63.3582\n",
      "Epoch 7/300\n",
      "12/12 [==============================] - 0s 6ms/step - loss: 61.7042\n",
      "Epoch 8/300\n",
      "12/12 [==============================] - 0s 6ms/step - loss: 59.6041\n",
      "Epoch 9/300\n",
      "12/12 [==============================] - 0s 6ms/step - loss: 58.0961\n",
      "Epoch 10/300\n",
      "12/12 [==============================] - 0s 6ms/step - loss: 56.0438\n",
      "Epoch 11/300\n",
      "12/12 [==============================] - 0s 6ms/step - loss: 54.8829\n",
      "Epoch 12/300\n",
      "12/12 [==============================] - 0s 6ms/step - loss: 53.0074\n",
      "Epoch 13/300\n",
      "12/12 [==============================] - 0s 6ms/step - loss: 51.5139\n",
      "Epoch 14/300\n",
      "12/12 [==============================] - 0s 6ms/step - loss: 49.4959\n",
      "Epoch 15/300\n",
      "12/12 [==============================] - 0s 6ms/step - loss: 48.4653\n",
      "Epoch 16/300\n",
      "12/12 [==============================] - 0s 6ms/step - loss: 46.9011\n",
      "Epoch 17/300\n",
      "12/12 [==============================] - 0s 6ms/step - loss: 45.1730\n",
      "Epoch 18/300\n",
      "12/12 [==============================] - 0s 6ms/step - loss: 44.0730\n",
      "Epoch 19/300\n",
      "12/12 [==============================] - 0s 6ms/step - loss: 42.2174\n",
      "Epoch 20/300\n",
      "12/12 [==============================] - 0s 5ms/step - loss: 41.3083\n",
      "Epoch 21/300\n",
      "12/12 [==============================] - 0s 6ms/step - loss: 39.7833\n",
      "Epoch 22/300\n",
      "12/12 [==============================] - 0s 6ms/step - loss: 38.0073\n",
      "Epoch 23/300\n",
      "12/12 [==============================] - 0s 5ms/step - loss: 36.6685\n",
      "Epoch 24/300\n",
      "12/12 [==============================] - 0s 6ms/step - loss: 36.4102\n",
      "Epoch 25/300\n",
      "12/12 [==============================] - 0s 6ms/step - loss: 34.7182\n",
      "Epoch 26/300\n",
      "12/12 [==============================] - 0s 6ms/step - loss: 33.0557\n",
      "Epoch 27/300\n",
      "12/12 [==============================] - 0s 6ms/step - loss: 32.0614\n",
      "Epoch 28/300\n",
      "12/12 [==============================] - 0s 6ms/step - loss: 30.6622\n",
      "Epoch 29/300\n",
      "12/12 [==============================] - 0s 5ms/step - loss: 30.8519\n",
      "Epoch 30/300\n",
      "12/12 [==============================] - 0s 6ms/step - loss: 28.4374\n",
      "Epoch 31/300\n",
      "12/12 [==============================] - 0s 5ms/step - loss: 26.7517\n",
      "Epoch 32/300\n",
      "12/12 [==============================] - 0s 6ms/step - loss: 25.9339\n",
      "Epoch 33/300\n",
      "12/12 [==============================] - 0s 6ms/step - loss: 25.8942\n",
      "Epoch 34/300\n",
      "12/12 [==============================] - 0s 6ms/step - loss: 24.5311\n",
      "Epoch 35/300\n",
      "12/12 [==============================] - 0s 6ms/step - loss: 23.5868\n",
      "Epoch 36/300\n",
      "12/12 [==============================] - 0s 5ms/step - loss: 21.6661\n",
      "Epoch 37/300\n",
      "12/12 [==============================] - 0s 6ms/step - loss: 21.5126\n",
      "Epoch 38/300\n",
      "12/12 [==============================] - 0s 6ms/step - loss: 20.6197\n",
      "Epoch 39/300\n",
      "12/12 [==============================] - 0s 6ms/step - loss: 19.0592\n",
      "Epoch 40/300\n",
      "12/12 [==============================] - 0s 6ms/step - loss: 18.5783\n",
      "Epoch 41/300\n",
      "12/12 [==============================] - 0s 6ms/step - loss: 17.2298\n",
      "Epoch 42/300\n",
      "12/12 [==============================] - 0s 7ms/step - loss: 17.1351\n",
      "Epoch 43/300\n",
      "12/12 [==============================] - 0s 6ms/step - loss: 15.8378\n",
      "Epoch 44/300\n",
      "12/12 [==============================] - 0s 5ms/step - loss: 14.2928\n",
      "Epoch 45/300\n",
      "12/12 [==============================] - 0s 5ms/step - loss: 14.3107\n",
      "Epoch 46/300\n",
      "12/12 [==============================] - 0s 6ms/step - loss: 13.0894\n",
      "Epoch 47/300\n",
      "12/12 [==============================] - 0s 6ms/step - loss: 12.8905\n",
      "Epoch 48/300\n",
      "12/12 [==============================] - 0s 6ms/step - loss: 11.5461\n",
      "Epoch 49/300\n",
      "12/12 [==============================] - 0s 6ms/step - loss: 11.1805\n",
      "Epoch 50/300\n",
      "12/12 [==============================] - 0s 5ms/step - loss: 10.3422\n",
      "Epoch 51/300\n",
      "12/12 [==============================] - 0s 6ms/step - loss: 9.5980\n",
      "Epoch 52/300\n",
      "12/12 [==============================] - 0s 6ms/step - loss: 9.0789\n",
      "Epoch 53/300\n",
      "12/12 [==============================] - 0s 5ms/step - loss: 7.3922\n",
      "Epoch 54/300\n",
      "12/12 [==============================] - 0s 6ms/step - loss: 7.2703\n",
      "Epoch 55/300\n",
      "12/12 [==============================] - 0s 5ms/step - loss: 6.2726\n",
      "Epoch 56/300\n",
      "12/12 [==============================] - 0s 6ms/step - loss: 5.9323\n",
      "Epoch 57/300\n",
      "12/12 [==============================] - 0s 5ms/step - loss: 6.8783\n",
      "Epoch 58/300\n",
      "12/12 [==============================] - 0s 6ms/step - loss: 5.1018\n",
      "Epoch 59/300\n",
      "12/12 [==============================] - 0s 6ms/step - loss: 4.8963\n",
      "Epoch 60/300\n",
      "12/12 [==============================] - 0s 5ms/step - loss: 4.6755\n",
      "Epoch 61/300\n",
      "12/12 [==============================] - 0s 6ms/step - loss: 3.6234\n",
      "Epoch 62/300\n",
      "12/12 [==============================] - 0s 5ms/step - loss: 3.1792\n",
      "Epoch 63/300\n",
      "12/12 [==============================] - 0s 5ms/step - loss: 3.4293\n",
      "Epoch 64/300\n",
      "12/12 [==============================] - 0s 5ms/step - loss: 2.6820\n",
      "Epoch 65/300\n",
      "12/12 [==============================] - 0s 6ms/step - loss: 3.0232\n",
      "Epoch 66/300\n",
      "12/12 [==============================] - 0s 5ms/step - loss: 1.4771\n",
      "Epoch 67/300\n",
      "12/12 [==============================] - 0s 6ms/step - loss: 1.6644\n",
      "Epoch 68/300\n",
      "12/12 [==============================] - 0s 6ms/step - loss: 1.2278\n",
      "Epoch 69/300\n",
      "12/12 [==============================] - 0s 6ms/step - loss: -0.6657\n",
      "Epoch 70/300\n",
      "12/12 [==============================] - 0s 5ms/step - loss: -0.0771\n",
      "Epoch 71/300\n",
      "12/12 [==============================] - 0s 6ms/step - loss: -1.1926\n",
      "Epoch 72/300\n",
      "12/12 [==============================] - 0s 6ms/step - loss: -1.1881\n",
      "Epoch 73/300\n",
      "12/12 [==============================] - 0s 5ms/step - loss: -2.1953\n",
      "Epoch 74/300\n",
      "12/12 [==============================] - 0s 6ms/step - loss: -2.2644\n",
      "Epoch 75/300\n",
      "12/12 [==============================] - 0s 6ms/step - loss: -2.7564\n",
      "Epoch 76/300\n",
      "12/12 [==============================] - 0s 5ms/step - loss: -1.8401\n",
      "Epoch 77/300\n",
      "12/12 [==============================] - 0s 6ms/step - loss: -3.0556\n",
      "Epoch 78/300\n",
      "12/12 [==============================] - 0s 6ms/step - loss: -3.7993\n",
      "Epoch 79/300\n",
      "12/12 [==============================] - 0s 6ms/step - loss: -3.4182\n",
      "Epoch 80/300\n",
      "12/12 [==============================] - 0s 5ms/step - loss: -3.1349\n",
      "Epoch 81/300\n",
      "12/12 [==============================] - 0s 6ms/step - loss: -4.9013\n",
      "Epoch 82/300\n",
      "12/12 [==============================] - 0s 6ms/step - loss: -4.8442\n",
      "Epoch 83/300\n",
      "12/12 [==============================] - 0s 6ms/step - loss: -5.9123\n",
      "Epoch 84/300\n",
      "12/12 [==============================] - 0s 6ms/step - loss: -5.8474\n",
      "Epoch 85/300\n",
      "12/12 [==============================] - 0s 5ms/step - loss: -6.4380\n",
      "Epoch 86/300\n",
      "12/12 [==============================] - 0s 6ms/step - loss: -6.6160\n",
      "Epoch 87/300\n",
      "12/12 [==============================] - 0s 5ms/step - loss: -7.4917\n",
      "Epoch 88/300\n",
      "12/12 [==============================] - 0s 5ms/step - loss: -6.7260\n",
      "Epoch 89/300\n",
      "12/12 [==============================] - 0s 5ms/step - loss: -7.5400\n",
      "Epoch 90/300\n",
      "12/12 [==============================] - 0s 6ms/step - loss: -8.0798\n",
      "Epoch 91/300\n",
      "12/12 [==============================] - 0s 5ms/step - loss: -7.1802\n",
      "Epoch 92/300\n",
      "12/12 [==============================] - 0s 5ms/step - loss: -7.6470\n",
      "Epoch 93/300\n",
      "12/12 [==============================] - 0s 6ms/step - loss: -8.8107\n",
      "Epoch 94/300\n",
      "12/12 [==============================] - 0s 6ms/step - loss: -9.3837\n",
      "Epoch 95/300\n",
      "12/12 [==============================] - 0s 5ms/step - loss: -8.8574\n",
      "Epoch 96/300\n",
      "12/12 [==============================] - 0s 5ms/step - loss: -9.1089\n",
      "Epoch 97/300\n",
      "12/12 [==============================] - 0s 6ms/step - loss: -9.6635\n",
      "Epoch 98/300\n",
      "12/12 [==============================] - 0s 6ms/step - loss: -10.4566\n",
      "Epoch 99/300\n",
      "12/12 [==============================] - 0s 5ms/step - loss: -9.5484\n",
      "Epoch 100/300\n",
      "12/12 [==============================] - 0s 5ms/step - loss: -10.1051\n",
      "Epoch 101/300\n",
      "12/12 [==============================] - 0s 5ms/step - loss: -9.9481\n",
      "Epoch 102/300\n",
      "12/12 [==============================] - 0s 6ms/step - loss: -10.5164\n",
      "Epoch 103/300\n",
      "12/12 [==============================] - 0s 5ms/step - loss: -11.1741\n",
      "Epoch 104/300\n",
      "12/12 [==============================] - 0s 5ms/step - loss: -11.0538\n",
      "Epoch 105/300\n",
      "12/12 [==============================] - 0s 5ms/step - loss: -11.2741\n",
      "Epoch 106/300\n",
      "12/12 [==============================] - 0s 5ms/step - loss: -12.1662\n",
      "Epoch 107/300\n",
      "12/12 [==============================] - 0s 5ms/step - loss: -12.7626\n",
      "Epoch 108/300\n",
      "12/12 [==============================] - 0s 5ms/step - loss: -13.3599\n",
      "Epoch 109/300\n",
      "12/12 [==============================] - 0s 5ms/step - loss: -13.5170\n",
      "Epoch 110/300\n",
      "12/12 [==============================] - 0s 5ms/step - loss: -13.6442\n",
      "Epoch 111/300\n",
      "12/12 [==============================] - 0s 5ms/step - loss: -12.4917\n",
      "Epoch 112/300\n",
      "12/12 [==============================] - 0s 5ms/step - loss: -12.5180\n",
      "Epoch 113/300\n",
      "12/12 [==============================] - 0s 5ms/step - loss: -12.8183\n",
      "Epoch 114/300\n",
      "12/12 [==============================] - 0s 5ms/step - loss: -13.1459\n",
      "Epoch 115/300\n",
      "12/12 [==============================] - 0s 4ms/step - loss: -13.4275\n",
      "Epoch 116/300\n",
      "12/12 [==============================] - 0s 6ms/step - loss: -14.5674\n",
      "Epoch 117/300\n",
      "12/12 [==============================] - 0s 5ms/step - loss: -14.2125\n",
      "Epoch 118/300\n",
      "12/12 [==============================] - 0s 5ms/step - loss: -15.0486\n",
      "Epoch 119/300\n",
      "12/12 [==============================] - 0s 5ms/step - loss: -14.9357\n",
      "Epoch 120/300\n",
      "12/12 [==============================] - 0s 6ms/step - loss: -15.1186\n",
      "Epoch 121/300\n",
      "12/12 [==============================] - 0s 5ms/step - loss: -14.5618\n",
      "Epoch 122/300\n",
      "12/12 [==============================] - 0s 6ms/step - loss: -15.8116\n",
      "Epoch 123/300\n",
      "12/12 [==============================] - 0s 6ms/step - loss: -16.4995\n",
      "Epoch 124/300\n",
      "12/12 [==============================] - 0s 5ms/step - loss: -15.0127\n",
      "Epoch 125/300\n",
      "12/12 [==============================] - 0s 6ms/step - loss: -16.0360\n",
      "Epoch 126/300\n",
      "12/12 [==============================] - 0s 5ms/step - loss: -15.8846\n",
      "Epoch 127/300\n",
      "12/12 [==============================] - 0s 6ms/step - loss: -17.0661\n",
      "Epoch 128/300\n",
      "12/12 [==============================] - 0s 6ms/step - loss: -17.2013\n",
      "Epoch 129/300\n",
      "12/12 [==============================] - 0s 6ms/step - loss: -17.3317\n",
      "Epoch 130/300\n",
      "12/12 [==============================] - 0s 5ms/step - loss: -14.6197\n",
      "Epoch 131/300\n",
      "12/12 [==============================] - 0s 5ms/step - loss: -15.3839\n",
      "Epoch 132/300\n",
      "12/12 [==============================] - 0s 5ms/step - loss: -17.6289\n",
      "Epoch 133/300\n",
      "12/12 [==============================] - 0s 5ms/step - loss: -17.1079\n",
      "Epoch 134/300\n",
      "12/12 [==============================] - 0s 6ms/step - loss: -17.5051\n",
      "Epoch 135/300\n",
      "12/12 [==============================] - 0s 5ms/step - loss: -17.3079\n",
      "Epoch 136/300\n",
      "12/12 [==============================] - 0s 6ms/step - loss: -18.0315\n",
      "Epoch 137/300\n",
      "12/12 [==============================] - 0s 6ms/step - loss: -18.3939\n",
      "Epoch 138/300\n",
      "12/12 [==============================] - 0s 5ms/step - loss: -19.1197\n",
      "Epoch 139/300\n",
      "12/12 [==============================] - 0s 5ms/step - loss: -19.4268\n",
      "Epoch 140/300\n",
      "12/12 [==============================] - 0s 5ms/step - loss: -19.1550\n",
      "Epoch 141/300\n",
      "12/12 [==============================] - 0s 5ms/step - loss: -19.4506\n",
      "Epoch 142/300\n",
      "12/12 [==============================] - 0s 6ms/step - loss: -18.4763\n",
      "Epoch 143/300\n",
      "12/12 [==============================] - 0s 5ms/step - loss: -19.0793\n",
      "Epoch 144/300\n",
      "12/12 [==============================] - 0s 6ms/step - loss: -19.5101\n",
      "Epoch 145/300\n",
      "12/12 [==============================] - 0s 5ms/step - loss: -19.7879\n",
      "Epoch 146/300\n",
      "12/12 [==============================] - 0s 5ms/step - loss: -18.8700\n",
      "Epoch 147/300\n",
      "12/12 [==============================] - 0s 6ms/step - loss: -19.6665\n",
      "Epoch 148/300\n",
      "12/12 [==============================] - 0s 6ms/step - loss: -20.2469\n",
      "Epoch 149/300\n",
      "12/12 [==============================] - 0s 6ms/step - loss: -21.1253\n",
      "Epoch 150/300\n",
      "12/12 [==============================] - 0s 5ms/step - loss: -20.1028\n",
      "Epoch 151/300\n",
      "12/12 [==============================] - 0s 5ms/step - loss: -20.1170\n",
      "Epoch 152/300\n",
      "12/12 [==============================] - 0s 5ms/step - loss: -21.4135\n",
      "Epoch 153/300\n",
      "12/12 [==============================] - 0s 6ms/step - loss: -21.1128\n",
      "Epoch 154/300\n",
      "12/12 [==============================] - 0s 5ms/step - loss: -21.3679\n",
      "Epoch 155/300\n",
      "12/12 [==============================] - 0s 6ms/step - loss: -21.6237\n",
      "Epoch 156/300\n",
      "12/12 [==============================] - 0s 7ms/step - loss: -21.6824\n",
      "Epoch 157/300\n",
      "12/12 [==============================] - 0s 6ms/step - loss: -21.9478\n",
      "Epoch 158/300\n",
      "12/12 [==============================] - 0s 6ms/step - loss: -22.5938\n",
      "Epoch 159/300\n",
      "12/12 [==============================] - 0s 6ms/step - loss: -21.5247\n",
      "Epoch 160/300\n",
      "12/12 [==============================] - 0s 6ms/step - loss: -21.9027\n",
      "Epoch 161/300\n",
      "12/12 [==============================] - 0s 5ms/step - loss: -21.5008\n",
      "Epoch 162/300\n",
      "12/12 [==============================] - 0s 5ms/step - loss: -21.5450\n",
      "Epoch 163/300\n",
      "12/12 [==============================] - 0s 6ms/step - loss: -22.7133\n",
      "Epoch 164/300\n",
      "12/12 [==============================] - 0s 5ms/step - loss: -22.2807\n",
      "Epoch 165/300\n",
      "12/12 [==============================] - 0s 6ms/step - loss: -23.3369\n",
      "Epoch 166/300\n",
      "12/12 [==============================] - 0s 5ms/step - loss: -22.2364\n",
      "Epoch 167/300\n",
      "12/12 [==============================] - 0s 5ms/step - loss: -22.7833\n",
      "Epoch 168/300\n",
      "12/12 [==============================] - 0s 5ms/step - loss: -23.3356\n",
      "Epoch 169/300\n",
      "12/12 [==============================] - 0s 5ms/step - loss: -23.7397\n",
      "Epoch 170/300\n",
      "12/12 [==============================] - 0s 5ms/step - loss: -23.8302\n",
      "Epoch 171/300\n",
      "12/12 [==============================] - 0s 5ms/step - loss: -22.7387\n",
      "Epoch 172/300\n",
      "12/12 [==============================] - 0s 5ms/step - loss: -23.2083\n",
      "Epoch 173/300\n",
      "12/12 [==============================] - 0s 5ms/step - loss: -23.6722\n",
      "Epoch 174/300\n",
      "12/12 [==============================] - 0s 5ms/step - loss: -24.4671\n",
      "Epoch 175/300\n",
      "12/12 [==============================] - 0s 5ms/step - loss: -24.2075\n",
      "Epoch 176/300\n",
      "12/12 [==============================] - 0s 5ms/step - loss: -23.5264\n",
      "Epoch 177/300\n",
      "12/12 [==============================] - 0s 5ms/step - loss: -23.6589\n",
      "Epoch 178/300\n",
      "12/12 [==============================] - 0s 5ms/step - loss: -22.8957\n",
      "Epoch 179/300\n",
      "12/12 [==============================] - 0s 5ms/step - loss: -24.2849\n",
      "Epoch 180/300\n",
      "12/12 [==============================] - 0s 5ms/step - loss: -23.7460\n",
      "Epoch 181/300\n",
      "12/12 [==============================] - 0s 6ms/step - loss: -24.5254\n",
      "Epoch 182/300\n",
      "12/12 [==============================] - 0s 5ms/step - loss: -25.4004\n",
      "Epoch 183/300\n",
      "12/12 [==============================] - 0s 5ms/step - loss: -25.4806\n",
      "Epoch 184/300\n",
      "12/12 [==============================] - 0s 5ms/step - loss: -25.1498\n",
      "Epoch 185/300\n",
      "12/12 [==============================] - 0s 5ms/step - loss: -24.4989\n",
      "Epoch 186/300\n",
      "12/12 [==============================] - 0s 5ms/step - loss: -25.5472\n",
      "Epoch 187/300\n",
      "12/12 [==============================] - 0s 5ms/step - loss: -23.8039\n",
      "Epoch 188/300\n",
      "12/12 [==============================] - 0s 6ms/step - loss: -24.5722\n",
      "Epoch 189/300\n",
      "12/12 [==============================] - 0s 6ms/step - loss: -25.9971\n",
      "Epoch 190/300\n",
      "12/12 [==============================] - 0s 5ms/step - loss: -25.7359\n",
      "Epoch 191/300\n",
      "12/12 [==============================] - 0s 6ms/step - loss: -26.7237\n",
      "Epoch 192/300\n",
      "12/12 [==============================] - 0s 5ms/step - loss: -26.2259\n",
      "Epoch 193/300\n",
      "12/12 [==============================] - 0s 5ms/step - loss: -25.9594\n",
      "Epoch 194/300\n",
      "12/12 [==============================] - 0s 5ms/step - loss: -26.0848\n",
      "Epoch 195/300\n",
      "12/12 [==============================] - 0s 6ms/step - loss: -25.5031\n",
      "Epoch 196/300\n",
      "12/12 [==============================] - 0s 5ms/step - loss: -26.7001\n",
      "Epoch 197/300\n",
      "12/12 [==============================] - 0s 5ms/step - loss: -25.9709\n",
      "Epoch 198/300\n"
     ]
    },
    {
     "name": "stdout",
     "output_type": "stream",
     "text": [
      "12/12 [==============================] - 0s 5ms/step - loss: -25.7198\n",
      "Epoch 199/300\n",
      "12/12 [==============================] - 0s 6ms/step - loss: -25.6144\n",
      "Epoch 200/300\n",
      "12/12 [==============================] - 0s 6ms/step - loss: -26.6355\n",
      "Epoch 201/300\n",
      "12/12 [==============================] - 0s 5ms/step - loss: -27.3193\n",
      "Epoch 202/300\n",
      "12/12 [==============================] - 0s 6ms/step - loss: -26.1383\n",
      "Epoch 203/300\n",
      "12/12 [==============================] - 0s 5ms/step - loss: -26.8192\n",
      "Epoch 204/300\n",
      "12/12 [==============================] - 0s 5ms/step - loss: -27.0570\n",
      "Epoch 205/300\n",
      "12/12 [==============================] - 0s 6ms/step - loss: -27.6914\n",
      "Epoch 206/300\n",
      "12/12 [==============================] - 0s 6ms/step - loss: -27.8962\n",
      "Epoch 207/300\n",
      "12/12 [==============================] - 0s 6ms/step - loss: -27.4468\n",
      "Epoch 208/300\n",
      "12/12 [==============================] - 0s 5ms/step - loss: -27.9031\n",
      "Epoch 209/300\n",
      "12/12 [==============================] - 0s 5ms/step - loss: -28.0876\n",
      "Epoch 210/300\n",
      "12/12 [==============================] - 0s 6ms/step - loss: -28.3663\n",
      "Epoch 211/300\n",
      "12/12 [==============================] - 0s 5ms/step - loss: -28.0583\n",
      "Epoch 212/300\n",
      "12/12 [==============================] - 0s 5ms/step - loss: -27.4393\n",
      "Epoch 213/300\n",
      "12/12 [==============================] - 0s 5ms/step - loss: -27.6940\n",
      "Epoch 214/300\n",
      "12/12 [==============================] - 0s 5ms/step - loss: -27.5231\n",
      "Epoch 215/300\n",
      "12/12 [==============================] - 0s 5ms/step - loss: -28.4839\n",
      "Epoch 216/300\n",
      "12/12 [==============================] - 0s 6ms/step - loss: -28.5797\n",
      "Epoch 217/300\n",
      "12/12 [==============================] - 0s 5ms/step - loss: -28.4658\n",
      "Epoch 218/300\n",
      "12/12 [==============================] - 0s 5ms/step - loss: -28.8313\n",
      "Epoch 219/300\n",
      "12/12 [==============================] - 0s 5ms/step - loss: -27.8441\n",
      "Epoch 220/300\n",
      "12/12 [==============================] - 0s 5ms/step - loss: -29.4062\n",
      "Epoch 221/300\n",
      "12/12 [==============================] - 0s 5ms/step - loss: -29.3652\n",
      "Epoch 222/300\n",
      "12/12 [==============================] - 0s 5ms/step - loss: -27.4334\n",
      "Epoch 223/300\n",
      "12/12 [==============================] - 0s 5ms/step - loss: -29.0243\n",
      "Epoch 224/300\n",
      "12/12 [==============================] - 0s 6ms/step - loss: -29.7372\n",
      "Epoch 225/300\n",
      "12/12 [==============================] - 0s 5ms/step - loss: -30.5141\n",
      "Epoch 226/300\n",
      "12/12 [==============================] - 0s 5ms/step - loss: -29.1853\n",
      "Epoch 227/300\n",
      "12/12 [==============================] - 0s 5ms/step - loss: -29.7966\n",
      "Epoch 228/300\n",
      "12/12 [==============================] - 0s 5ms/step - loss: -29.5430\n",
      "Epoch 229/300\n",
      "12/12 [==============================] - 0s 5ms/step - loss: -30.2639\n",
      "Epoch 230/300\n",
      "12/12 [==============================] - 0s 5ms/step - loss: -29.9842\n",
      "Epoch 231/300\n",
      "12/12 [==============================] - 0s 5ms/step - loss: -29.6679\n",
      "Epoch 232/300\n",
      "12/12 [==============================] - 0s 5ms/step - loss: -29.7848\n",
      "Epoch 233/300\n",
      "12/12 [==============================] - 0s 6ms/step - loss: -29.8844\n",
      "Epoch 234/300\n",
      "12/12 [==============================] - 0s 5ms/step - loss: -30.2578\n",
      "Epoch 235/300\n",
      "12/12 [==============================] - 0s 6ms/step - loss: -31.0094\n",
      "Epoch 236/300\n",
      "12/12 [==============================] - 0s 6ms/step - loss: -29.1937\n",
      "Epoch 237/300\n",
      "12/12 [==============================] - 0s 5ms/step - loss: -30.8694\n",
      "Epoch 238/300\n",
      "12/12 [==============================] - 0s 5ms/step - loss: -30.9188\n",
      "Epoch 239/300\n",
      "12/12 [==============================] - 0s 5ms/step - loss: -30.9629\n",
      "Epoch 240/300\n",
      "12/12 [==============================] - 0s 6ms/step - loss: -29.8423\n",
      "Epoch 241/300\n",
      "12/12 [==============================] - 0s 5ms/step - loss: -29.5905\n",
      "Epoch 242/300\n",
      "12/12 [==============================] - 0s 5ms/step - loss: -30.4062\n",
      "Epoch 243/300\n",
      "12/12 [==============================] - 0s 6ms/step - loss: -30.7550\n",
      "Epoch 244/300\n",
      "12/12 [==============================] - 0s 6ms/step - loss: -29.8590\n",
      "Epoch 245/300\n",
      "12/12 [==============================] - 0s 6ms/step - loss: -31.2054\n",
      "Epoch 246/300\n",
      "12/12 [==============================] - 0s 5ms/step - loss: -31.8048\n",
      "Epoch 247/300\n",
      "12/12 [==============================] - 0s 5ms/step - loss: -31.3555\n",
      "Epoch 248/300\n",
      "12/12 [==============================] - 0s 5ms/step - loss: -31.4482\n",
      "Epoch 249/300\n",
      "12/12 [==============================] - 0s 6ms/step - loss: -30.5384\n",
      "Epoch 250/300\n",
      "12/12 [==============================] - 0s 5ms/step - loss: -30.5490\n",
      "Epoch 251/300\n",
      "12/12 [==============================] - 0s 5ms/step - loss: -31.3692\n",
      "Epoch 252/300\n",
      "12/12 [==============================] - 0s 5ms/step - loss: -31.8777\n",
      "Epoch 253/300\n",
      "12/12 [==============================] - 0s 5ms/step - loss: -30.7694\n",
      "Epoch 254/300\n",
      "12/12 [==============================] - 0s 5ms/step - loss: -31.2033\n",
      "Epoch 255/300\n",
      "12/12 [==============================] - 0s 5ms/step - loss: -31.5460\n",
      "Epoch 256/300\n",
      "12/12 [==============================] - 0s 5ms/step - loss: -32.1309\n",
      "Epoch 257/300\n",
      "12/12 [==============================] - 0s 5ms/step - loss: -32.0064\n",
      "Epoch 258/300\n",
      "12/12 [==============================] - 0s 5ms/step - loss: -32.1634\n",
      "Epoch 259/300\n",
      "12/12 [==============================] - 0s 5ms/step - loss: -32.1305\n",
      "Epoch 260/300\n",
      "12/12 [==============================] - 0s 5ms/step - loss: -31.9676\n",
      "Epoch 261/300\n",
      "12/12 [==============================] - 0s 5ms/step - loss: -30.4474\n",
      "Epoch 262/300\n",
      "12/12 [==============================] - 0s 5ms/step - loss: -31.2196\n",
      "Epoch 263/300\n",
      "12/12 [==============================] - 0s 5ms/step - loss: -31.0847\n",
      "Epoch 264/300\n",
      "12/12 [==============================] - 0s 5ms/step - loss: -32.1904\n",
      "Epoch 265/300\n",
      "12/12 [==============================] - 0s 6ms/step - loss: -32.5800\n",
      "Epoch 266/300\n",
      "12/12 [==============================] - 0s 5ms/step - loss: -31.7843\n",
      "Epoch 267/300\n",
      "12/12 [==============================] - 0s 5ms/step - loss: -33.3227\n",
      "Epoch 268/300\n",
      "12/12 [==============================] - 0s 4ms/step - loss: -32.4812\n",
      "Epoch 269/300\n",
      "12/12 [==============================] - 0s 5ms/step - loss: -32.0458\n",
      "Epoch 270/300\n",
      "12/12 [==============================] - 0s 4ms/step - loss: -32.9339\n",
      "Epoch 271/300\n",
      "12/12 [==============================] - 0s 5ms/step - loss: -33.1137\n",
      "Epoch 272/300\n",
      "12/12 [==============================] - 0s 5ms/step - loss: -33.3948\n",
      "Epoch 273/300\n",
      "12/12 [==============================] - 0s 5ms/step - loss: -32.7493\n",
      "Epoch 274/300\n",
      "12/12 [==============================] - 0s 5ms/step - loss: -32.9273\n",
      "Epoch 275/300\n",
      "12/12 [==============================] - 0s 5ms/step - loss: -32.6537\n",
      "Epoch 276/300\n",
      "12/12 [==============================] - 0s 5ms/step - loss: -32.5623\n",
      "Epoch 277/300\n",
      "12/12 [==============================] - 0s 5ms/step - loss: -32.7944\n",
      "Epoch 278/300\n",
      "12/12 [==============================] - 0s 5ms/step - loss: -33.7117\n",
      "Epoch 279/300\n",
      "12/12 [==============================] - 0s 5ms/step - loss: -34.1888\n",
      "Epoch 280/300\n",
      "12/12 [==============================] - 0s 4ms/step - loss: -34.1866\n",
      "Epoch 281/300\n",
      "12/12 [==============================] - 0s 5ms/step - loss: -33.4507\n",
      "Epoch 282/300\n",
      "12/12 [==============================] - 0s 5ms/step - loss: -34.0455\n",
      "Epoch 283/300\n",
      "12/12 [==============================] - 0s 5ms/step - loss: -34.0485\n",
      "Epoch 284/300\n",
      "12/12 [==============================] - 0s 5ms/step - loss: -33.0008\n",
      "Epoch 285/300\n",
      "12/12 [==============================] - 0s 5ms/step - loss: -33.8371\n",
      "Epoch 286/300\n",
      "12/12 [==============================] - 0s 5ms/step - loss: -33.0916\n",
      "Epoch 287/300\n",
      "12/12 [==============================] - 0s 5ms/step - loss: -33.7740\n",
      "Epoch 288/300\n",
      "12/12 [==============================] - 0s 5ms/step - loss: -33.8456\n",
      "Epoch 289/300\n",
      "12/12 [==============================] - 0s 6ms/step - loss: -33.8258\n",
      "CPU times: user 42.6 s, sys: 16.5 s, total: 59 s\n",
      "Wall time: 23.5 s\n"
     ]
    }
   ],
   "source": [
    "%%time\n",
    "vs_rnvp = nn.RealNVP(input_shape=vsbs.shape[1],\n",
    "                num_coupling=6, units_coupling=32, depth_coupling=1, reg_coupling=0.01)\n",
    "vs_rnvp.compile(optimizer='Adam')\n",
    "X = vsbs_tr.astype(np.float32).values\n",
    "cb = [EarlyStopping(monitor='loss', patience=10, min_delta=0.001, restore_best_weights=True)]\n",
    "history = vs_rnvp.fit(X, batch_size=256, epochs=300, verbose=1, callbacks=cb)"
   ]
  },
  {
   "cell_type": "markdown",
   "metadata": {
    "slideshow": {
     "slide_type": "subslide"
    }
   },
   "source": [
    "## RNVP Approach\n",
    "\n",
    "**Let's have a look at the loss evolution over time**"
   ]
  },
  {
   "cell_type": "code",
   "execution_count": 49,
   "metadata": {},
   "outputs": [
    {
     "data": {
      "application/vnd.jupyter.widget-view+json": {
       "model_id": "2afdce8181a7444282863aadb0d92136",
       "version_major": 2,
       "version_minor": 0
      },
      "text/plain": [
       "Canvas(toolbar=Toolbar(toolitems=[('Home', 'Reset original view', 'home', 'home'), ('Back', 'Back to previous …"
      ]
     },
     "metadata": {},
     "output_type": "display_data"
    }
   ],
   "source": [
    "nn.plot_training_history(history, figsize=figsize)"
   ]
  },
  {
   "cell_type": "markdown",
   "metadata": {
    "slideshow": {
     "slide_type": "subslide"
    }
   },
   "source": [
    "## RNVP Approach\n",
    "\n",
    "**Now we can generate and plot the signal**"
   ]
  },
  {
   "cell_type": "code",
   "execution_count": 50,
   "metadata": {},
   "outputs": [
    {
     "data": {
      "application/vnd.jupyter.widget-view+json": {
       "model_id": "7555e95300b84b82bd2a3ef390679718",
       "version_major": 2,
       "version_minor": 0
      },
      "text/plain": [
       "Canvas(toolbar=Toolbar(toolitems=[('Home', 'Reset original view', 'home', 'home'), ('Back', 'Back to previous …"
      ]
     },
     "metadata": {},
     "output_type": "display_data"
    }
   ],
   "source": [
    "ldens = vs_rnvp.score_samples(vsbs.astype(np.float32).values)\n",
    "signal_vs = pd.Series(index=vsbs.index, data=-ldens)\n",
    "nn.plot_signal(signal_vs, figsize=figsize)"
   ]
  },
  {
   "cell_type": "markdown",
   "metadata": {
    "slideshow": {
     "slide_type": "subslide"
    }
   },
   "source": [
    "## RNVP Approach\n",
    "\n",
    "**Finally, we apply clipping and smoothing**"
   ]
  },
  {
   "cell_type": "code",
   "execution_count": 52,
   "metadata": {},
   "outputs": [
    {
     "data": {
      "application/vnd.jupyter.widget-view+json": {
       "model_id": "5dd5e944d87e47d6990c38611415c505",
       "version_major": 2,
       "version_minor": 0
      },
      "text/plain": [
       "Canvas(toolbar=Toolbar(toolitems=[('Home', 'Reset original view', 'home', 'home'), ('Back', 'Back to previous …"
      ]
     },
     "metadata": {},
     "output_type": "display_data"
    }
   ],
   "source": [
    "nn.plot_signal(signal_vs.clip(upper=10).ewm(512).mean(), figsize=figsize)"
   ]
  },
  {
   "cell_type": "markdown",
   "metadata": {},
   "source": [
    "* This is the signal with _the clearest trend so far_\n",
    "* Intuitively, component wear should grow _progressively_ over time"
   ]
  }
 ],
 "metadata": {
  "celltoolbar": "Slideshow",
  "kernelspec": {
   "display_name": "Python 3",
   "language": "python",
   "name": "python3"
  },
  "language_info": {
   "codemirror_mode": {
    "name": "ipython",
    "version": 3
   },
   "file_extension": ".py",
   "mimetype": "text/x-python",
   "name": "python",
   "nbconvert_exporter": "python",
   "pygments_lexer": "ipython3",
   "version": "3.6.9"
  },
  "rise": {
   "center": false,
   "transition": "fade"
  },
  "widgets": {
   "application/vnd.jupyter.widget-state+json": {
    "state": {},
    "version_major": 2,
    "version_minor": 0
   }
  }
 },
 "nbformat": 4,
 "nbformat_minor": 4
}
